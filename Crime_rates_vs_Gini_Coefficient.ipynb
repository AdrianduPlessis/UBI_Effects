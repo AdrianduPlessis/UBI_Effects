{
  "nbformat": 4,
  "nbformat_minor": 0,
  "metadata": {
    "colab": {
      "name": "Crime-rates vs Gini-Coefficient",
      "provenance": [],
      "include_colab_link": true
    },
    "kernelspec": {
      "name": "python3",
      "display_name": "Python 3"
    }
  },
  "cells": [
    {
      "cell_type": "markdown",
      "metadata": {
        "id": "view-in-github",
        "colab_type": "text"
      },
      "source": [
        "<a href=\"https://colab.research.google.com/github/AdrianduPlessis/UBI_Effects/blob/master/Crime_rates_vs_Gini_Coefficient.ipynb\" target=\"_parent\"><img src=\"https://colab.research.google.com/assets/colab-badge.svg\" alt=\"Open In Colab\"/></a>"
      ]
    },
    {
      "cell_type": "markdown",
      "metadata": {
        "id": "YGSMEAeOt56U",
        "colab_type": "text"
      },
      "source": [
        "###Installs and Imports"
      ]
    },
    {
      "cell_type": "markdown",
      "metadata": {
        "id": "jGlX7YZ6M4MG",
        "colab_type": "text"
      },
      "source": [
        "This notebook explores the relationship between income inequality and crime rates (on a per county level). It is an single link in a hypothesis chain that hopes to make valuable conclusions about the effects Universal Basic Income in relation to the Human experience.  \n",
        "  \n",
        "\n",
        "**Goal**: Determine how much of the variation in crime-rates can be explained by Income Inequality.  \n",
        "\n",
        "**Current Progress**: Currently the model represents an incremental, though insignificant improvement over a mean-baseline.    \n",
        "\n",
        "*   Foundational project data has been sourced.\n",
        "*   Data Engineering methods were used to create a common key on which to merge the relevant data.\n",
        "*   Crime incidences and population were used to engineer crime-rates.\n",
        "*   Mean-baseline established\n",
        "*   Fast First Linear Regression Model\n",
        "*   Experimental Random Tree Regressor Model: Does not exceed Fast First.\n",
        "*   Pattern exploration\n",
        "*   Engineered overall preportion of crimetype to identify anomalies.\n",
        "\n",
        "\n",
        "**Path Forward**:\n",
        "\n",
        "*   Identify features requered to accuratly model crime-rates\n",
        "*   Import, Clean, Merge and Wrangle new data\n",
        "*   Ensure no confounding variables in terms of Income Inequality\n",
        "*   Reach Statistically Significant Model Accuracy\n",
        "*   Determine how much variation is explained by income inequality\n",
        "\n",
        "\n",
        "**Current Results**: Inconclusive."
      ]
    },
    {
      "cell_type": "code",
      "metadata": {
        "id": "p-usnziQt_fy",
        "colab_type": "code",
        "outputId": "a61fd633-9e8c-44cd-ad06-6fe26d5d976f",
        "colab": {
          "base_uri": "https://localhost:8080/",
          "height": 228
        }
      },
      "source": [
        "!pip install eli5"
      ],
      "execution_count": 0,
      "outputs": [
        {
          "output_type": "stream",
          "text": [
            "Requirement already satisfied: eli5 in /usr/local/lib/python3.6/dist-packages (0.10.1)\n",
            "Requirement already satisfied: scipy in /usr/local/lib/python3.6/dist-packages (from eli5) (1.3.1)\n",
            "Requirement already satisfied: tabulate>=0.7.7 in /usr/local/lib/python3.6/dist-packages (from eli5) (0.8.5)\n",
            "Requirement already satisfied: attrs>16.0.0 in /usr/local/lib/python3.6/dist-packages (from eli5) (19.3.0)\n",
            "Requirement already satisfied: six in /usr/local/lib/python3.6/dist-packages (from eli5) (1.12.0)\n",
            "Requirement already satisfied: numpy>=1.9.0 in /usr/local/lib/python3.6/dist-packages (from eli5) (1.17.3)\n",
            "Requirement already satisfied: scikit-learn>=0.18 in /usr/local/lib/python3.6/dist-packages (from eli5) (0.21.3)\n",
            "Requirement already satisfied: graphviz in /usr/local/lib/python3.6/dist-packages (from eli5) (0.10.1)\n",
            "Requirement already satisfied: jinja2 in /usr/local/lib/python3.6/dist-packages (from eli5) (2.10.3)\n",
            "Requirement already satisfied: joblib>=0.11 in /usr/local/lib/python3.6/dist-packages (from scikit-learn>=0.18->eli5) (0.14.0)\n",
            "Requirement already satisfied: MarkupSafe>=0.23 in /usr/local/lib/python3.6/dist-packages (from jinja2->eli5) (1.1.1)\n"
          ],
          "name": "stdout"
        }
      ]
    },
    {
      "cell_type": "code",
      "metadata": {
        "id": "St3i6fovuGgm",
        "colab_type": "code",
        "outputId": "5562672f-c4e4-4c59-c11c-c0dd83dd0ccd",
        "colab": {
          "base_uri": "https://localhost:8080/",
          "height": 99
        }
      },
      "source": [
        "#importing necesary libraries\n",
        "import numpy as np\n",
        "import pandas as pd\n",
        "import seaborn as sns\n",
        "import eli5\n",
        "import pandas_profiling\n",
        "import matplotlib.pyplot as plt\n",
        "from sklearn.model_selection import train_test_split\n",
        "from sklearn.ensemble import RandomForestRegressor\n",
        "from sklearn.model_selection import cross_val_score\n",
        "from sklearn.linear_model import LinearRegression\n",
        "from sklearn.metrics import mean_squared_error\n",
        "from sklearn.metrics import mean_absolute_error\n",
        "from eli5.sklearn import PermutationImportance\n",
        "%matplotlib inline"
      ],
      "execution_count": 0,
      "outputs": [
        {
          "output_type": "stream",
          "text": [
            "Using TensorFlow backend.\n"
          ],
          "name": "stderr"
        },
        {
          "output_type": "display_data",
          "data": {
            "text/html": [
              "<p style=\"color: red;\">\n",
              "The default version of TensorFlow in Colab will soon switch to TensorFlow 2.x.<br>\n",
              "We recommend you <a href=\"https://www.tensorflow.org/guide/migrate\" target=\"_blank\">upgrade</a> now \n",
              "or ensure your notebook will continue to use TensorFlow 1.x via the <code>%tensorflow_version 1.x</code> magic:\n",
              "<a href=\"https://colab.research.google.com/notebooks/tensorflow_version.ipynb\" target=\"_blank\">more info</a>.</p>\n"
            ],
            "text/plain": [
              "<IPython.core.display.HTML object>"
            ]
          },
          "metadata": {
            "tags": []
          }
        }
      ]
    },
    {
      "cell_type": "code",
      "metadata": {
        "id": "VXEUE4kHuZfh",
        "colab_type": "code",
        "colab": {}
      },
      "source": [
        "#importing necesary datasets\n",
        "gini_5yr_est_2017 = pd.read_csv('https://raw.githubusercontent.com/AdrianduPlessis/UBI_Effects/master/data/gini_est_5yr_17.csv', skiprows=1)\n",
        "adult_arrests = pd.read_csv('https://raw.githubusercontent.com/AdrianduPlessis/UBI_Effects/master/data/ICPSR_36399/DS0004/36399-0004-Data.tsv', sep='\\t')\n",
        "FIPS = pd.read_csv('https://raw.githubusercontent.com/AdrianduPlessis/UBI_Effects/master/data/all-geocodes-v2016.xlsx%20-%20Sheet1.csv', skiprows=4)"
      ],
      "execution_count": 0,
      "outputs": []
    },
    {
      "cell_type": "code",
      "metadata": {
        "id": "QW3yBsJOurl9",
        "colab_type": "code",
        "colab": {}
      },
      "source": [
        "#Preparing datasets for merging"
      ],
      "execution_count": 0,
      "outputs": []
    },
    {
      "cell_type": "code",
      "metadata": {
        "id": "Ar8dIIfeu-vs",
        "colab_type": "code",
        "colab": {}
      },
      "source": [
        "def change_id_to_fips(id):\n",
        "  fips = int(id[-5:])\n",
        "  return fips\n",
        "\n",
        "def combine_cty_st_fips(cty, st):\n",
        "  full_fips = st*1000 + cty\n",
        "  return full_fips"
      ],
      "execution_count": 0,
      "outputs": []
    },
    {
      "cell_type": "code",
      "metadata": {
        "id": "n5FCn_1MvBTW",
        "colab_type": "code",
        "colab": {}
      },
      "source": [
        "gini_5yr_est_2017['Id'].apply(change_id_to_fips);\n",
        "\n",
        "FIPS['FIPS'] = combine_cty_st_fips(FIPS['County Code (FIPS)'], FIPS['State Code (FIPS)'])\n",
        "adult_arrests['FIPS'] = combine_cty_st_fips(adult_arrests['FIPS_CTY'], adult_arrests['FIPS_ST'])"
      ],
      "execution_count": 0,
      "outputs": []
    },
    {
      "cell_type": "code",
      "metadata": {
        "id": "GplrSwwYva8O",
        "colab_type": "code",
        "colab": {}
      },
      "source": [
        "#Note: missing gini data for 35 counties (based on shapes of dfs being merged)\n",
        "arrest_by_ineq = adult_arrests.merge(gini_5yr_est_2017, left_on='FIPS', right_on='Id2')"
      ],
      "execution_count": 0,
      "outputs": []
    },
    {
      "cell_type": "markdown",
      "metadata": {
        "id": "5gmC8EazwJh6",
        "colab_type": "text"
      },
      "source": [
        "###Data Cleaning and Feature Engineering"
      ]
    },
    {
      "cell_type": "code",
      "metadata": {
        "id": "ZQbA8_zvwP7Y",
        "colab_type": "code",
        "colab": {}
      },
      "source": [
        "#Create dictionary to lookup State based on state FIPS\n",
        "State_FIPS = FIPS[FIPS['County Code (FIPS)']==0]\n",
        "State_FIPS = State_FIPS[State_FIPS['Summary Level']==40]\n",
        "lookup_state_FIPS = dict(zip(State_FIPS['State Code (FIPS)'],\n",
        "                             State_FIPS['Area Name (including legal/statistical area description)']))\n",
        "\n",
        "adult_arrests['state'] = adult_arrests['FIPS_ST'].map(lookup_state_FIPS)"
      ],
      "execution_count": 0,
      "outputs": []
    },
    {
      "cell_type": "code",
      "metadata": {
        "id": "qKdsWOinxAVw",
        "colab_type": "code",
        "colab": {}
      },
      "source": [
        "#Normalize reported incidences for population size\n",
        "\n",
        "def control_for_population(df, feature, population):\n",
        "  df[feature] = df[feature]/df[population]\n",
        "  return df \n",
        "\n",
        "crime_types = ['VIOL', 'PROPERTY', 'MURDER', 'RAPE', \n",
        "               'ROBBERY', 'AGASSLT', 'BURGLRY', 'LARCENY', \n",
        "               'MVTHEFT','ARSON']\n",
        "\n",
        "population = arrest_by_ineq['CPOPARST']\n",
        "\n",
        "for crime in crime_types:\n",
        "  arrest_by_ineq[crime] = arrest_by_ineq[crime]/population\n",
        "\n",
        "#Drop NaNs (5 observations)\n",
        "arrest_by_ineq = arrest_by_ineq.dropna()"
      ],
      "execution_count": 0,
      "outputs": []
    },
    {
      "cell_type": "markdown",
      "metadata": {
        "id": "Yv0wUkeA6ljp",
        "colab_type": "text"
      },
      "source": [
        "###Train/Test/Val Split"
      ]
    },
    {
      "cell_type": "code",
      "metadata": {
        "id": "XVV8g_dO6u_i",
        "colab_type": "code",
        "colab": {}
      },
      "source": [
        "y = arrest_by_ineq['Estimate; Gini Index']\n",
        "X = arrest_by_ineq[crime_types]\n",
        "\n",
        "#Train/Test Split\n",
        "X_remaining, X_test, y_remaining, y_test = train_test_split(\n",
        "    X, y, test_size=0.3, random_state=42)\n",
        "\n",
        "#Train/Validation Split\n",
        "X_train, X_val, y_train, y_val = train_test_split(\n",
        "    X_remaining, y_remaining, test_size=0.3, random_state=42)"
      ],
      "execution_count": 0,
      "outputs": []
    },
    {
      "cell_type": "markdown",
      "metadata": {
        "id": "V40O3bEM5Rc6",
        "colab_type": "text"
      },
      "source": [
        "###Establish mean baseline"
      ]
    },
    {
      "cell_type": "code",
      "metadata": {
        "id": "kvA8xmI5-oCX",
        "colab_type": "code",
        "colab": {}
      },
      "source": [
        "def evaluate_model(predictions, true):\n",
        "  mae = mean_absolute_error(predictions, true)\n",
        "  r2e = mean_squared_error(predictions, true)\n",
        "  print(\"Baseline: \\n\",\n",
        "        \"MAE: \", round(mae, 4), ' which is ', round(mae/true.mean()*100, 2), \"%\\n\",\n",
        "        \"r^2 error: \", round(r2e, 7), '\\n')"
      ],
      "execution_count": 0,
      "outputs": []
    },
    {
      "cell_type": "code",
      "metadata": {
        "id": "cZ_F0GBX5X5D",
        "colab_type": "code",
        "outputId": "47cb62b1-c343-4556-be97-eae524f05d50",
        "colab": {
          "base_uri": "https://localhost:8080/",
          "height": 87
        }
      },
      "source": [
        "#mean baseline\n",
        "y_baseline = [y_train.mean()] * len(y_train)\n",
        "evaluate_model(y_baseline, y_train)"
      ],
      "execution_count": 0,
      "outputs": [
        {
          "output_type": "stream",
          "text": [
            "Baseline: \n",
            " MAE:  0.0271  which is  6.11 %\n",
            " r^2 error:  0.00121 \n",
            "\n"
          ],
          "name": "stdout"
        }
      ]
    },
    {
      "cell_type": "markdown",
      "metadata": {
        "id": "O1FUpxdQ5-zL",
        "colab_type": "text"
      },
      "source": [
        "###Fast First Model"
      ]
    },
    {
      "cell_type": "code",
      "metadata": {
        "id": "Q0ZYFt3s8IeB",
        "colab_type": "code",
        "outputId": "e1307d7f-32b9-416c-c220-040685468a82",
        "colab": {
          "base_uri": "https://localhost:8080/",
          "height": 87
        }
      },
      "source": [
        "linear_regressor = LinearRegression()  # create object for the class\n",
        "linear_regressor.fit(X_train, y_train)  # perform linear regression\n",
        "y_ff_pred = linear_regressor.predict(X_val)  # make predictions\n",
        "evaluate_model(y_ff_pred, y_val)"
      ],
      "execution_count": 0,
      "outputs": [
        {
          "output_type": "stream",
          "text": [
            "Baseline: \n",
            " MAE:  0.0262  which is  5.88 %\n",
            " r^2 error:  0.0011125 \n",
            "\n"
          ],
          "name": "stdout"
        }
      ]
    },
    {
      "cell_type": "markdown",
      "metadata": {
        "id": "iJLywloCAQPM",
        "colab_type": "text"
      },
      "source": [
        "Some observed improvement over mean baseline means there might be some predictive value in this dataset. This warrents a more robust model and efforts."
      ]
    },
    {
      "cell_type": "markdown",
      "metadata": {
        "id": "BLNTW_t0Avlt",
        "colab_type": "text"
      },
      "source": [
        "###Random Forest Regressor"
      ]
    },
    {
      "cell_type": "code",
      "metadata": {
        "id": "c_SmR9F-ANlT",
        "colab_type": "code",
        "colab": {}
      },
      "source": [
        "model = RandomForestRegressor(criterion='mae', n_estimators=100, max_depth=5)\n",
        "model.fit(X_train, y_train);"
      ],
      "execution_count": 0,
      "outputs": []
    },
    {
      "cell_type": "code",
      "metadata": {
        "id": "Qb-AxDtmKFSC",
        "colab_type": "code",
        "outputId": "7eefe4ae-9ae8-4ff3-9a37-dc0009c1af55",
        "colab": {
          "base_uri": "https://localhost:8080/",
          "height": 208
        }
      },
      "source": [
        "#Visualize feature importances to gain model insight\n",
        "permuter = PermutationImportance(\n",
        "    model,\n",
        "    n_iter=2,\n",
        "    random_state=42\n",
        ")\n",
        "\n",
        "permuter.fit(X_train, y_train)\n",
        "feature_names = X_train.columns.tolist()\n",
        "\n",
        "eli5.show_weights(\n",
        "    permuter,\n",
        "    top=None,\n",
        "    feature_names = feature_names,\n",
        ")"
      ],
      "execution_count": 0,
      "outputs": [
        {
          "output_type": "execute_result",
          "data": {
            "text/html": [
              "\n",
              "    <style>\n",
              "    table.eli5-weights tr:hover {\n",
              "        filter: brightness(85%);\n",
              "    }\n",
              "</style>\n",
              "\n",
              "\n",
              "\n",
              "    \n",
              "\n",
              "    \n",
              "\n",
              "    \n",
              "\n",
              "    \n",
              "\n",
              "    \n",
              "\n",
              "    \n",
              "\n",
              "\n",
              "    \n",
              "\n",
              "    \n",
              "\n",
              "    \n",
              "\n",
              "    \n",
              "\n",
              "    \n",
              "\n",
              "    \n",
              "\n",
              "\n",
              "    \n",
              "\n",
              "    \n",
              "\n",
              "    \n",
              "\n",
              "    \n",
              "\n",
              "    \n",
              "        <table class=\"eli5-weights eli5-feature-importances\" style=\"border-collapse: collapse; border: none; margin-top: 0em; table-layout: auto;\">\n",
              "    <thead>\n",
              "    <tr style=\"border: none;\">\n",
              "        <th style=\"padding: 0 1em 0 0.5em; text-align: right; border: none;\">Weight</th>\n",
              "        <th style=\"padding: 0 0.5em 0 0.5em; text-align: left; border: none;\">Feature</th>\n",
              "    </tr>\n",
              "    </thead>\n",
              "    <tbody>\n",
              "    \n",
              "        <tr style=\"background-color: hsl(120, 100.00%, 80.00%); border: none;\">\n",
              "            <td style=\"padding: 0 1em 0 0.5em; text-align: right; border: none;\">\n",
              "                0.2859\n",
              "                \n",
              "                    &plusmn; 0.0178\n",
              "                \n",
              "            </td>\n",
              "            <td style=\"padding: 0 0.5em 0 0.5em; text-align: left; border: none;\">\n",
              "                ROBBERY\n",
              "            </td>\n",
              "        </tr>\n",
              "    \n",
              "        <tr style=\"background-color: hsl(120, 100.00%, 89.96%); border: none;\">\n",
              "            <td style=\"padding: 0 1em 0 0.5em; text-align: right; border: none;\">\n",
              "                0.1069\n",
              "                \n",
              "                    &plusmn; 0.0257\n",
              "                \n",
              "            </td>\n",
              "            <td style=\"padding: 0 0.5em 0 0.5em; text-align: left; border: none;\">\n",
              "                BURGLRY\n",
              "            </td>\n",
              "        </tr>\n",
              "    \n",
              "        <tr style=\"background-color: hsl(120, 100.00%, 94.16%); border: none;\">\n",
              "            <td style=\"padding: 0 1em 0 0.5em; text-align: right; border: none;\">\n",
              "                0.0492\n",
              "                \n",
              "                    &plusmn; 0.0002\n",
              "                \n",
              "            </td>\n",
              "            <td style=\"padding: 0 0.5em 0 0.5em; text-align: left; border: none;\">\n",
              "                LARCENY\n",
              "            </td>\n",
              "        </tr>\n",
              "    \n",
              "        <tr style=\"background-color: hsl(120, 100.00%, 94.24%); border: none;\">\n",
              "            <td style=\"padding: 0 1em 0 0.5em; text-align: right; border: none;\">\n",
              "                0.0483\n",
              "                \n",
              "                    &plusmn; 0.0015\n",
              "                \n",
              "            </td>\n",
              "            <td style=\"padding: 0 0.5em 0 0.5em; text-align: left; border: none;\">\n",
              "                VIOL\n",
              "            </td>\n",
              "        </tr>\n",
              "    \n",
              "        <tr style=\"background-color: hsl(120, 100.00%, 96.51%); border: none;\">\n",
              "            <td style=\"padding: 0 1em 0 0.5em; text-align: right; border: none;\">\n",
              "                0.0236\n",
              "                \n",
              "                    &plusmn; 0.0029\n",
              "                \n",
              "            </td>\n",
              "            <td style=\"padding: 0 0.5em 0 0.5em; text-align: left; border: none;\">\n",
              "                PROPERTY\n",
              "            </td>\n",
              "        </tr>\n",
              "    \n",
              "        <tr style=\"background-color: hsl(120, 100.00%, 97.02%); border: none;\">\n",
              "            <td style=\"padding: 0 1em 0 0.5em; text-align: right; border: none;\">\n",
              "                0.0188\n",
              "                \n",
              "                    &plusmn; 0.0024\n",
              "                \n",
              "            </td>\n",
              "            <td style=\"padding: 0 0.5em 0 0.5em; text-align: left; border: none;\">\n",
              "                MVTHEFT\n",
              "            </td>\n",
              "        </tr>\n",
              "    \n",
              "        <tr style=\"background-color: hsl(120, 100.00%, 97.03%); border: none;\">\n",
              "            <td style=\"padding: 0 1em 0 0.5em; text-align: right; border: none;\">\n",
              "                0.0187\n",
              "                \n",
              "                    &plusmn; 0.0037\n",
              "                \n",
              "            </td>\n",
              "            <td style=\"padding: 0 0.5em 0 0.5em; text-align: left; border: none;\">\n",
              "                MURDER\n",
              "            </td>\n",
              "        </tr>\n",
              "    \n",
              "        <tr style=\"background-color: hsl(120, 100.00%, 97.11%); border: none;\">\n",
              "            <td style=\"padding: 0 1em 0 0.5em; text-align: right; border: none;\">\n",
              "                0.0180\n",
              "                \n",
              "                    &plusmn; 0.0009\n",
              "                \n",
              "            </td>\n",
              "            <td style=\"padding: 0 0.5em 0 0.5em; text-align: left; border: none;\">\n",
              "                RAPE\n",
              "            </td>\n",
              "        </tr>\n",
              "    \n",
              "        <tr style=\"background-color: hsl(120, 100.00%, 97.30%); border: none;\">\n",
              "            <td style=\"padding: 0 1em 0 0.5em; text-align: right; border: none;\">\n",
              "                0.0164\n",
              "                \n",
              "                    &plusmn; 0.0012\n",
              "                \n",
              "            </td>\n",
              "            <td style=\"padding: 0 0.5em 0 0.5em; text-align: left; border: none;\">\n",
              "                ARSON\n",
              "            </td>\n",
              "        </tr>\n",
              "    \n",
              "        <tr style=\"background-color: hsl(120, 100.00%, 97.82%); border: none;\">\n",
              "            <td style=\"padding: 0 1em 0 0.5em; text-align: right; border: none;\">\n",
              "                0.0121\n",
              "                \n",
              "                    &plusmn; 0.0044\n",
              "                \n",
              "            </td>\n",
              "            <td style=\"padding: 0 0.5em 0 0.5em; text-align: left; border: none;\">\n",
              "                AGASSLT\n",
              "            </td>\n",
              "        </tr>\n",
              "    \n",
              "    \n",
              "    </tbody>\n",
              "</table>\n",
              "    \n",
              "\n",
              "    \n",
              "\n",
              "\n",
              "    \n",
              "\n",
              "    \n",
              "\n",
              "    \n",
              "\n",
              "    \n",
              "\n",
              "    \n",
              "\n",
              "    \n",
              "\n",
              "\n",
              "\n"
            ],
            "text/plain": [
              "<IPython.core.display.HTML object>"
            ]
          },
          "metadata": {
            "tags": []
          },
          "execution_count": 15
        }
      ]
    },
    {
      "cell_type": "code",
      "metadata": {
        "id": "qt_2qaQIBoZq",
        "colab_type": "code",
        "outputId": "84052cd8-8780-4241-d4c5-56839efd81f9",
        "colab": {
          "base_uri": "https://localhost:8080/",
          "height": 87
        }
      },
      "source": [
        "y_train_pred = model.predict(X_train)\n",
        "\n",
        "#Checking for obvious overfitting\n",
        "evaluate_model(y_train_pred, y_train)"
      ],
      "execution_count": 0,
      "outputs": [
        {
          "output_type": "stream",
          "text": [
            "Baseline: \n",
            " MAE:  0.0224  which is  5.05 %\n",
            " r^2 error:  0.0009072 \n",
            "\n"
          ],
          "name": "stdout"
        }
      ]
    },
    {
      "cell_type": "code",
      "metadata": {
        "id": "WbcGnoQSESlN",
        "colab_type": "code",
        "outputId": "74d8595a-3db0-4ba7-bfe9-581981c507e6",
        "colab": {
          "base_uri": "https://localhost:8080/",
          "height": 87
        }
      },
      "source": [
        "y_val_pred = model.predict(X_val)\n",
        "evaluate_model(y_val_pred, y_val)"
      ],
      "execution_count": 0,
      "outputs": [
        {
          "output_type": "stream",
          "text": [
            "Baseline: \n",
            " MAE:  0.0261  which is  5.86 %\n",
            " r^2 error:  0.0011228 \n",
            "\n"
          ],
          "name": "stdout"
        }
      ]
    },
    {
      "cell_type": "markdown",
      "metadata": {
        "id": "TZocD-NuGl_j",
        "colab_type": "text"
      },
      "source": [
        "The training set outperforming the validation set is an indicator of over-fitting. There is also no significant improvement over either the fast first model or the mean baseline.  \n",
        "Continued effort modeling Gini Coefficients based on the current feature set would be wasteful. "
      ]
    },
    {
      "cell_type": "markdown",
      "metadata": {
        "id": "i1lQTM0nJYoC",
        "colab_type": "text"
      },
      "source": [
        "###Dataset investigation"
      ]
    },
    {
      "cell_type": "markdown",
      "metadata": {
        "id": "HuGiqgXFKhU7",
        "colab_type": "text"
      },
      "source": [
        "If this dataset cannot be used to predict income inequality, let's see what information we can extract by visualizing the data."
      ]
    },
    {
      "cell_type": "code",
      "metadata": {
        "id": "lxQeoZNmIDRw",
        "colab_type": "code",
        "outputId": "ec143541-df66-49a8-c2c5-18ecb3a680b4",
        "colab": {
          "base_uri": "https://localhost:8080/",
          "height": 334
        }
      },
      "source": [
        "#Overview\n",
        "arrest_by_ineq.head(3)"
      ],
      "execution_count": 0,
      "outputs": [
        {
          "output_type": "execute_result",
          "data": {
            "text/html": [
              "<div>\n",
              "<style scoped>\n",
              "    .dataframe tbody tr th:only-of-type {\n",
              "        vertical-align: middle;\n",
              "    }\n",
              "\n",
              "    .dataframe tbody tr th {\n",
              "        vertical-align: top;\n",
              "    }\n",
              "\n",
              "    .dataframe thead th {\n",
              "        text-align: right;\n",
              "    }\n",
              "</style>\n",
              "<table border=\"1\" class=\"dataframe\">\n",
              "  <thead>\n",
              "    <tr style=\"text-align: right;\">\n",
              "      <th></th>\n",
              "      <th>STUDYNO</th>\n",
              "      <th>EDITION</th>\n",
              "      <th>PART</th>\n",
              "      <th>IDNO</th>\n",
              "      <th>FIPS_ST</th>\n",
              "      <th>FIPS_CTY</th>\n",
              "      <th>CPOPARST</th>\n",
              "      <th>CPOPCRIM</th>\n",
              "      <th>AG_ARRST</th>\n",
              "      <th>AG_OFF</th>\n",
              "      <th>COVIND</th>\n",
              "      <th>VIOL</th>\n",
              "      <th>PROPERTY</th>\n",
              "      <th>MURDER</th>\n",
              "      <th>RAPE</th>\n",
              "      <th>ROBBERY</th>\n",
              "      <th>AGASSLT</th>\n",
              "      <th>BURGLRY</th>\n",
              "      <th>LARCENY</th>\n",
              "      <th>MVTHEFT</th>\n",
              "      <th>ARSON</th>\n",
              "      <th>FIPS</th>\n",
              "      <th>Id</th>\n",
              "      <th>Id2</th>\n",
              "      <th>Geography</th>\n",
              "      <th>Estimate; Gini Index</th>\n",
              "      <th>Margin of Error; Gini Index</th>\n",
              "    </tr>\n",
              "  </thead>\n",
              "  <tbody>\n",
              "    <tr>\n",
              "      <th>0</th>\n",
              "      <td>9999</td>\n",
              "      <td>1</td>\n",
              "      <td>4</td>\n",
              "      <td>1</td>\n",
              "      <td>1</td>\n",
              "      <td>1</td>\n",
              "      <td>57217</td>\n",
              "      <td>54579</td>\n",
              "      <td>3</td>\n",
              "      <td>3</td>\n",
              "      <td>100.0000</td>\n",
              "      <td>0.002517</td>\n",
              "      <td>0.028401</td>\n",
              "      <td>0.000035</td>\n",
              "      <td>0.000315</td>\n",
              "      <td>0.000647</td>\n",
              "      <td>0.001521</td>\n",
              "      <td>0.006746</td>\n",
              "      <td>0.019400</td>\n",
              "      <td>0.002255</td>\n",
              "      <td>0.000245</td>\n",
              "      <td>1001</td>\n",
              "      <td>0500000US01001</td>\n",
              "      <td>1001</td>\n",
              "      <td>Autauga County, Alabama</td>\n",
              "      <td>0.4501</td>\n",
              "      <td>0.0391</td>\n",
              "    </tr>\n",
              "    <tr>\n",
              "      <th>1</th>\n",
              "      <td>9999</td>\n",
              "      <td>1</td>\n",
              "      <td>4</td>\n",
              "      <td>2</td>\n",
              "      <td>1</td>\n",
              "      <td>3</td>\n",
              "      <td>198843</td>\n",
              "      <td>193083</td>\n",
              "      <td>14</td>\n",
              "      <td>13</td>\n",
              "      <td>96.0428</td>\n",
              "      <td>0.001876</td>\n",
              "      <td>0.020418</td>\n",
              "      <td>0.000020</td>\n",
              "      <td>0.000166</td>\n",
              "      <td>0.000312</td>\n",
              "      <td>0.001378</td>\n",
              "      <td>0.003872</td>\n",
              "      <td>0.015927</td>\n",
              "      <td>0.000619</td>\n",
              "      <td>0.000091</td>\n",
              "      <td>1003</td>\n",
              "      <td>0500000US01003</td>\n",
              "      <td>1003</td>\n",
              "      <td>Baldwin County, Alabama</td>\n",
              "      <td>0.4618</td>\n",
              "      <td>0.0100</td>\n",
              "    </tr>\n",
              "    <tr>\n",
              "      <th>2</th>\n",
              "      <td>9999</td>\n",
              "      <td>1</td>\n",
              "      <td>4</td>\n",
              "      <td>3</td>\n",
              "      <td>1</td>\n",
              "      <td>5</td>\n",
              "      <td>27026</td>\n",
              "      <td>25154</td>\n",
              "      <td>5</td>\n",
              "      <td>4</td>\n",
              "      <td>96.0536</td>\n",
              "      <td>0.003589</td>\n",
              "      <td>0.024421</td>\n",
              "      <td>0.000111</td>\n",
              "      <td>0.000370</td>\n",
              "      <td>0.000518</td>\n",
              "      <td>0.002590</td>\n",
              "      <td>0.006327</td>\n",
              "      <td>0.016799</td>\n",
              "      <td>0.001332</td>\n",
              "      <td>0.000037</td>\n",
              "      <td>1005</td>\n",
              "      <td>0500000US01005</td>\n",
              "      <td>1005</td>\n",
              "      <td>Barbour County, Alabama</td>\n",
              "      <td>0.4622</td>\n",
              "      <td>0.0148</td>\n",
              "    </tr>\n",
              "  </tbody>\n",
              "</table>\n",
              "</div>"
            ],
            "text/plain": [
              "   STUDYNO  EDITION  ...  Estimate; Gini Index  Margin of Error; Gini Index\n",
              "0     9999        1  ...                0.4501                       0.0391\n",
              "1     9999        1  ...                0.4618                       0.0100\n",
              "2     9999        1  ...                0.4622                       0.0148\n",
              "\n",
              "[3 rows x 27 columns]"
            ]
          },
          "metadata": {
            "tags": []
          },
          "execution_count": 18
        }
      ]
    },
    {
      "cell_type": "code",
      "metadata": {
        "id": "O4KiNEo7LjGb",
        "colab_type": "code",
        "outputId": "c1cbaaf7-b75b-464a-9aed-ed5e4c74c35e",
        "colab": {
          "base_uri": "https://localhost:8080/",
          "height": 297
        }
      },
      "source": [
        "ax = sns.scatterplot(x=y, y=X['ROBBERY'], alpha=0.01)"
      ],
      "execution_count": 0,
      "outputs": [
        {
          "output_type": "execute_result",
          "data": {
            "text/plain": [
              "<matplotlib.collections.PathCollection at 0x7f63320b7710>"
            ]
          },
          "metadata": {
            "tags": []
          },
          "execution_count": 37
        },
        {
          "output_type": "display_data",
          "data": {
            "image/png": "[encoded data removed]",
            "text/plain": [
              "<Figure size 432x288 with 1 Axes>"
            ]
          },
          "metadata": {
            "tags": []
          }
        }
      ]
    },
    {
      "cell_type": "code",
      "metadata": {
        "id": "qZHBd0JfNJwd",
        "colab_type": "code",
        "outputId": "ce2ec9b0-d444-4147-a5cf-6638809c2904",
        "colab": {
          "base_uri": "https://localhost:8080/",
          "height": 297
        }
      },
      "source": [
        "sns.distplot(X['ROBBERY'])"
      ],
      "execution_count": 0,
      "outputs": [
        {
          "output_type": "execute_result",
          "data": {
            "text/plain": [
              "<matplotlib.axes._subplots.AxesSubplot at 0x7f6335ab1c88>"
            ]
          },
          "metadata": {
            "tags": []
          },
          "execution_count": 20
        },
        {
          "output_type": "display_data",
          "data": {
            "image/png": "[encoded data removed]",
            "text/plain": [
              "<Figure size 432x288 with 1 Axes>"
            ]
          },
          "metadata": {
            "tags": []
          }
        }
      ]
    },
    {
      "cell_type": "code",
      "metadata": {
        "id": "Y32fFm52ReSX",
        "colab_type": "code",
        "outputId": "cc6321ab-b29d-4b88-a3af-162526437678",
        "colab": {
          "base_uri": "https://localhost:8080/",
          "height": 459
        }
      },
      "source": [
        " r = sns.jointplot(x=y, y=X['ROBBERY'], kind=\"kde\", color=\"k\", ylim=(-0.0001,0.001), xlim=(0.35, 0.55));\n",
        " r.ax_joint.axvline(x=y.mean(), color='k')\n",
        " r.ax_joint.axhline(y=X['ROBBERY'].mean(), color='k')\n",
        " r.set_axis_labels(ylabel='Robberies per Thousand', xlabel='Gini Coefficient')\n",
        " "
      ],
      "execution_count": 0,
      "outputs": [
        {
          "output_type": "execute_result",
          "data": {
            "text/plain": [
              "<seaborn.axisgrid.JointGrid at 0x7f6331674c18>"
            ]
          },
          "metadata": {
            "tags": []
          },
          "execution_count": 49
        },
        {
          "output_type": "display_data",
          "data": {
            "image/png": "[encoded data removed]",
            "text/plain": [
              "<Figure size 432x432 with 3 Axes>"
            ]
          },
          "metadata": {
            "tags": []
          }
        }
      ]
    },
    {
      "cell_type": "code",
      "metadata": {
        "id": "k7vpuCF3VEDr",
        "colab_type": "code",
        "outputId": "27e0a7ca-cab3-454e-8396-1f95794d8835",
        "colab": {
          "base_uri": "https://localhost:8080/",
          "height": 459
        }
      },
      "source": [
        "r = sns.jointplot(x=y, y=X['PROPERTY'], kind=\"kde\", color=\"k\", ylim=(-0.005,0.05), xlim=(0.3,0.55));\n",
        "r.ax_joint.axvline(x=y.mean(), color='k')\n",
        "r.ax_joint.axhline(y=X['PROPERTY'].mean(), color='k')\n",
        "r.set_axis_labels(ylabel='Property Crimes per Thousand', xlabel='Gini Coefficient')"
      ],
      "execution_count": 0,
      "outputs": [
        {
          "output_type": "execute_result",
          "data": {
            "text/plain": [
              "<seaborn.axisgrid.JointGrid at 0x7f6331ac6d68>"
            ]
          },
          "metadata": {
            "tags": []
          },
          "execution_count": 44
        },
        {
          "output_type": "display_data",
          "data": {
            "image/png": "[encoded data removed]",
            "text/plain": [
              "<Figure size 432x432 with 3 Axes>"
            ]
          },
          "metadata": {
            "tags": []
          }
        }
      ]
    },
    {
      "cell_type": "code",
      "metadata": {
        "id": "RfC6QFqtWpRH",
        "colab_type": "code",
        "outputId": "74a19e48-e415-4d61-f1bc-ae04df6ea2ce",
        "colab": {
          "base_uri": "https://localhost:8080/",
          "height": 459
        }
      },
      "source": [
        "r = sns.jointplot(x=y, y=X['RAPE'], kind=\"kde\", color=\"k\", ylim=(-0.0002,0.001));\n",
        "r.ax_joint.axvline(x=y.mean(), color='k')\n",
        "r.ax_joint.axhline(y=X['RAPE'].mean(), color='k')\n",
        "r.set_axis_labels(ylabel='Rape Crimes per Thousand', xlabel='Gini Coefficient')"
      ],
      "execution_count": 0,
      "outputs": [
        {
          "output_type": "execute_result",
          "data": {
            "text/plain": [
              "<seaborn.axisgrid.JointGrid at 0x7f6331ac6320>"
            ]
          },
          "metadata": {
            "tags": []
          },
          "execution_count": 46
        },
        {
          "output_type": "display_data",
          "data": {
            "image/png": "[encoded data removed]",
            "text/plain": [
              "<Figure size 432x432 with 3 Axes>"
            ]
          },
          "metadata": {
            "tags": []
          }
        }
      ]
    },
    {
      "cell_type": "code",
      "metadata": {
        "id": "mOvoWiuTXtd6",
        "colab_type": "code",
        "outputId": "290061c4-50e5-4a5b-c25c-0a8baf19e10c",
        "colab": {
          "base_uri": "https://localhost:8080/",
          "height": 459
        }
      },
      "source": [
        " r = sns.jointplot(x=y, y=X['LARCENY'], kind=\"kde\", color=\"k\", ylim=(-0.005, 0.04), xlim=(0.35, 0.55));\n",
        " r.ax_joint.axvline(x=y.mean(), color='k')\n",
        " r.ax_joint.axhline(y=X['LARCENY'].mean(), color='k')\n",
        " r.set_axis_labels(ylabel='Larceny Crimes per Thousand', xlabel='Gini Coefficient')"
      ],
      "execution_count": 0,
      "outputs": [
        {
          "output_type": "execute_result",
          "data": {
            "text/plain": [
              "<seaborn.axisgrid.JointGrid at 0x7f63315af6a0>"
            ]
          },
          "metadata": {
            "tags": []
          },
          "execution_count": 48
        },
        {
          "output_type": "display_data",
          "data": {
            "image/png": "[encoded data removed]",
            "text/plain": [
              "<Figure size 432x432 with 3 Axes>"
            ]
          },
          "metadata": {
            "tags": []
          }
        }
      ]
    },
    {
      "cell_type": "markdown",
      "metadata": {
        "id": "coJp7QLJ6BTI",
        "colab_type": "text"
      },
      "source": [
        "Observations: Generaly the higher the Gini, the broader the range of crime rates."
      ]
    },
    {
      "cell_type": "markdown",
      "metadata": {
        "id": "lLYF1TP-aj1r",
        "colab_type": "text"
      },
      "source": [
        "###Disproportional rate of crime compared to gini\n"
      ]
    },
    {
      "cell_type": "code",
      "metadata": {
        "id": "GY9uWnzAcsM4",
        "colab_type": "code",
        "colab": {}
      },
      "source": [
        "reported_crimes = ['VIOL', 'PROPERTY', 'MURDER', 'RAPE', \n",
        "               'ROBBERY', 'AGASSLT', 'BURGLRY', 'LARCENY', \n",
        "               'MVTHEFT','ARSON']\n",
        "\n",
        "def find_expected_proportion(df, features):\n",
        "  totals = []\n",
        "  proportions = []\n",
        "  for feature in features:\n",
        "    totals.append(df[feature].sum())\n",
        "  \n",
        "  for value in totals:\n",
        "    proportions.append(value/sum(totals))\n",
        "\n",
        "  return proportions"
      ],
      "execution_count": 0,
      "outputs": []
    },
    {
      "cell_type": "code",
      "metadata": {
        "id": "1OCwHpoHfs0N",
        "colab_type": "code",
        "outputId": "bf0b9490-b012-4800-c77a-d3f509222d8d",
        "colab": {
          "base_uri": "https://localhost:8080/",
          "height": 191
        }
      },
      "source": [
        "proportions = find_expected_proportion(adult_arrests, reported_crimes)\n",
        "proportions"
      ],
      "execution_count": 0,
      "outputs": [
        {
          "output_type": "execute_result",
          "data": {
            "text/plain": [
              "[0.06301344158051118,\n",
              " 0.43576266699905825,\n",
              " 0.0007556140425351276,\n",
              " 0.005887981691784854,\n",
              " 0.017315420599283645,\n",
              " 0.039047936040215774,\n",
              " 0.09091951788438883,\n",
              " 0.3080959072303011,\n",
              " 0.03674269943968404,\n",
              " 0.0024588144922371514]"
            ]
          },
          "metadata": {
            "tags": []
          },
          "execution_count": 26
        }
      ]
    },
    {
      "cell_type": "markdown",
      "metadata": {
        "id": "fMVKu1ApapSN",
        "colab_type": "text"
      },
      "source": [
        ""
      ]
    }
  ]
}