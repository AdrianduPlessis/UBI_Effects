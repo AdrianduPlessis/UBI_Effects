{
  "nbformat": 4,
  "nbformat_minor": 0,
  "metadata": {
    "colab": {
      "name": "ML Project Proposal",
      "provenance": [],
      "collapsed_sections": [],
      "include_colab_link": true
    },
    "kernelspec": {
      "name": "python3",
      "display_name": "Python 3"
    }
  },
  "cells": [
    {
      "cell_type": "markdown",
      "metadata": {
        "id": "view-in-github",
        "colab_type": "text"
      },
      "source": [
        "<a href=\"https://colab.research.google.com/github/AdrianduPlessis/UBI_Effects/blob/master/ML_Project_Proposal.ipynb\" target=\"_parent\"><img src=\"https://colab.research.google.com/assets/colab-badge.svg\" alt=\"Open In Colab\"/></a>"
      ]
    },
    {
      "cell_type": "markdown",
      "metadata": {
        "id": "-OOhWspmNpzF",
        "colab_type": "text"
      },
      "source": [
        "#Hidden Effects of a UBI"
      ]
    },
    {
      "cell_type": "markdown",
      "metadata": {
        "id": "3DQtYb76FU7y",
        "colab_type": "text"
      },
      "source": [
        "Universal Basic Income (UBI) is not a new idea, I myself was introduced to the idea when Elon Musk first mentioned it in an interview back in 2017. Recently one of the democratic candidates, Andrew Yang, has been moving the idea closer to reality than it has ever been (on a massive scale, at least). With more attention than ever on UBI, some interesting opinions are being aired as to the possible social implications this massive economic disruption might have.  \n",
        "\n",
        "Thinking through these issues myself, a lucky synapse fired reminding me of the Gini Index. The Gini Index is essentially a metric representing the inequality of income distribution within a certain geography. A UBI would obviously have the effect of lowering the Gini Index, most drastically on the bottom end. \n",
        " \n",
        "'Alright, so what?' I can hear you thinking. So this: The only reason I remember anything at all from the obscure YouTube video that introduced me to the Gini Index is because of the powerful correlation that exists between the Gini Index and adult_arrests rates. Anywhere on the spectrum... if you take two of the weathiest neighborhoods California, for example, and calculate the Gini Index for just those two neighborhoods, the neighborhood with the higher Gini Coefficient will (with some confidence) have the higher adult_arrests rate.  \n",
        "\n",
        "'Neato, but so what?' Well, let me put it to you that using per county Gini Index, Income, and adult_arrests Rate data-- a decent ML model should be able to predict the reduction in adult_arrests rates of a given UBI ammount.  \n",
        "\n",
        "**What's more:** that predicted reduction in adult_arrests-rate could be translated into reduced cost of incarseration (including burden of legal fees) to the government, information that would be very useful to a hopeful candidate trying to explain the value of the idea that their political campaign is based on."
      ]
    },
    {
      "cell_type": "markdown",
      "metadata": {
        "id": "n696ppW6uJgw",
        "colab_type": "text"
      },
      "source": [
        "#Hyp: income inequality -> adult_arrests\n"
      ]
    },
    {
      "cell_type": "markdown",
      "metadata": {
        "id": "zZ3j5JGNu874",
        "colab_type": "text"
      },
      "source": [
        "Hypothesis A: There exists a (statistically significant) correlation between Gini Coefficient (Income Inequality) and adult_arrestsrates within a specific county/state."
      ]
    },
    {
      "cell_type": "markdown",
      "metadata": {
        "id": "uwkfn0HCu-gv",
        "colab_type": "text"
      },
      "source": [
        "Determine p-values for individual counties' gini-to-adult_arrests over time.  \n",
        "Determine p-values for counties' gini-to-adult_arrests for a given year."
      ]
    },
    {
      "cell_type": "markdown",
      "metadata": {
        "id": "kV7WswiuxDQS",
        "colab_type": "text"
      },
      "source": [
        "##Tools of the trade"
      ]
    },
    {
      "cell_type": "code",
      "metadata": {
        "id": "hlGegSOmxbDE",
        "colab_type": "code",
        "colab": {}
      },
      "source": [
        "import numpy as np\n",
        "import pandas as pd\n",
        "import pandas_profiling\n",
        "import matplotlib.pyplot as plt\n",
        "from sklearn.model_selection import train_test_split\n",
        "from sklearn.ensemble import RandomForestRegressor\n",
        "from sklearn.model_selection import cross_val_score\n",
        "#Imports for baseline\n",
        "import seaborn as sns\n",
        "from sklearn.linear_model import LinearRegression\n",
        "from sklearn.metrics import mean_squared_error\n",
        "from sklearn.metrics import mean_absolute_error"
      ],
      "execution_count": 0,
      "outputs": []
    },
    {
      "cell_type": "markdown",
      "metadata": {
        "id": "_u8aUzgRw2ik",
        "colab_type": "text"
      },
      "source": [
        "##Import Datasets"
      ]
    },
    {
      "cell_type": "code",
      "metadata": {
        "id": "uP1N46t63J4K",
        "colab_type": "code",
        "colab": {}
      },
      "source": [
        "gini_5yr_est_2017 = pd.read_csv('https://raw.githubusercontent.com/AdrianduPlessis/UBI_Effects/master/data/gini_est_5yr_17.csv', skiprows=1)"
      ],
      "execution_count": 0,
      "outputs": []
    },
    {
      "cell_type": "code",
      "metadata": {
        "id": "xcPNKt-zyYaR",
        "colab_type": "code",
        "colab": {}
      },
      "source": [
        "adult_arrests = pd.read_csv('https://raw.githubusercontent.com/AdrianduPlessis/UBI_Effects/master/data/ICPSR_36399/DS0004/36399-0004-Data.tsv', sep='\\t')"
      ],
      "execution_count": 0,
      "outputs": []
    },
    {
      "cell_type": "code",
      "metadata": {
        "id": "1Jg1rc832NJV",
        "colab_type": "code",
        "colab": {}
      },
      "source": [
        "FIPS = pd.read_csv('https://raw.githubusercontent.com/AdrianduPlessis/UBI_Effects/master/data/all-geocodes-v2016.xlsx%20-%20Sheet1.csv', skiprows=4)\n"
      ],
      "execution_count": 0,
      "outputs": []
    },
    {
      "cell_type": "markdown",
      "metadata": {
        "id": "HlVIrNJpTdK-",
        "colab_type": "text"
      },
      "source": [
        "###Data Wrangling"
      ]
    },
    {
      "cell_type": "code",
      "metadata": {
        "id": "5Do6FKOfqlRG",
        "colab_type": "code",
        "colab": {}
      },
      "source": [
        "def change_id_to_fips(id):\n",
        "  fips = int(id[-5:])\n",
        "  return fips"
      ],
      "execution_count": 0,
      "outputs": []
    },
    {
      "cell_type": "code",
      "metadata": {
        "id": "NkA0Q4xmrF3A",
        "colab_type": "code",
        "colab": {}
      },
      "source": [
        "gini_5yr_est_2017['Id'].apply(change_id_to_fips);"
      ],
      "execution_count": 0,
      "outputs": []
    },
    {
      "cell_type": "code",
      "metadata": {
        "id": "Y52bRymujpbG",
        "colab_type": "code",
        "colab": {}
      },
      "source": [
        "#Create dictionary to lookup State based on state FIPS\n",
        "State_FIPS = FIPS[FIPS['County Code (FIPS)']==0]\n",
        "State_FIPS = State_FIPS[State_FIPS['Summary Level']==40]\n",
        "\n",
        "lookup_state_FIPS = dict(zip(State_FIPS['State Code (FIPS)'], State_FIPS['Area Name (including legal/statistical area description)']))"
      ],
      "execution_count": 0,
      "outputs": []
    },
    {
      "cell_type": "code",
      "metadata": {
        "id": "DnfF8kGSSU_E",
        "colab_type": "code",
        "colab": {}
      },
      "source": [
        "adult_arrests['state'] = adult_arrests['FIPS_ST'].map(lookup_state_FIPS)"
      ],
      "execution_count": 0,
      "outputs": []
    },
    {
      "cell_type": "code",
      "metadata": {
        "id": "xUh-3rMwm_dI",
        "colab_type": "code",
        "colab": {}
      },
      "source": [
        "def combine_cty_st_fips(cty, st):\n",
        "  full_fips = st*1000 + cty\n",
        "  return full_fips"
      ],
      "execution_count": 0,
      "outputs": []
    },
    {
      "cell_type": "code",
      "metadata": {
        "id": "XMkRR7qjoQ3q",
        "colab_type": "code",
        "colab": {}
      },
      "source": [
        "FIPS['FIPS'] = combine_cty_st_fips(FIPS['County Code (FIPS)'], FIPS['State Code (FIPS)'])\n",
        "adult_arrests['FIPS'] = combine_cty_st_fips(adult_arrests['FIPS_CTY'], adult_arrests['FIPS_ST'])"
      ],
      "execution_count": 0,
      "outputs": []
    },
    {
      "cell_type": "markdown",
      "metadata": {
        "id": "RXODiASZw6B8",
        "colab_type": "text"
      },
      "source": [
        "##Merge Datasets"
      ]
    },
    {
      "cell_type": "code",
      "metadata": {
        "id": "5X3nz45tsqHP",
        "colab_type": "code",
        "colab": {}
      },
      "source": [
        "#Note: missing gini data for 35 counties (based on shapes of dfs being merged)\n",
        "arrest_by_ineq = adult_arrests.merge(gini_5yr_est_2017, left_on='FIPS', right_on='Id2')"
      ],
      "execution_count": 0,
      "outputs": []
    },
    {
      "cell_type": "code",
      "metadata": {
        "id": "m7LS6phmuAcr",
        "colab_type": "code",
        "outputId": "54e7f0a2-8650-4d0e-88af-c43fc3ed364e",
        "colab": {
          "base_uri": "https://localhost:8080/",
          "height": 450
        }
      },
      "source": [
        "arrest_by_ineq.head()"
      ],
      "execution_count": 12,
      "outputs": [
        {
          "output_type": "execute_result",
          "data": {
            "text/html": [
              "<div>\n",
              "<style scoped>\n",
              "    .dataframe tbody tr th:only-of-type {\n",
              "        vertical-align: middle;\n",
              "    }\n",
              "\n",
              "    .dataframe tbody tr th {\n",
              "        vertical-align: top;\n",
              "    }\n",
              "\n",
              "    .dataframe thead th {\n",
              "        text-align: right;\n",
              "    }\n",
              "</style>\n",
              "<table border=\"1\" class=\"dataframe\">\n",
              "  <thead>\n",
              "    <tr style=\"text-align: right;\">\n",
              "      <th></th>\n",
              "      <th>STUDYNO</th>\n",
              "      <th>EDITION</th>\n",
              "      <th>PART</th>\n",
              "      <th>IDNO</th>\n",
              "      <th>FIPS_ST</th>\n",
              "      <th>FIPS_CTY</th>\n",
              "      <th>CPOPARST</th>\n",
              "      <th>CPOPCRIM</th>\n",
              "      <th>AG_ARRST</th>\n",
              "      <th>AG_OFF</th>\n",
              "      <th>COVIND</th>\n",
              "      <th>VIOL</th>\n",
              "      <th>PROPERTY</th>\n",
              "      <th>MURDER</th>\n",
              "      <th>RAPE</th>\n",
              "      <th>ROBBERY</th>\n",
              "      <th>AGASSLT</th>\n",
              "      <th>BURGLRY</th>\n",
              "      <th>LARCENY</th>\n",
              "      <th>MVTHEFT</th>\n",
              "      <th>ARSON</th>\n",
              "      <th>state</th>\n",
              "      <th>FIPS</th>\n",
              "      <th>Id</th>\n",
              "      <th>Id2</th>\n",
              "      <th>Geography</th>\n",
              "      <th>Estimate; Gini Index</th>\n",
              "      <th>Margin of Error; Gini Index</th>\n",
              "    </tr>\n",
              "  </thead>\n",
              "  <tbody>\n",
              "    <tr>\n",
              "      <th>0</th>\n",
              "      <td>9999</td>\n",
              "      <td>1</td>\n",
              "      <td>4</td>\n",
              "      <td>1</td>\n",
              "      <td>1</td>\n",
              "      <td>1</td>\n",
              "      <td>57217</td>\n",
              "      <td>54579</td>\n",
              "      <td>3</td>\n",
              "      <td>3</td>\n",
              "      <td>100.0000</td>\n",
              "      <td>144</td>\n",
              "      <td>1625</td>\n",
              "      <td>2</td>\n",
              "      <td>18</td>\n",
              "      <td>37</td>\n",
              "      <td>87</td>\n",
              "      <td>386</td>\n",
              "      <td>1110</td>\n",
              "      <td>129</td>\n",
              "      <td>14</td>\n",
              "      <td>Alabama</td>\n",
              "      <td>1001</td>\n",
              "      <td>0500000US01001</td>\n",
              "      <td>1001</td>\n",
              "      <td>Autauga County, Alabama</td>\n",
              "      <td>0.4501</td>\n",
              "      <td>0.0391</td>\n",
              "    </tr>\n",
              "    <tr>\n",
              "      <th>1</th>\n",
              "      <td>9999</td>\n",
              "      <td>1</td>\n",
              "      <td>4</td>\n",
              "      <td>2</td>\n",
              "      <td>1</td>\n",
              "      <td>3</td>\n",
              "      <td>198843</td>\n",
              "      <td>193083</td>\n",
              "      <td>14</td>\n",
              "      <td>13</td>\n",
              "      <td>96.0428</td>\n",
              "      <td>373</td>\n",
              "      <td>4060</td>\n",
              "      <td>4</td>\n",
              "      <td>33</td>\n",
              "      <td>62</td>\n",
              "      <td>274</td>\n",
              "      <td>770</td>\n",
              "      <td>3167</td>\n",
              "      <td>123</td>\n",
              "      <td>18</td>\n",
              "      <td>Alabama</td>\n",
              "      <td>1003</td>\n",
              "      <td>0500000US01003</td>\n",
              "      <td>1003</td>\n",
              "      <td>Baldwin County, Alabama</td>\n",
              "      <td>0.4618</td>\n",
              "      <td>0.0100</td>\n",
              "    </tr>\n",
              "    <tr>\n",
              "      <th>2</th>\n",
              "      <td>9999</td>\n",
              "      <td>1</td>\n",
              "      <td>4</td>\n",
              "      <td>3</td>\n",
              "      <td>1</td>\n",
              "      <td>5</td>\n",
              "      <td>27026</td>\n",
              "      <td>25154</td>\n",
              "      <td>5</td>\n",
              "      <td>4</td>\n",
              "      <td>96.0536</td>\n",
              "      <td>97</td>\n",
              "      <td>660</td>\n",
              "      <td>3</td>\n",
              "      <td>10</td>\n",
              "      <td>14</td>\n",
              "      <td>70</td>\n",
              "      <td>171</td>\n",
              "      <td>454</td>\n",
              "      <td>36</td>\n",
              "      <td>1</td>\n",
              "      <td>Alabama</td>\n",
              "      <td>1005</td>\n",
              "      <td>0500000US01005</td>\n",
              "      <td>1005</td>\n",
              "      <td>Barbour County, Alabama</td>\n",
              "      <td>0.4622</td>\n",
              "      <td>0.0148</td>\n",
              "    </tr>\n",
              "    <tr>\n",
              "      <th>3</th>\n",
              "      <td>9999</td>\n",
              "      <td>1</td>\n",
              "      <td>4</td>\n",
              "      <td>4</td>\n",
              "      <td>1</td>\n",
              "      <td>7</td>\n",
              "      <td>22491</td>\n",
              "      <td>21175</td>\n",
              "      <td>4</td>\n",
              "      <td>5</td>\n",
              "      <td>98.9359</td>\n",
              "      <td>23</td>\n",
              "      <td>227</td>\n",
              "      <td>2</td>\n",
              "      <td>3</td>\n",
              "      <td>2</td>\n",
              "      <td>16</td>\n",
              "      <td>65</td>\n",
              "      <td>143</td>\n",
              "      <td>19</td>\n",
              "      <td>1</td>\n",
              "      <td>Alabama</td>\n",
              "      <td>1007</td>\n",
              "      <td>0500000US01007</td>\n",
              "      <td>1007</td>\n",
              "      <td>Bibb County, Alabama</td>\n",
              "      <td>0.4518</td>\n",
              "      <td>0.0565</td>\n",
              "    </tr>\n",
              "    <tr>\n",
              "      <th>4</th>\n",
              "      <td>9999</td>\n",
              "      <td>1</td>\n",
              "      <td>4</td>\n",
              "      <td>5</td>\n",
              "      <td>1</td>\n",
              "      <td>9</td>\n",
              "      <td>58037</td>\n",
              "      <td>58037</td>\n",
              "      <td>6</td>\n",
              "      <td>6</td>\n",
              "      <td>98.4949</td>\n",
              "      <td>125</td>\n",
              "      <td>1270</td>\n",
              "      <td>0</td>\n",
              "      <td>15</td>\n",
              "      <td>4</td>\n",
              "      <td>106</td>\n",
              "      <td>374</td>\n",
              "      <td>772</td>\n",
              "      <td>124</td>\n",
              "      <td>7</td>\n",
              "      <td>Alabama</td>\n",
              "      <td>1009</td>\n",
              "      <td>0500000US01009</td>\n",
              "      <td>1009</td>\n",
              "      <td>Blount County, Alabama</td>\n",
              "      <td>0.4302</td>\n",
              "      <td>0.0175</td>\n",
              "    </tr>\n",
              "  </tbody>\n",
              "</table>\n",
              "</div>"
            ],
            "text/plain": [
              "   STUDYNO  EDITION  ...  Estimate; Gini Index  Margin of Error; Gini Index\n",
              "0     9999        1  ...                0.4501                       0.0391\n",
              "1     9999        1  ...                0.4618                       0.0100\n",
              "2     9999        1  ...                0.4622                       0.0148\n",
              "3     9999        1  ...                0.4518                       0.0565\n",
              "4     9999        1  ...                0.4302                       0.0175\n",
              "\n",
              "[5 rows x 28 columns]"
            ]
          },
          "metadata": {
            "tags": []
          },
          "execution_count": 12
        }
      ]
    },
    {
      "cell_type": "markdown",
      "metadata": {
        "id": "QT7YRletabCC",
        "colab_type": "text"
      },
      "source": [
        "###Further Wrangling"
      ]
    },
    {
      "cell_type": "code",
      "metadata": {
        "id": "KOPfkVBJcHV8",
        "colab_type": "code",
        "colab": {}
      },
      "source": [
        "#Engineer feature that controls for variation in population size\n",
        "def control_for_population(df, feature, population):\n",
        "  df[feature] = df[feature]/df[population]\n",
        "  return df"
      ],
      "execution_count": 0,
      "outputs": []
    },
    {
      "cell_type": "code",
      "metadata": {
        "id": "p5N_Xj26diNe",
        "colab_type": "code",
        "colab": {}
      },
      "source": [
        "crime_types = ['VIOL', 'PROPERTY', 'MURDER', 'RAPE', \n",
        "               'ROBBERY', 'AGASSLT', 'BURGLRY', 'LARCENY', \n",
        "               'MVTHEFT','ARSON']\n",
        "\n",
        "population = arrest_by_ineq['CPOPARST']\n",
        "\n",
        "for crime in crime_types:\n",
        "  arrest_by_ineq[crime] = arrest_by_ineq[crime]/population"
      ],
      "execution_count": 0,
      "outputs": []
    },
    {
      "cell_type": "code",
      "metadata": {
        "id": "cJ5HVdLIhuKG",
        "colab_type": "code",
        "colab": {
          "base_uri": "https://localhost:8080/",
          "height": 450
        },
        "outputId": "a54b90d0-9acb-4aa4-ca3e-68632446639d"
      },
      "source": [
        "arrest_by_ineq.head()"
      ],
      "execution_count": 16,
      "outputs": [
        {
          "output_type": "execute_result",
          "data": {
            "text/html": [
              "<div>\n",
              "<style scoped>\n",
              "    .dataframe tbody tr th:only-of-type {\n",
              "        vertical-align: middle;\n",
              "    }\n",
              "\n",
              "    .dataframe tbody tr th {\n",
              "        vertical-align: top;\n",
              "    }\n",
              "\n",
              "    .dataframe thead th {\n",
              "        text-align: right;\n",
              "    }\n",
              "</style>\n",
              "<table border=\"1\" class=\"dataframe\">\n",
              "  <thead>\n",
              "    <tr style=\"text-align: right;\">\n",
              "      <th></th>\n",
              "      <th>STUDYNO</th>\n",
              "      <th>EDITION</th>\n",
              "      <th>PART</th>\n",
              "      <th>IDNO</th>\n",
              "      <th>FIPS_ST</th>\n",
              "      <th>FIPS_CTY</th>\n",
              "      <th>CPOPARST</th>\n",
              "      <th>CPOPCRIM</th>\n",
              "      <th>AG_ARRST</th>\n",
              "      <th>AG_OFF</th>\n",
              "      <th>COVIND</th>\n",
              "      <th>VIOL</th>\n",
              "      <th>PROPERTY</th>\n",
              "      <th>MURDER</th>\n",
              "      <th>RAPE</th>\n",
              "      <th>ROBBERY</th>\n",
              "      <th>AGASSLT</th>\n",
              "      <th>BURGLRY</th>\n",
              "      <th>LARCENY</th>\n",
              "      <th>MVTHEFT</th>\n",
              "      <th>ARSON</th>\n",
              "      <th>state</th>\n",
              "      <th>FIPS</th>\n",
              "      <th>Id</th>\n",
              "      <th>Id2</th>\n",
              "      <th>Geography</th>\n",
              "      <th>Estimate; Gini Index</th>\n",
              "      <th>Margin of Error; Gini Index</th>\n",
              "      <th>arrests_per_person</th>\n",
              "    </tr>\n",
              "  </thead>\n",
              "  <tbody>\n",
              "    <tr>\n",
              "      <th>0</th>\n",
              "      <td>9999</td>\n",
              "      <td>1</td>\n",
              "      <td>4</td>\n",
              "      <td>1</td>\n",
              "      <td>1</td>\n",
              "      <td>1</td>\n",
              "      <td>57217</td>\n",
              "      <td>54579</td>\n",
              "      <td>3</td>\n",
              "      <td>3</td>\n",
              "      <td>100.0000</td>\n",
              "      <td>0.002517</td>\n",
              "      <td>0.028401</td>\n",
              "      <td>0.000035</td>\n",
              "      <td>0.000315</td>\n",
              "      <td>0.000647</td>\n",
              "      <td>0.001521</td>\n",
              "      <td>0.006746</td>\n",
              "      <td>0.019400</td>\n",
              "      <td>0.002255</td>\n",
              "      <td>0.000245</td>\n",
              "      <td>Alabama</td>\n",
              "      <td>1001</td>\n",
              "      <td>0500000US01001</td>\n",
              "      <td>1001</td>\n",
              "      <td>Autauga County, Alabama</td>\n",
              "      <td>0.4501</td>\n",
              "      <td>0.0391</td>\n",
              "      <td>0.028401</td>\n",
              "    </tr>\n",
              "    <tr>\n",
              "      <th>1</th>\n",
              "      <td>9999</td>\n",
              "      <td>1</td>\n",
              "      <td>4</td>\n",
              "      <td>2</td>\n",
              "      <td>1</td>\n",
              "      <td>3</td>\n",
              "      <td>198843</td>\n",
              "      <td>193083</td>\n",
              "      <td>14</td>\n",
              "      <td>13</td>\n",
              "      <td>96.0428</td>\n",
              "      <td>0.001876</td>\n",
              "      <td>0.020418</td>\n",
              "      <td>0.000020</td>\n",
              "      <td>0.000166</td>\n",
              "      <td>0.000312</td>\n",
              "      <td>0.001378</td>\n",
              "      <td>0.003872</td>\n",
              "      <td>0.015927</td>\n",
              "      <td>0.000619</td>\n",
              "      <td>0.000091</td>\n",
              "      <td>Alabama</td>\n",
              "      <td>1003</td>\n",
              "      <td>0500000US01003</td>\n",
              "      <td>1003</td>\n",
              "      <td>Baldwin County, Alabama</td>\n",
              "      <td>0.4618</td>\n",
              "      <td>0.0100</td>\n",
              "      <td>0.020418</td>\n",
              "    </tr>\n",
              "    <tr>\n",
              "      <th>2</th>\n",
              "      <td>9999</td>\n",
              "      <td>1</td>\n",
              "      <td>4</td>\n",
              "      <td>3</td>\n",
              "      <td>1</td>\n",
              "      <td>5</td>\n",
              "      <td>27026</td>\n",
              "      <td>25154</td>\n",
              "      <td>5</td>\n",
              "      <td>4</td>\n",
              "      <td>96.0536</td>\n",
              "      <td>0.003589</td>\n",
              "      <td>0.024421</td>\n",
              "      <td>0.000111</td>\n",
              "      <td>0.000370</td>\n",
              "      <td>0.000518</td>\n",
              "      <td>0.002590</td>\n",
              "      <td>0.006327</td>\n",
              "      <td>0.016799</td>\n",
              "      <td>0.001332</td>\n",
              "      <td>0.000037</td>\n",
              "      <td>Alabama</td>\n",
              "      <td>1005</td>\n",
              "      <td>0500000US01005</td>\n",
              "      <td>1005</td>\n",
              "      <td>Barbour County, Alabama</td>\n",
              "      <td>0.4622</td>\n",
              "      <td>0.0148</td>\n",
              "      <td>0.024421</td>\n",
              "    </tr>\n",
              "    <tr>\n",
              "      <th>3</th>\n",
              "      <td>9999</td>\n",
              "      <td>1</td>\n",
              "      <td>4</td>\n",
              "      <td>4</td>\n",
              "      <td>1</td>\n",
              "      <td>7</td>\n",
              "      <td>22491</td>\n",
              "      <td>21175</td>\n",
              "      <td>4</td>\n",
              "      <td>5</td>\n",
              "      <td>98.9359</td>\n",
              "      <td>0.001023</td>\n",
              "      <td>0.010093</td>\n",
              "      <td>0.000089</td>\n",
              "      <td>0.000133</td>\n",
              "      <td>0.000089</td>\n",
              "      <td>0.000711</td>\n",
              "      <td>0.002890</td>\n",
              "      <td>0.006358</td>\n",
              "      <td>0.000845</td>\n",
              "      <td>0.000044</td>\n",
              "      <td>Alabama</td>\n",
              "      <td>1007</td>\n",
              "      <td>0500000US01007</td>\n",
              "      <td>1007</td>\n",
              "      <td>Bibb County, Alabama</td>\n",
              "      <td>0.4518</td>\n",
              "      <td>0.0565</td>\n",
              "      <td>0.010093</td>\n",
              "    </tr>\n",
              "    <tr>\n",
              "      <th>4</th>\n",
              "      <td>9999</td>\n",
              "      <td>1</td>\n",
              "      <td>4</td>\n",
              "      <td>5</td>\n",
              "      <td>1</td>\n",
              "      <td>9</td>\n",
              "      <td>58037</td>\n",
              "      <td>58037</td>\n",
              "      <td>6</td>\n",
              "      <td>6</td>\n",
              "      <td>98.4949</td>\n",
              "      <td>0.002154</td>\n",
              "      <td>0.021883</td>\n",
              "      <td>0.000000</td>\n",
              "      <td>0.000258</td>\n",
              "      <td>0.000069</td>\n",
              "      <td>0.001826</td>\n",
              "      <td>0.006444</td>\n",
              "      <td>0.013302</td>\n",
              "      <td>0.002137</td>\n",
              "      <td>0.000121</td>\n",
              "      <td>Alabama</td>\n",
              "      <td>1009</td>\n",
              "      <td>0500000US01009</td>\n",
              "      <td>1009</td>\n",
              "      <td>Blount County, Alabama</td>\n",
              "      <td>0.4302</td>\n",
              "      <td>0.0175</td>\n",
              "      <td>0.021883</td>\n",
              "    </tr>\n",
              "  </tbody>\n",
              "</table>\n",
              "</div>"
            ],
            "text/plain": [
              "   STUDYNO  EDITION  ...  Margin of Error; Gini Index  arrests_per_person\n",
              "0     9999        1  ...                       0.0391            0.028401\n",
              "1     9999        1  ...                       0.0100            0.020418\n",
              "2     9999        1  ...                       0.0148            0.024421\n",
              "3     9999        1  ...                       0.0565            0.010093\n",
              "4     9999        1  ...                       0.0175            0.021883\n",
              "\n",
              "[5 rows x 29 columns]"
            ]
          },
          "metadata": {
            "tags": []
          },
          "execution_count": 16
        }
      ]
    },
    {
      "cell_type": "code",
      "metadata": {
        "id": "L9Co9d0geJZx",
        "colab_type": "code",
        "outputId": "25beb1e3-aebd-403c-dfce-2e5743ea4335",
        "colab": {
          "base_uri": "https://localhost:8080/",
          "height": 34
        }
      },
      "source": [
        "arrest_by_ineq.shape"
      ],
      "execution_count": 17,
      "outputs": [
        {
          "output_type": "execute_result",
          "data": {
            "text/plain": [
              "(3134, 29)"
            ]
          },
          "metadata": {
            "tags": []
          },
          "execution_count": 17
        }
      ]
    },
    {
      "cell_type": "code",
      "metadata": {
        "id": "_eMk85mehbOa",
        "colab_type": "code",
        "colab": {}
      },
      "source": [
        "#Drop NaNs\n",
        "#Stretch: Impute\n",
        "arrest_by_ineq = arrest_by_ineq.dropna()"
      ],
      "execution_count": 0,
      "outputs": []
    },
    {
      "cell_type": "code",
      "metadata": {
        "id": "UHvBKoE5hjLk",
        "colab_type": "code",
        "outputId": "c1ebb8d3-5535-4272-bb0c-3c01baacf0a6",
        "colab": {
          "base_uri": "https://localhost:8080/",
          "height": 34
        }
      },
      "source": [
        "arrest_by_ineq.shape"
      ],
      "execution_count": 19,
      "outputs": [
        {
          "output_type": "execute_result",
          "data": {
            "text/plain": [
              "(3129, 29)"
            ]
          },
          "metadata": {
            "tags": []
          },
          "execution_count": 19
        }
      ]
    },
    {
      "cell_type": "code",
      "metadata": {
        "id": "STiRRdm6q35D",
        "colab_type": "code",
        "colab": {
          "base_uri": "https://localhost:8080/",
          "height": 450
        },
        "outputId": "eb152c95-629d-4609-c810-c522d1a10519"
      },
      "source": [
        "arrest_by_ineq.head()"
      ],
      "execution_count": 20,
      "outputs": [
        {
          "output_type": "execute_result",
          "data": {
            "text/html": [
              "<div>\n",
              "<style scoped>\n",
              "    .dataframe tbody tr th:only-of-type {\n",
              "        vertical-align: middle;\n",
              "    }\n",
              "\n",
              "    .dataframe tbody tr th {\n",
              "        vertical-align: top;\n",
              "    }\n",
              "\n",
              "    .dataframe thead th {\n",
              "        text-align: right;\n",
              "    }\n",
              "</style>\n",
              "<table border=\"1\" class=\"dataframe\">\n",
              "  <thead>\n",
              "    <tr style=\"text-align: right;\">\n",
              "      <th></th>\n",
              "      <th>STUDYNO</th>\n",
              "      <th>EDITION</th>\n",
              "      <th>PART</th>\n",
              "      <th>IDNO</th>\n",
              "      <th>FIPS_ST</th>\n",
              "      <th>FIPS_CTY</th>\n",
              "      <th>CPOPARST</th>\n",
              "      <th>CPOPCRIM</th>\n",
              "      <th>AG_ARRST</th>\n",
              "      <th>AG_OFF</th>\n",
              "      <th>COVIND</th>\n",
              "      <th>VIOL</th>\n",
              "      <th>PROPERTY</th>\n",
              "      <th>MURDER</th>\n",
              "      <th>RAPE</th>\n",
              "      <th>ROBBERY</th>\n",
              "      <th>AGASSLT</th>\n",
              "      <th>BURGLRY</th>\n",
              "      <th>LARCENY</th>\n",
              "      <th>MVTHEFT</th>\n",
              "      <th>ARSON</th>\n",
              "      <th>state</th>\n",
              "      <th>FIPS</th>\n",
              "      <th>Id</th>\n",
              "      <th>Id2</th>\n",
              "      <th>Geography</th>\n",
              "      <th>Estimate; Gini Index</th>\n",
              "      <th>Margin of Error; Gini Index</th>\n",
              "      <th>arrests_per_person</th>\n",
              "    </tr>\n",
              "  </thead>\n",
              "  <tbody>\n",
              "    <tr>\n",
              "      <th>0</th>\n",
              "      <td>9999</td>\n",
              "      <td>1</td>\n",
              "      <td>4</td>\n",
              "      <td>1</td>\n",
              "      <td>1</td>\n",
              "      <td>1</td>\n",
              "      <td>57217</td>\n",
              "      <td>54579</td>\n",
              "      <td>3</td>\n",
              "      <td>3</td>\n",
              "      <td>100.0000</td>\n",
              "      <td>0.002517</td>\n",
              "      <td>0.028401</td>\n",
              "      <td>0.000035</td>\n",
              "      <td>0.000315</td>\n",
              "      <td>0.000647</td>\n",
              "      <td>0.001521</td>\n",
              "      <td>0.006746</td>\n",
              "      <td>0.019400</td>\n",
              "      <td>0.002255</td>\n",
              "      <td>0.000245</td>\n",
              "      <td>Alabama</td>\n",
              "      <td>1001</td>\n",
              "      <td>0500000US01001</td>\n",
              "      <td>1001</td>\n",
              "      <td>Autauga County, Alabama</td>\n",
              "      <td>0.4501</td>\n",
              "      <td>0.0391</td>\n",
              "      <td>0.028401</td>\n",
              "    </tr>\n",
              "    <tr>\n",
              "      <th>1</th>\n",
              "      <td>9999</td>\n",
              "      <td>1</td>\n",
              "      <td>4</td>\n",
              "      <td>2</td>\n",
              "      <td>1</td>\n",
              "      <td>3</td>\n",
              "      <td>198843</td>\n",
              "      <td>193083</td>\n",
              "      <td>14</td>\n",
              "      <td>13</td>\n",
              "      <td>96.0428</td>\n",
              "      <td>0.001876</td>\n",
              "      <td>0.020418</td>\n",
              "      <td>0.000020</td>\n",
              "      <td>0.000166</td>\n",
              "      <td>0.000312</td>\n",
              "      <td>0.001378</td>\n",
              "      <td>0.003872</td>\n",
              "      <td>0.015927</td>\n",
              "      <td>0.000619</td>\n",
              "      <td>0.000091</td>\n",
              "      <td>Alabama</td>\n",
              "      <td>1003</td>\n",
              "      <td>0500000US01003</td>\n",
              "      <td>1003</td>\n",
              "      <td>Baldwin County, Alabama</td>\n",
              "      <td>0.4618</td>\n",
              "      <td>0.0100</td>\n",
              "      <td>0.020418</td>\n",
              "    </tr>\n",
              "    <tr>\n",
              "      <th>2</th>\n",
              "      <td>9999</td>\n",
              "      <td>1</td>\n",
              "      <td>4</td>\n",
              "      <td>3</td>\n",
              "      <td>1</td>\n",
              "      <td>5</td>\n",
              "      <td>27026</td>\n",
              "      <td>25154</td>\n",
              "      <td>5</td>\n",
              "      <td>4</td>\n",
              "      <td>96.0536</td>\n",
              "      <td>0.003589</td>\n",
              "      <td>0.024421</td>\n",
              "      <td>0.000111</td>\n",
              "      <td>0.000370</td>\n",
              "      <td>0.000518</td>\n",
              "      <td>0.002590</td>\n",
              "      <td>0.006327</td>\n",
              "      <td>0.016799</td>\n",
              "      <td>0.001332</td>\n",
              "      <td>0.000037</td>\n",
              "      <td>Alabama</td>\n",
              "      <td>1005</td>\n",
              "      <td>0500000US01005</td>\n",
              "      <td>1005</td>\n",
              "      <td>Barbour County, Alabama</td>\n",
              "      <td>0.4622</td>\n",
              "      <td>0.0148</td>\n",
              "      <td>0.024421</td>\n",
              "    </tr>\n",
              "    <tr>\n",
              "      <th>3</th>\n",
              "      <td>9999</td>\n",
              "      <td>1</td>\n",
              "      <td>4</td>\n",
              "      <td>4</td>\n",
              "      <td>1</td>\n",
              "      <td>7</td>\n",
              "      <td>22491</td>\n",
              "      <td>21175</td>\n",
              "      <td>4</td>\n",
              "      <td>5</td>\n",
              "      <td>98.9359</td>\n",
              "      <td>0.001023</td>\n",
              "      <td>0.010093</td>\n",
              "      <td>0.000089</td>\n",
              "      <td>0.000133</td>\n",
              "      <td>0.000089</td>\n",
              "      <td>0.000711</td>\n",
              "      <td>0.002890</td>\n",
              "      <td>0.006358</td>\n",
              "      <td>0.000845</td>\n",
              "      <td>0.000044</td>\n",
              "      <td>Alabama</td>\n",
              "      <td>1007</td>\n",
              "      <td>0500000US01007</td>\n",
              "      <td>1007</td>\n",
              "      <td>Bibb County, Alabama</td>\n",
              "      <td>0.4518</td>\n",
              "      <td>0.0565</td>\n",
              "      <td>0.010093</td>\n",
              "    </tr>\n",
              "    <tr>\n",
              "      <th>4</th>\n",
              "      <td>9999</td>\n",
              "      <td>1</td>\n",
              "      <td>4</td>\n",
              "      <td>5</td>\n",
              "      <td>1</td>\n",
              "      <td>9</td>\n",
              "      <td>58037</td>\n",
              "      <td>58037</td>\n",
              "      <td>6</td>\n",
              "      <td>6</td>\n",
              "      <td>98.4949</td>\n",
              "      <td>0.002154</td>\n",
              "      <td>0.021883</td>\n",
              "      <td>0.000000</td>\n",
              "      <td>0.000258</td>\n",
              "      <td>0.000069</td>\n",
              "      <td>0.001826</td>\n",
              "      <td>0.006444</td>\n",
              "      <td>0.013302</td>\n",
              "      <td>0.002137</td>\n",
              "      <td>0.000121</td>\n",
              "      <td>Alabama</td>\n",
              "      <td>1009</td>\n",
              "      <td>0500000US01009</td>\n",
              "      <td>1009</td>\n",
              "      <td>Blount County, Alabama</td>\n",
              "      <td>0.4302</td>\n",
              "      <td>0.0175</td>\n",
              "      <td>0.021883</td>\n",
              "    </tr>\n",
              "  </tbody>\n",
              "</table>\n",
              "</div>"
            ],
            "text/plain": [
              "   STUDYNO  EDITION  ...  Margin of Error; Gini Index  arrests_per_person\n",
              "0     9999        1  ...                       0.0391            0.028401\n",
              "1     9999        1  ...                       0.0100            0.020418\n",
              "2     9999        1  ...                       0.0148            0.024421\n",
              "3     9999        1  ...                       0.0565            0.010093\n",
              "4     9999        1  ...                       0.0175            0.021883\n",
              "\n",
              "[5 rows x 29 columns]"
            ]
          },
          "metadata": {
            "tags": []
          },
          "execution_count": 20
        }
      ]
    },
    {
      "cell_type": "code",
      "metadata": {
        "id": "eJe5Au3dh-Hu",
        "colab_type": "code",
        "colab": {}
      },
      "source": [
        "#Had to drop 5 counties/observations"
      ],
      "execution_count": 0,
      "outputs": []
    },
    {
      "cell_type": "code",
      "metadata": {
        "id": "nWAhpo3rfvRQ",
        "colab_type": "code",
        "colab": {
          "base_uri": "https://localhost:8080/",
          "height": 470
        },
        "outputId": "d0f26655-d1fd-4c81-ac96-b9b7c8588848"
      },
      "source": [
        "corr = arrest_by_ineq.corr()\n",
        "corr.sort_values('Estimate; Gini Index')['Estimate; Gini Index']"
      ],
      "execution_count": 43,
      "outputs": [
        {
          "output_type": "execute_result",
          "data": {
            "text/plain": [
              "FIPS_ST                       -0.055760\n",
              "Id2                           -0.055288\n",
              "FIPS                          -0.055288\n",
              "IDNO                          -0.053920\n",
              "RAPE                           0.004323\n",
              "COVIND                         0.004652\n",
              "FIPS_CTY                       0.056378\n",
              "AG_OFF                         0.103482\n",
              "ARSON                          0.105689\n",
              "AG_ARRST                       0.131614\n",
              "CPOPCRIM                       0.145555\n",
              "CPOPARST                       0.147333\n",
              "MURDER                         0.178801\n",
              "MVTHEFT                        0.179110\n",
              "LARCENY                        0.211482\n",
              "AGASSLT                        0.224959\n",
              "Margin of Error; Gini Index    0.232536\n",
              "PROPERTY                       0.242230\n",
              "arrests_per_person             0.242230\n",
              "VIOL                           0.258775\n",
              "BURGLRY                        0.265313\n",
              "ROBBERY                        0.317500\n",
              "Estimate; Gini Index           1.000000\n",
              "STUDYNO                             NaN\n",
              "EDITION                             NaN\n",
              "PART                                NaN\n",
              "Name: Estimate; Gini Index, dtype: float64"
            ]
          },
          "metadata": {
            "tags": []
          },
          "execution_count": 43
        }
      ]
    },
    {
      "cell_type": "code",
      "metadata": {
        "id": "xlC8c9XEbBTp",
        "colab_type": "code",
        "outputId": "885847df-6c43-43b2-dc33-d893ac77d297",
        "colab": {
          "base_uri": "https://localhost:8080/",
          "height": 34
        }
      },
      "source": [
        "arrest_by_ineq['Estimate; Gini Index'].corr(arrest_by_ineq['arrests_per_person'])"
      ],
      "execution_count": 22,
      "outputs": [
        {
          "output_type": "execute_result",
          "data": {
            "text/plain": [
              "0.2422302027349367"
            ]
          },
          "metadata": {
            "tags": []
          },
          "execution_count": 22
        }
      ]
    },
    {
      "cell_type": "markdown",
      "metadata": {
        "id": "laLBXLsXtGa7",
        "colab_type": "text"
      },
      "source": [
        "##Predict adult_arrests on gini coefficient (Baseline)"
      ]
    },
    {
      "cell_type": "code",
      "metadata": {
        "id": "b71PircelKxT",
        "colab_type": "code",
        "colab": {}
      },
      "source": [
        "X = arrest_by_ineq['Estimate; Gini Index'].values.reshape(-1, 1)\n",
        "y = arrest_by_ineq['arrests_per_person'].values.reshape(-1, 1)"
      ],
      "execution_count": 0,
      "outputs": []
    },
    {
      "cell_type": "code",
      "metadata": {
        "id": "YpOhVb7v4sF3",
        "colab_type": "code",
        "colab": {
          "base_uri": "https://localhost:8080/",
          "height": 84
        },
        "outputId": "e4594ea4-02cb-48b0-e377-551b45065ac8"
      },
      "source": [
        "#mean baseline\n",
        "y_baseline = [y.mean()] * len(y_train)\n",
        "baseline_mae = mean_absolute_error(y_baseline, y_train)\n",
        "baseline_r2e = mean_squared_error(y_baseline, y_train)\n",
        "print(\"Baseline: \\n\",\n",
        "      \"MAE: \", baseline_mae, '\\n',\n",
        "      \"r^2 error: \", baseline_r2e, '\\n')"
      ],
      "execution_count": 93,
      "outputs": [
        {
          "output_type": "stream",
          "text": [
            "Baseline: \n",
            " MAE:  0.027716429775367007 \n",
            " r^2 error:  0.0012354685069545168 \n",
            "\n"
          ],
          "name": "stdout"
        }
      ]
    },
    {
      "cell_type": "code",
      "metadata": {
        "id": "ZWrSFFr4l3Bt",
        "colab_type": "code",
        "colab": {}
      },
      "source": [
        "linear_regressor = LinearRegression()  # create object for the class\n",
        "linear_regressor.fit(X, y)  # perform linear regression\n",
        "y_pred = linear_regressor.predict(X)  # make predictions"
      ],
      "execution_count": 0,
      "outputs": []
    },
    {
      "cell_type": "code",
      "metadata": {
        "id": "e0DGM5hQnW2q",
        "colab_type": "code",
        "outputId": "88a4ed3f-3ccf-414c-a35c-6001a048df64",
        "colab": {
          "base_uri": "https://localhost:8080/",
          "height": 34
        }
      },
      "source": [
        "mean_squared_error(y, y_pred)"
      ],
      "execution_count": 27,
      "outputs": [
        {
          "output_type": "execute_result",
          "data": {
            "text/plain": [
              "0.0001351165884940218"
            ]
          },
          "metadata": {
            "tags": []
          },
          "execution_count": 27
        }
      ]
    },
    {
      "cell_type": "code",
      "metadata": {
        "id": "aYNDwIHTmP_i",
        "colab_type": "code",
        "outputId": "c06da3c9-4171-4c2c-c04c-61707bc51ac6",
        "colab": {
          "base_uri": "https://localhost:8080/",
          "height": 269
        }
      },
      "source": [
        "%matplotlib inline\n",
        "plt.scatter(X, y)\n",
        "plt.plot(X, y_pred, color='red')\n",
        "plt.show()"
      ],
      "execution_count": 34,
      "outputs": [
        {
          "output_type": "display_data",
          "data": {
            "image/png": "[encoded data removed]",
            "text/plain": [
              "<Figure size 432x288 with 1 Axes>"
            ]
          },
          "metadata": {
            "tags": []
          }
        }
      ]
    },
    {
      "cell_type": "markdown",
      "metadata": {
        "id": "5aHoEdrxpeK1",
        "colab_type": "text"
      },
      "source": [
        "#Predict Gini on Reported crime types  "
      ]
    },
    {
      "cell_type": "code",
      "metadata": {
        "id": "6bmFy_FRppos",
        "colab_type": "code",
        "colab": {}
      },
      "source": [
        "reported_crimes = ['VIOL', 'PROPERTY', 'MURDER', 'RAPE', \n",
        "               'ROBBERY', 'AGASSLT', 'BURGLRY', 'LARCENY', \n",
        "               'MVTHEFT','ARSON']\n",
        "\n",
        "y = arrest_by_ineq['Estimate; Gini Index']\n",
        "X = arrest_by_ineq[reported_crimes]"
      ],
      "execution_count": 0,
      "outputs": []
    },
    {
      "cell_type": "code",
      "metadata": {
        "id": "VHLpdKuFrtwW",
        "colab_type": "code",
        "colab": {}
      },
      "source": [
        "#Train/Test Split\n",
        "X_train, X_test, y_train, y_test = train_test_split(\n",
        "...     X, y, test_size=0.3, random_state=42)"
      ],
      "execution_count": 0,
      "outputs": []
    },
    {
      "cell_type": "code",
      "metadata": {
        "id": "EJYdZR1mr9wJ",
        "colab_type": "code",
        "colab": {
          "base_uri": "https://localhost:8080/",
          "height": 50
        },
        "outputId": "88d98c8f-5467-4a7f-b435-403fb7fcb6f6"
      },
      "source": [
        "model = RandomForestRegressor(criterion='mae')\n",
        "model.fit(X_train, y_train)\n",
        "y_pred = model.predict(X_train)"
      ],
      "execution_count": 75,
      "outputs": [
        {
          "output_type": "stream",
          "text": [
            "/usr/local/lib/python3.6/dist-packages/sklearn/ensemble/forest.py:245: FutureWarning: The default value of n_estimators will change from 10 in version 0.20 to 100 in 0.22.\n",
            "  \"10 in version 0.20 to 100 in 0.22.\", FutureWarning)\n"
          ],
          "name": "stderr"
        }
      ]
    },
    {
      "cell_type": "code",
      "metadata": {
        "id": "fysuSDcss78u",
        "colab_type": "code",
        "colab": {
          "base_uri": "https://localhost:8080/",
          "height": 34
        },
        "outputId": "e8a7df19-8709-4e92-de89-822422022a29"
      },
      "source": [
        "mean_absolute_error(y_train, y_pred)"
      ],
      "execution_count": 94,
      "outputs": [
        {
          "output_type": "execute_result",
          "data": {
            "text/plain": [
              "0.011114376712328766"
            ]
          },
          "metadata": {
            "tags": []
          },
          "execution_count": 94
        }
      ]
    },
    {
      "cell_type": "code",
      "metadata": {
        "id": "3WX80Z4v6BYi",
        "colab_type": "code",
        "colab": {
          "base_uri": "https://localhost:8080/",
          "height": 34
        },
        "outputId": "64c8936f-4930-47d5-b391-30039b1ce891"
      },
      "source": [
        "mean_squared_error(y_train, y_pred)"
      ],
      "execution_count": 95,
      "outputs": [
        {
          "output_type": "execute_result",
          "data": {
            "text/plain": [
              "0.0002717599153995434"
            ]
          },
          "metadata": {
            "tags": []
          },
          "execution_count": 95
        }
      ]
    },
    {
      "cell_type": "markdown",
      "metadata": {
        "id": "WA8_GLYZtW-X",
        "colab_type": "text"
      },
      "source": [
        "##CV Scores"
      ]
    },
    {
      "cell_type": "code",
      "metadata": {
        "id": "8D-kx-axtZOh",
        "colab_type": "code",
        "colab": {
          "base_uri": "https://localhost:8080/",
          "height": 34
        },
        "outputId": "946bb43b-19f9-49d5-bd48-3a8d9bb1e4f3"
      },
      "source": [
        "scores = cross_val_score(model, X_train, y_train, cv=5)\n",
        "scores"
      ],
      "execution_count": 64,
      "outputs": [
        {
          "output_type": "execute_result",
          "data": {
            "text/plain": [
              "array([ 0.01204881, -0.01021742, -0.02627176,  0.07401308,  0.02687276])"
            ]
          },
          "metadata": {
            "tags": []
          },
          "execution_count": 64
        }
      ]
    },
    {
      "cell_type": "markdown",
      "metadata": {
        "id": "uaJz23rBqVte",
        "colab_type": "text"
      },
      "source": [
        "##Train, optomize, validate model"
      ]
    },
    {
      "cell_type": "markdown",
      "metadata": {
        "id": "l_HSPs2BqdJ2",
        "colab_type": "text"
      },
      "source": [
        "##Interpret shaply feature importances"
      ]
    },
    {
      "cell_type": "code",
      "metadata": {
        "id": "zV8x5H7FqDBb",
        "colab_type": "code",
        "colab": {}
      },
      "source": [
        ""
      ],
      "execution_count": 0,
      "outputs": []
    },
    {
      "cell_type": "code",
      "metadata": {
        "id": "x8TJqR60oJA-",
        "colab_type": "code",
        "colab": {
          "base_uri": "https://localhost:8080/",
          "height": 421
        },
        "outputId": "55db129c-89d8-4c4c-a18d-82f9c286cb4f"
      },
      "source": [
        "sns.scatterplot(x=X, y=y,alpha=0.1)"
      ],
      "execution_count": 48,
      "outputs": [
        {
          "output_type": "error",
          "ename": "ValueError",
          "evalue": "ignored",
          "traceback": [
            "\u001b[0;31m---------------------------------------------------------------------------\u001b[0m",
            "\u001b[0;31mValueError\u001b[0m                                Traceback (most recent call last)",
            "\u001b[0;32m/usr/local/lib/python3.6/dist-packages/pandas/core/internals/managers.py\u001b[0m in \u001b[0;36mcreate_block_manager_from_arrays\u001b[0;34m(arrays, names, axes)\u001b[0m\n\u001b[1;32m   1665\u001b[0m     \u001b[0;32mtry\u001b[0m\u001b[0;34m:\u001b[0m\u001b[0;34m\u001b[0m\u001b[0;34m\u001b[0m\u001b[0m\n\u001b[0;32m-> 1666\u001b[0;31m         \u001b[0mblocks\u001b[0m \u001b[0;34m=\u001b[0m \u001b[0mform_blocks\u001b[0m\u001b[0;34m(\u001b[0m\u001b[0marrays\u001b[0m\u001b[0;34m,\u001b[0m \u001b[0mnames\u001b[0m\u001b[0;34m,\u001b[0m \u001b[0maxes\u001b[0m\u001b[0;34m)\u001b[0m\u001b[0;34m\u001b[0m\u001b[0;34m\u001b[0m\u001b[0m\n\u001b[0m\u001b[1;32m   1667\u001b[0m         \u001b[0mmgr\u001b[0m \u001b[0;34m=\u001b[0m \u001b[0mBlockManager\u001b[0m\u001b[0;34m(\u001b[0m\u001b[0mblocks\u001b[0m\u001b[0;34m,\u001b[0m \u001b[0maxes\u001b[0m\u001b[0;34m)\u001b[0m\u001b[0;34m\u001b[0m\u001b[0;34m\u001b[0m\u001b[0m\n",
            "\u001b[0;32m/usr/local/lib/python3.6/dist-packages/pandas/core/internals/managers.py\u001b[0m in \u001b[0;36mform_blocks\u001b[0;34m(arrays, names, axes)\u001b[0m\n\u001b[1;32m   1753\u001b[0m     \u001b[0;32mif\u001b[0m \u001b[0mlen\u001b[0m\u001b[0;34m(\u001b[0m\u001b[0mitems_dict\u001b[0m\u001b[0;34m[\u001b[0m\u001b[0;34m'ObjectBlock'\u001b[0m\u001b[0;34m]\u001b[0m\u001b[0;34m)\u001b[0m \u001b[0;34m>\u001b[0m \u001b[0;36m0\u001b[0m\u001b[0;34m:\u001b[0m\u001b[0;34m\u001b[0m\u001b[0;34m\u001b[0m\u001b[0m\n\u001b[0;32m-> 1754\u001b[0;31m         \u001b[0mobject_blocks\u001b[0m \u001b[0;34m=\u001b[0m \u001b[0m_simple_blockify\u001b[0m\u001b[0;34m(\u001b[0m\u001b[0mitems_dict\u001b[0m\u001b[0;34m[\u001b[0m\u001b[0;34m'ObjectBlock'\u001b[0m\u001b[0;34m]\u001b[0m\u001b[0;34m,\u001b[0m \u001b[0mnp\u001b[0m\u001b[0;34m.\u001b[0m\u001b[0mobject_\u001b[0m\u001b[0;34m)\u001b[0m\u001b[0;34m\u001b[0m\u001b[0;34m\u001b[0m\u001b[0m\n\u001b[0m\u001b[1;32m   1755\u001b[0m         \u001b[0mblocks\u001b[0m\u001b[0;34m.\u001b[0m\u001b[0mextend\u001b[0m\u001b[0;34m(\u001b[0m\u001b[0mobject_blocks\u001b[0m\u001b[0;34m)\u001b[0m\u001b[0;34m\u001b[0m\u001b[0;34m\u001b[0m\u001b[0m\n",
            "\u001b[0;32m/usr/local/lib/python3.6/dist-packages/pandas/core/internals/managers.py\u001b[0m in \u001b[0;36m_simple_blockify\u001b[0;34m(tuples, dtype)\u001b[0m\n\u001b[1;32m   1799\u001b[0m     \"\"\"\n\u001b[0;32m-> 1800\u001b[0;31m     \u001b[0mvalues\u001b[0m\u001b[0;34m,\u001b[0m \u001b[0mplacement\u001b[0m \u001b[0;34m=\u001b[0m \u001b[0m_stack_arrays\u001b[0m\u001b[0;34m(\u001b[0m\u001b[0mtuples\u001b[0m\u001b[0;34m,\u001b[0m \u001b[0mdtype\u001b[0m\u001b[0;34m)\u001b[0m\u001b[0;34m\u001b[0m\u001b[0;34m\u001b[0m\u001b[0m\n\u001b[0m\u001b[1;32m   1801\u001b[0m \u001b[0;34m\u001b[0m\u001b[0m\n",
            "\u001b[0;32m/usr/local/lib/python3.6/dist-packages/pandas/core/internals/managers.py\u001b[0m in \u001b[0;36m_stack_arrays\u001b[0;34m(tuples, dtype)\u001b[0m\n\u001b[1;32m   1862\u001b[0m     \u001b[0;32mfor\u001b[0m \u001b[0mi\u001b[0m\u001b[0;34m,\u001b[0m \u001b[0marr\u001b[0m \u001b[0;32min\u001b[0m \u001b[0menumerate\u001b[0m\u001b[0;34m(\u001b[0m\u001b[0marrays\u001b[0m\u001b[0;34m)\u001b[0m\u001b[0;34m:\u001b[0m\u001b[0;34m\u001b[0m\u001b[0;34m\u001b[0m\u001b[0m\n\u001b[0;32m-> 1863\u001b[0;31m         \u001b[0mstacked\u001b[0m\u001b[0;34m[\u001b[0m\u001b[0mi\u001b[0m\u001b[0;34m]\u001b[0m \u001b[0;34m=\u001b[0m \u001b[0m_asarray_compat\u001b[0m\u001b[0;34m(\u001b[0m\u001b[0marr\u001b[0m\u001b[0;34m)\u001b[0m\u001b[0;34m\u001b[0m\u001b[0;34m\u001b[0m\u001b[0m\n\u001b[0m\u001b[1;32m   1864\u001b[0m \u001b[0;34m\u001b[0m\u001b[0m\n",
            "\u001b[0;31mValueError\u001b[0m: could not broadcast input array from shape (3129) into shape (10)",
            "\nDuring handling of the above exception, another exception occurred:\n",
            "\u001b[0;31mValueError\u001b[0m                                Traceback (most recent call last)",
            "\u001b[0;32m<ipython-input-48-d7c026b1f39d>\u001b[0m in \u001b[0;36m<module>\u001b[0;34m()\u001b[0m\n\u001b[0;32m----> 1\u001b[0;31m \u001b[0msns\u001b[0m\u001b[0;34m.\u001b[0m\u001b[0mscatterplot\u001b[0m\u001b[0;34m(\u001b[0m\u001b[0mx\u001b[0m\u001b[0;34m=\u001b[0m\u001b[0mX\u001b[0m\u001b[0;34m,\u001b[0m \u001b[0my\u001b[0m\u001b[0;34m=\u001b[0m\u001b[0my\u001b[0m\u001b[0;34m,\u001b[0m\u001b[0malpha\u001b[0m\u001b[0;34m=\u001b[0m\u001b[0;36m0.1\u001b[0m\u001b[0;34m)\u001b[0m\u001b[0;34m\u001b[0m\u001b[0;34m\u001b[0m\u001b[0m\n\u001b[0m",
            "\u001b[0;32m/usr/local/lib/python3.6/dist-packages/seaborn/relational.py\u001b[0m in \u001b[0;36mscatterplot\u001b[0;34m(x, y, hue, style, size, data, palette, hue_order, hue_norm, sizes, size_order, size_norm, markers, style_order, x_bins, y_bins, units, estimator, ci, n_boot, alpha, x_jitter, y_jitter, legend, ax, **kwargs)\u001b[0m\n\u001b[1;32m   1333\u001b[0m         \u001b[0mx_bins\u001b[0m\u001b[0;34m=\u001b[0m\u001b[0mx_bins\u001b[0m\u001b[0;34m,\u001b[0m \u001b[0my_bins\u001b[0m\u001b[0;34m=\u001b[0m\u001b[0my_bins\u001b[0m\u001b[0;34m,\u001b[0m\u001b[0;34m\u001b[0m\u001b[0;34m\u001b[0m\u001b[0m\n\u001b[1;32m   1334\u001b[0m         \u001b[0mestimator\u001b[0m\u001b[0;34m=\u001b[0m\u001b[0mestimator\u001b[0m\u001b[0;34m,\u001b[0m \u001b[0mci\u001b[0m\u001b[0;34m=\u001b[0m\u001b[0mci\u001b[0m\u001b[0;34m,\u001b[0m \u001b[0mn_boot\u001b[0m\u001b[0;34m=\u001b[0m\u001b[0mn_boot\u001b[0m\u001b[0;34m,\u001b[0m\u001b[0;34m\u001b[0m\u001b[0;34m\u001b[0m\u001b[0m\n\u001b[0;32m-> 1335\u001b[0;31m         \u001b[0malpha\u001b[0m\u001b[0;34m=\u001b[0m\u001b[0malpha\u001b[0m\u001b[0;34m,\u001b[0m \u001b[0mx_jitter\u001b[0m\u001b[0;34m=\u001b[0m\u001b[0mx_jitter\u001b[0m\u001b[0;34m,\u001b[0m \u001b[0my_jitter\u001b[0m\u001b[0;34m=\u001b[0m\u001b[0my_jitter\u001b[0m\u001b[0;34m,\u001b[0m \u001b[0mlegend\u001b[0m\u001b[0;34m=\u001b[0m\u001b[0mlegend\u001b[0m\u001b[0;34m,\u001b[0m\u001b[0;34m\u001b[0m\u001b[0;34m\u001b[0m\u001b[0m\n\u001b[0m\u001b[1;32m   1336\u001b[0m     )\n\u001b[1;32m   1337\u001b[0m \u001b[0;34m\u001b[0m\u001b[0m\n",
            "\u001b[0;32m/usr/local/lib/python3.6/dist-packages/seaborn/relational.py\u001b[0m in \u001b[0;36m__init__\u001b[0;34m(self, x, y, hue, size, style, data, palette, hue_order, hue_norm, sizes, size_order, size_norm, dashes, markers, style_order, x_bins, y_bins, units, estimator, ci, n_boot, alpha, x_jitter, y_jitter, legend)\u001b[0m\n\u001b[1;32m    850\u001b[0m \u001b[0;34m\u001b[0m\u001b[0m\n\u001b[1;32m    851\u001b[0m         plot_data = self.establish_variables(\n\u001b[0;32m--> 852\u001b[0;31m             \u001b[0mx\u001b[0m\u001b[0;34m,\u001b[0m \u001b[0my\u001b[0m\u001b[0;34m,\u001b[0m \u001b[0mhue\u001b[0m\u001b[0;34m,\u001b[0m \u001b[0msize\u001b[0m\u001b[0;34m,\u001b[0m \u001b[0mstyle\u001b[0m\u001b[0;34m,\u001b[0m \u001b[0munits\u001b[0m\u001b[0;34m,\u001b[0m \u001b[0mdata\u001b[0m\u001b[0;34m\u001b[0m\u001b[0;34m\u001b[0m\u001b[0m\n\u001b[0m\u001b[1;32m    853\u001b[0m         )\n\u001b[1;32m    854\u001b[0m \u001b[0;34m\u001b[0m\u001b[0m\n",
            "\u001b[0;32m/usr/local/lib/python3.6/dist-packages/seaborn/relational.py\u001b[0m in \u001b[0;36mestablish_variables\u001b[0;34m(self, x, y, hue, size, style, units, data)\u001b[0m\n\u001b[1;32m    155\u001b[0m                 \u001b[0munits\u001b[0m\u001b[0;34m=\u001b[0m\u001b[0munits\u001b[0m\u001b[0;34m\u001b[0m\u001b[0;34m\u001b[0m\u001b[0m\n\u001b[1;32m    156\u001b[0m             )\n\u001b[0;32m--> 157\u001b[0;31m             \u001b[0mplot_data\u001b[0m \u001b[0;34m=\u001b[0m \u001b[0mpd\u001b[0m\u001b[0;34m.\u001b[0m\u001b[0mDataFrame\u001b[0m\u001b[0;34m(\u001b[0m\u001b[0mplot_data\u001b[0m\u001b[0;34m)\u001b[0m\u001b[0;34m\u001b[0m\u001b[0;34m\u001b[0m\u001b[0m\n\u001b[0m\u001b[1;32m    158\u001b[0m \u001b[0;34m\u001b[0m\u001b[0m\n\u001b[1;32m    159\u001b[0m         \u001b[0;31m# Option 3:\u001b[0m\u001b[0;34m\u001b[0m\u001b[0;34m\u001b[0m\u001b[0;34m\u001b[0m\u001b[0m\n",
            "\u001b[0;32m/usr/local/lib/python3.6/dist-packages/pandas/core/frame.py\u001b[0m in \u001b[0;36m__init__\u001b[0;34m(self, data, index, columns, dtype, copy)\u001b[0m\n\u001b[1;32m    390\u001b[0m                                  dtype=dtype, copy=copy)\n\u001b[1;32m    391\u001b[0m         \u001b[0;32melif\u001b[0m \u001b[0misinstance\u001b[0m\u001b[0;34m(\u001b[0m\u001b[0mdata\u001b[0m\u001b[0;34m,\u001b[0m \u001b[0mdict\u001b[0m\u001b[0;34m)\u001b[0m\u001b[0;34m:\u001b[0m\u001b[0;34m\u001b[0m\u001b[0;34m\u001b[0m\u001b[0m\n\u001b[0;32m--> 392\u001b[0;31m             \u001b[0mmgr\u001b[0m \u001b[0;34m=\u001b[0m \u001b[0minit_dict\u001b[0m\u001b[0;34m(\u001b[0m\u001b[0mdata\u001b[0m\u001b[0;34m,\u001b[0m \u001b[0mindex\u001b[0m\u001b[0;34m,\u001b[0m \u001b[0mcolumns\u001b[0m\u001b[0;34m,\u001b[0m \u001b[0mdtype\u001b[0m\u001b[0;34m=\u001b[0m\u001b[0mdtype\u001b[0m\u001b[0;34m)\u001b[0m\u001b[0;34m\u001b[0m\u001b[0;34m\u001b[0m\u001b[0m\n\u001b[0m\u001b[1;32m    393\u001b[0m         \u001b[0;32melif\u001b[0m \u001b[0misinstance\u001b[0m\u001b[0;34m(\u001b[0m\u001b[0mdata\u001b[0m\u001b[0;34m,\u001b[0m \u001b[0mma\u001b[0m\u001b[0;34m.\u001b[0m\u001b[0mMaskedArray\u001b[0m\u001b[0;34m)\u001b[0m\u001b[0;34m:\u001b[0m\u001b[0;34m\u001b[0m\u001b[0;34m\u001b[0m\u001b[0m\n\u001b[1;32m    394\u001b[0m             \u001b[0;32mimport\u001b[0m \u001b[0mnumpy\u001b[0m\u001b[0;34m.\u001b[0m\u001b[0mma\u001b[0m\u001b[0;34m.\u001b[0m\u001b[0mmrecords\u001b[0m \u001b[0;32mas\u001b[0m \u001b[0mmrecords\u001b[0m\u001b[0;34m\u001b[0m\u001b[0;34m\u001b[0m\u001b[0m\n",
            "\u001b[0;32m/usr/local/lib/python3.6/dist-packages/pandas/core/internals/construction.py\u001b[0m in \u001b[0;36minit_dict\u001b[0;34m(data, index, columns, dtype)\u001b[0m\n\u001b[1;32m    210\u001b[0m         \u001b[0marrays\u001b[0m \u001b[0;34m=\u001b[0m \u001b[0;34m[\u001b[0m\u001b[0mdata\u001b[0m\u001b[0;34m[\u001b[0m\u001b[0mk\u001b[0m\u001b[0;34m]\u001b[0m \u001b[0;32mfor\u001b[0m \u001b[0mk\u001b[0m \u001b[0;32min\u001b[0m \u001b[0mkeys\u001b[0m\u001b[0;34m]\u001b[0m\u001b[0;34m\u001b[0m\u001b[0;34m\u001b[0m\u001b[0m\n\u001b[1;32m    211\u001b[0m \u001b[0;34m\u001b[0m\u001b[0m\n\u001b[0;32m--> 212\u001b[0;31m     \u001b[0;32mreturn\u001b[0m \u001b[0marrays_to_mgr\u001b[0m\u001b[0;34m(\u001b[0m\u001b[0marrays\u001b[0m\u001b[0;34m,\u001b[0m \u001b[0mdata_names\u001b[0m\u001b[0;34m,\u001b[0m \u001b[0mindex\u001b[0m\u001b[0;34m,\u001b[0m \u001b[0mcolumns\u001b[0m\u001b[0;34m,\u001b[0m \u001b[0mdtype\u001b[0m\u001b[0;34m=\u001b[0m\u001b[0mdtype\u001b[0m\u001b[0;34m)\u001b[0m\u001b[0;34m\u001b[0m\u001b[0;34m\u001b[0m\u001b[0m\n\u001b[0m\u001b[1;32m    213\u001b[0m \u001b[0;34m\u001b[0m\u001b[0m\n\u001b[1;32m    214\u001b[0m \u001b[0;34m\u001b[0m\u001b[0m\n",
            "\u001b[0;32m/usr/local/lib/python3.6/dist-packages/pandas/core/internals/construction.py\u001b[0m in \u001b[0;36marrays_to_mgr\u001b[0;34m(arrays, arr_names, index, columns, dtype)\u001b[0m\n\u001b[1;32m     59\u001b[0m     \u001b[0maxes\u001b[0m \u001b[0;34m=\u001b[0m \u001b[0;34m[\u001b[0m\u001b[0mensure_index\u001b[0m\u001b[0;34m(\u001b[0m\u001b[0mcolumns\u001b[0m\u001b[0;34m)\u001b[0m\u001b[0;34m,\u001b[0m \u001b[0mindex\u001b[0m\u001b[0;34m]\u001b[0m\u001b[0;34m\u001b[0m\u001b[0;34m\u001b[0m\u001b[0m\n\u001b[1;32m     60\u001b[0m \u001b[0;34m\u001b[0m\u001b[0m\n\u001b[0;32m---> 61\u001b[0;31m     \u001b[0;32mreturn\u001b[0m \u001b[0mcreate_block_manager_from_arrays\u001b[0m\u001b[0;34m(\u001b[0m\u001b[0marrays\u001b[0m\u001b[0;34m,\u001b[0m \u001b[0marr_names\u001b[0m\u001b[0;34m,\u001b[0m \u001b[0maxes\u001b[0m\u001b[0;34m)\u001b[0m\u001b[0;34m\u001b[0m\u001b[0;34m\u001b[0m\u001b[0m\n\u001b[0m\u001b[1;32m     62\u001b[0m \u001b[0;34m\u001b[0m\u001b[0m\n\u001b[1;32m     63\u001b[0m \u001b[0;34m\u001b[0m\u001b[0m\n",
            "\u001b[0;32m/usr/local/lib/python3.6/dist-packages/pandas/core/internals/managers.py\u001b[0m in \u001b[0;36mcreate_block_manager_from_arrays\u001b[0;34m(arrays, names, axes)\u001b[0m\n\u001b[1;32m   1669\u001b[0m         \u001b[0;32mreturn\u001b[0m \u001b[0mmgr\u001b[0m\u001b[0;34m\u001b[0m\u001b[0;34m\u001b[0m\u001b[0m\n\u001b[1;32m   1670\u001b[0m     \u001b[0;32mexcept\u001b[0m \u001b[0mValueError\u001b[0m \u001b[0;32mas\u001b[0m \u001b[0me\u001b[0m\u001b[0;34m:\u001b[0m\u001b[0;34m\u001b[0m\u001b[0;34m\u001b[0m\u001b[0m\n\u001b[0;32m-> 1671\u001b[0;31m         \u001b[0mconstruction_error\u001b[0m\u001b[0;34m(\u001b[0m\u001b[0mlen\u001b[0m\u001b[0;34m(\u001b[0m\u001b[0marrays\u001b[0m\u001b[0;34m)\u001b[0m\u001b[0;34m,\u001b[0m \u001b[0marrays\u001b[0m\u001b[0;34m[\u001b[0m\u001b[0;36m0\u001b[0m\u001b[0;34m]\u001b[0m\u001b[0;34m.\u001b[0m\u001b[0mshape\u001b[0m\u001b[0;34m,\u001b[0m \u001b[0maxes\u001b[0m\u001b[0;34m,\u001b[0m \u001b[0me\u001b[0m\u001b[0;34m)\u001b[0m\u001b[0;34m\u001b[0m\u001b[0;34m\u001b[0m\u001b[0m\n\u001b[0m\u001b[1;32m   1672\u001b[0m \u001b[0;34m\u001b[0m\u001b[0m\n\u001b[1;32m   1673\u001b[0m \u001b[0;34m\u001b[0m\u001b[0m\n",
            "\u001b[0;32m/usr/local/lib/python3.6/dist-packages/pandas/core/internals/managers.py\u001b[0m in \u001b[0;36mconstruction_error\u001b[0;34m(tot_items, block_shape, axes, e)\u001b[0m\n\u001b[1;32m   1689\u001b[0m         \u001b[0;32mraise\u001b[0m \u001b[0mValueError\u001b[0m\u001b[0;34m(\u001b[0m\u001b[0;34m\"Empty data passed with indices specified.\"\u001b[0m\u001b[0;34m)\u001b[0m\u001b[0;34m\u001b[0m\u001b[0;34m\u001b[0m\u001b[0m\n\u001b[1;32m   1690\u001b[0m     raise ValueError(\"Shape of passed values is {0}, indices imply {1}\".format(\n\u001b[0;32m-> 1691\u001b[0;31m         passed, implied))\n\u001b[0m\u001b[1;32m   1692\u001b[0m \u001b[0;34m\u001b[0m\u001b[0m\n\u001b[1;32m   1693\u001b[0m \u001b[0;34m\u001b[0m\u001b[0m\n",
            "\u001b[0;31mValueError\u001b[0m: Shape of passed values is (10, 6), indices imply (3129, 6)"
          ]
        }
      ]
    },
    {
      "cell_type": "markdown",
      "metadata": {
        "id": "TdBl0-UWvs4_",
        "colab_type": "text"
      },
      "source": [
        "#Predict future gini values (optional)"
      ]
    },
    {
      "cell_type": "markdown",
      "metadata": {
        "id": "RDR6zXBzv8Sg",
        "colab_type": "text"
      },
      "source": [
        "#Apply UBI transform to Gini values"
      ]
    },
    {
      "cell_type": "markdown",
      "metadata": {
        "id": "6rNfTnrEwCkw",
        "colab_type": "text"
      },
      "source": [
        "#Predict adult_arrests rate without UBI"
      ]
    },
    {
      "cell_type": "markdown",
      "metadata": {
        "id": "FWdelRjKwXOQ",
        "colab_type": "text"
      },
      "source": [
        "#Predict adult_arrests rate with UBI"
      ]
    },
    {
      "cell_type": "markdown",
      "metadata": {
        "id": "TKktfEnFVqqK",
        "colab_type": "text"
      },
      "source": [
        "#Additional Questions:  \n"
      ]
    },
    {
      "cell_type": "markdown",
      "metadata": {
        "id": "QiH_uzsRwZrd",
        "colab_type": "text"
      },
      "source": [
        "##Correlation between income metric and trend in adult_arrests rate?  \n",
        "positive feedback loop?"
      ]
    },
    {
      "cell_type": "markdown",
      "metadata": {
        "id": "2DsWWDd0VxGA",
        "colab_type": "text"
      },
      "source": [
        "##Mean/Median income predictive of type of crime?"
      ]
    },
    {
      "cell_type": "markdown",
      "metadata": {
        "id": "9dNNolD2Qnbv",
        "colab_type": "text"
      },
      "source": [
        "#TODO \n",
        "11/16/19:  \n",
        "Merge relevant adult_arrests data.  \n",
        "Collapse by county.  \n"
      ]
    }
  ]
}