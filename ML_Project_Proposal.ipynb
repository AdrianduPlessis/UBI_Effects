{
  "nbformat": 4,
  "nbformat_minor": 0,
  "metadata": {
    "colab": {
      "name": "ML Project Proposal",
      "provenance": [],
      "collapsed_sections": [],
      "include_colab_link": true
    },
    "kernelspec": {
      "name": "python3",
      "display_name": "Python 3"
    }
  },
  "cells": [
    {
      "cell_type": "markdown",
      "metadata": {
        "id": "view-in-github",
        "colab_type": "text"
      },
      "source": [
        "<a href=\"https://colab.research.google.com/github/AdrianduPlessis/UBI_Effects/blob/master/ML_Project_Proposal.ipynb\" target=\"_parent\"><img src=\"https://colab.research.google.com/assets/colab-badge.svg\" alt=\"Open In Colab\"/></a>"
      ]
    },
    {
      "cell_type": "markdown",
      "metadata": {
        "id": "-OOhWspmNpzF",
        "colab_type": "text"
      },
      "source": [
        "#Hidden Effects of a UBI"
      ]
    },
    {
      "cell_type": "markdown",
      "metadata": {
        "id": "3DQtYb76FU7y",
        "colab_type": "text"
      },
      "source": [
        "Universal Basic Income (UBI) is not a new idea, I myself was introduced to the idea when Elon Musk first mentioned it in an interview back in 2017. Recently one of the democratic candidates, Andrew Yang, has been moving the idea closer to reality than it has ever been (on a massive scale, at least). With more attention than ever on UBI, some interesting opinions are being aired as to the possible social implications this massive economic disruption might have.  \n",
        "\n",
        "Thinking through these issues myself, a lucky synapse fired reminding me of the Gini Index. The Gini Index is essentially a metric representing the inequality of income distribution within a certain geography. A UBI would obviously have the effect of lowering the Gini Index, most drastically on the bottom end. \n",
        " \n",
        "'Alright, so what?' I can hear you thinking. So this: The only reason I remember anything at all from the obscure YouTube video that introduced me to the Gini Index is because of the powerful correlation that exists between the Gini Index and adult_arrests rates. Anywhere on the spectrum... if you take two of the weathiest neighborhoods California, for example, and calculate the Gini Index for just those two neighborhoods, the neighborhood with the higher Gini Coefficient will (with some confidence) have the higher adult_arrests rate.  \n",
        "\n",
        "'Neato, but so what?' Well, let me put it to you that using per county Gini Index, Income, and adult_arrests Rate data-- a decent ML model should be able to predict the reduction in adult_arrests rates of a given UBI ammount.  \n",
        "\n",
        "**What's more:** that predicted reduction in adult_arrests-rate could be translated into reduced cost of incarseration (including burden of legal fees) to the government, information that would be very useful to a hopeful candidate trying to explain the value of the idea that their political campaign is based on."
      ]
    },
    {
      "cell_type": "markdown",
      "metadata": {
        "id": "n696ppW6uJgw",
        "colab_type": "text"
      },
      "source": [
        "#Hyp: income inequality -> adult_arrests\n"
      ]
    },
    {
      "cell_type": "markdown",
      "metadata": {
        "id": "zZ3j5JGNu874",
        "colab_type": "text"
      },
      "source": [
        "Hypothesis A: There exists a (statistically significant) correlation between Gini Coefficient (Income Inequality) and adult_arrestsrates within a specific county/state."
      ]
    },
    {
      "cell_type": "markdown",
      "metadata": {
        "id": "uwkfn0HCu-gv",
        "colab_type": "text"
      },
      "source": [
        "Determine p-values for individual counties' gini-to-adult_arrests over time.  \n",
        "Determine p-values for counties' gini-to-adult_arrests for a given year."
      ]
    },
    {
      "cell_type": "markdown",
      "metadata": {
        "id": "kV7WswiuxDQS",
        "colab_type": "text"
      },
      "source": [
        "##Tools of the trade"
      ]
    },
    {
      "cell_type": "code",
      "metadata": {
        "id": "hlGegSOmxbDE",
        "colab_type": "code",
        "colab": {}
      },
      "source": [
        "import numpy as np\n",
        "import pandas as pd\n",
        "import pandas_profiling\n",
        "import matplotlib.pyplot as plt\n",
        "\n",
        "#Imports for baseline\n",
        "import seaborn as sns\n",
        "from sklearn.linear_model import LinearRegression\n",
        "from sklearn.metrics import mean_squared_error"
      ],
      "execution_count": 0,
      "outputs": []
    },
    {
      "cell_type": "markdown",
      "metadata": {
        "id": "_u8aUzgRw2ik",
        "colab_type": "text"
      },
      "source": [
        "##Import Datasets"
      ]
    },
    {
      "cell_type": "code",
      "metadata": {
        "id": "uP1N46t63J4K",
        "colab_type": "code",
        "colab": {}
      },
      "source": [
        "gini_5yr_est_2017 = pd.read_csv('https://raw.githubusercontent.com/AdrianduPlessis/UBI_Effects/master/data/gini_est_5yr_17.csv', skiprows=1)"
      ],
      "execution_count": 0,
      "outputs": []
    },
    {
      "cell_type": "code",
      "metadata": {
        "id": "xcPNKt-zyYaR",
        "colab_type": "code",
        "colab": {}
      },
      "source": [
        "#adult_arrests = pd.read_csv('https://raw.githubusercontent.com/AdrianduPlessis/UBI_Effects/master/data/ICPSR_36399/DS0001/36399-0001-Data.tsv', sep='\\t')\n",
        "adult_arrests = pd.read_csv('https://raw.githubusercontent.com/AdrianduPlessis/UBI_Effects/master/data/ICPSR_36399/DS0004/36399-0004-Data.tsv', sep='\\t')"
      ],
      "execution_count": 0,
      "outputs": []
    },
    {
      "cell_type": "code",
      "metadata": {
        "id": "1Jg1rc832NJV",
        "colab_type": "code",
        "colab": {}
      },
      "source": [
        "FIPS = pd.read_csv('https://raw.githubusercontent.com/AdrianduPlessis/UBI_Effects/master/data/all-geocodes-v2016.xlsx%20-%20Sheet1.csv', skiprows=4)\n"
      ],
      "execution_count": 0,
      "outputs": []
    },
    {
      "cell_type": "markdown",
      "metadata": {
        "id": "HlVIrNJpTdK-",
        "colab_type": "text"
      },
      "source": [
        "###Data Wrangling"
      ]
    },
    {
      "cell_type": "code",
      "metadata": {
        "id": "5Do6FKOfqlRG",
        "colab_type": "code",
        "colab": {}
      },
      "source": [
        "def change_id_to_fips(id):\n",
        "  fips = int(id[-5:])\n",
        "  return fips"
      ],
      "execution_count": 0,
      "outputs": []
    },
    {
      "cell_type": "code",
      "metadata": {
        "id": "NkA0Q4xmrF3A",
        "colab_type": "code",
        "colab": {}
      },
      "source": [
        "gini_5yr_est_2017['Id'].apply(change_id_to_fips);"
      ],
      "execution_count": 0,
      "outputs": []
    },
    {
      "cell_type": "code",
      "metadata": {
        "id": "Y52bRymujpbG",
        "colab_type": "code",
        "colab": {}
      },
      "source": [
        "#Create dictionary to lookup State based on state FIPS\n",
        "State_FIPS = FIPS[FIPS['County Code (FIPS)']==0]\n",
        "State_FIPS = State_FIPS[State_FIPS['Summary Level']==40]\n",
        "\n",
        "lookup_state_FIPS = dict(zip(State_FIPS['State Code (FIPS)'], State_FIPS['Area Name (including legal/statistical area description)']))"
      ],
      "execution_count": 0,
      "outputs": []
    },
    {
      "cell_type": "code",
      "metadata": {
        "id": "DnfF8kGSSU_E",
        "colab_type": "code",
        "colab": {}
      },
      "source": [
        "adult_arrests['state'] = adult_arrests['FIPS_ST'].map(lookup_state_FIPS)"
      ],
      "execution_count": 0,
      "outputs": []
    },
    {
      "cell_type": "code",
      "metadata": {
        "id": "xUh-3rMwm_dI",
        "colab_type": "code",
        "colab": {}
      },
      "source": [
        "def combine_cty_st_fips(cty, st):\n",
        "  full_fips = st*1000 + cty\n",
        "  return full_fips"
      ],
      "execution_count": 0,
      "outputs": []
    },
    {
      "cell_type": "code",
      "metadata": {
        "id": "XMkRR7qjoQ3q",
        "colab_type": "code",
        "colab": {}
      },
      "source": [
        "FIPS['FIPS'] = combine_cty_st_fips(FIPS['County Code (FIPS)'], FIPS['State Code (FIPS)'])\n",
        "adult_arrests['FIPS'] = combine_cty_st_fips(adult_arrests['FIPS_CTY'], adult_arrests['FIPS_ST'])"
      ],
      "execution_count": 0,
      "outputs": []
    },
    {
      "cell_type": "markdown",
      "metadata": {
        "id": "RXODiASZw6B8",
        "colab_type": "text"
      },
      "source": [
        "##Merge Datasets"
      ]
    },
    {
      "cell_type": "code",
      "metadata": {
        "id": "5X3nz45tsqHP",
        "colab_type": "code",
        "colab": {}
      },
      "source": [
        "#Note: missing gini data for 35 counties (based on shapes of dfs being merged)\n",
        "arrest_by_ineq = adult_arrests.merge(gini_5yr_est_2017, left_on='FIPS', right_on='Id2')"
      ],
      "execution_count": 0,
      "outputs": []
    },
    {
      "cell_type": "code",
      "metadata": {
        "id": "m7LS6phmuAcr",
        "colab_type": "code",
        "colab": {
          "base_uri": "https://localhost:8080/",
          "height": 450
        },
        "outputId": "941c3991-9747-4aa4-c437-9bd317841b86"
      },
      "source": [
        "arrest_by_ineq.head()"
      ],
      "execution_count": 13,
      "outputs": [
        {
          "output_type": "execute_result",
          "data": {
            "text/html": [
              "<div>\n",
              "<style scoped>\n",
              "    .dataframe tbody tr th:only-of-type {\n",
              "        vertical-align: middle;\n",
              "    }\n",
              "\n",
              "    .dataframe tbody tr th {\n",
              "        vertical-align: top;\n",
              "    }\n",
              "\n",
              "    .dataframe thead th {\n",
              "        text-align: right;\n",
              "    }\n",
              "</style>\n",
              "<table border=\"1\" class=\"dataframe\">\n",
              "  <thead>\n",
              "    <tr style=\"text-align: right;\">\n",
              "      <th></th>\n",
              "      <th>STUDYNO</th>\n",
              "      <th>EDITION</th>\n",
              "      <th>PART</th>\n",
              "      <th>IDNO</th>\n",
              "      <th>FIPS_ST</th>\n",
              "      <th>FIPS_CTY</th>\n",
              "      <th>CPOPARST</th>\n",
              "      <th>CPOPCRIM</th>\n",
              "      <th>AG_ARRST</th>\n",
              "      <th>AG_OFF</th>\n",
              "      <th>COVIND</th>\n",
              "      <th>VIOL</th>\n",
              "      <th>PROPERTY</th>\n",
              "      <th>MURDER</th>\n",
              "      <th>RAPE</th>\n",
              "      <th>ROBBERY</th>\n",
              "      <th>AGASSLT</th>\n",
              "      <th>BURGLRY</th>\n",
              "      <th>LARCENY</th>\n",
              "      <th>MVTHEFT</th>\n",
              "      <th>ARSON</th>\n",
              "      <th>state</th>\n",
              "      <th>FIPS</th>\n",
              "      <th>Id</th>\n",
              "      <th>Id2</th>\n",
              "      <th>Geography</th>\n",
              "      <th>Estimate; Gini Index</th>\n",
              "      <th>Margin of Error; Gini Index</th>\n",
              "    </tr>\n",
              "  </thead>\n",
              "  <tbody>\n",
              "    <tr>\n",
              "      <th>0</th>\n",
              "      <td>9999</td>\n",
              "      <td>1</td>\n",
              "      <td>4</td>\n",
              "      <td>1</td>\n",
              "      <td>1</td>\n",
              "      <td>1</td>\n",
              "      <td>57217</td>\n",
              "      <td>54579</td>\n",
              "      <td>3</td>\n",
              "      <td>3</td>\n",
              "      <td>100.0000</td>\n",
              "      <td>144</td>\n",
              "      <td>1625</td>\n",
              "      <td>2</td>\n",
              "      <td>18</td>\n",
              "      <td>37</td>\n",
              "      <td>87</td>\n",
              "      <td>386</td>\n",
              "      <td>1110</td>\n",
              "      <td>129</td>\n",
              "      <td>14</td>\n",
              "      <td>Alabama</td>\n",
              "      <td>1001</td>\n",
              "      <td>0500000US01001</td>\n",
              "      <td>1001</td>\n",
              "      <td>Autauga County, Alabama</td>\n",
              "      <td>0.4501</td>\n",
              "      <td>0.0391</td>\n",
              "    </tr>\n",
              "    <tr>\n",
              "      <th>1</th>\n",
              "      <td>9999</td>\n",
              "      <td>1</td>\n",
              "      <td>4</td>\n",
              "      <td>2</td>\n",
              "      <td>1</td>\n",
              "      <td>3</td>\n",
              "      <td>198843</td>\n",
              "      <td>193083</td>\n",
              "      <td>14</td>\n",
              "      <td>13</td>\n",
              "      <td>96.0428</td>\n",
              "      <td>373</td>\n",
              "      <td>4060</td>\n",
              "      <td>4</td>\n",
              "      <td>33</td>\n",
              "      <td>62</td>\n",
              "      <td>274</td>\n",
              "      <td>770</td>\n",
              "      <td>3167</td>\n",
              "      <td>123</td>\n",
              "      <td>18</td>\n",
              "      <td>Alabama</td>\n",
              "      <td>1003</td>\n",
              "      <td>0500000US01003</td>\n",
              "      <td>1003</td>\n",
              "      <td>Baldwin County, Alabama</td>\n",
              "      <td>0.4618</td>\n",
              "      <td>0.0100</td>\n",
              "    </tr>\n",
              "    <tr>\n",
              "      <th>2</th>\n",
              "      <td>9999</td>\n",
              "      <td>1</td>\n",
              "      <td>4</td>\n",
              "      <td>3</td>\n",
              "      <td>1</td>\n",
              "      <td>5</td>\n",
              "      <td>27026</td>\n",
              "      <td>25154</td>\n",
              "      <td>5</td>\n",
              "      <td>4</td>\n",
              "      <td>96.0536</td>\n",
              "      <td>97</td>\n",
              "      <td>660</td>\n",
              "      <td>3</td>\n",
              "      <td>10</td>\n",
              "      <td>14</td>\n",
              "      <td>70</td>\n",
              "      <td>171</td>\n",
              "      <td>454</td>\n",
              "      <td>36</td>\n",
              "      <td>1</td>\n",
              "      <td>Alabama</td>\n",
              "      <td>1005</td>\n",
              "      <td>0500000US01005</td>\n",
              "      <td>1005</td>\n",
              "      <td>Barbour County, Alabama</td>\n",
              "      <td>0.4622</td>\n",
              "      <td>0.0148</td>\n",
              "    </tr>\n",
              "    <tr>\n",
              "      <th>3</th>\n",
              "      <td>9999</td>\n",
              "      <td>1</td>\n",
              "      <td>4</td>\n",
              "      <td>4</td>\n",
              "      <td>1</td>\n",
              "      <td>7</td>\n",
              "      <td>22491</td>\n",
              "      <td>21175</td>\n",
              "      <td>4</td>\n",
              "      <td>5</td>\n",
              "      <td>98.9359</td>\n",
              "      <td>23</td>\n",
              "      <td>227</td>\n",
              "      <td>2</td>\n",
              "      <td>3</td>\n",
              "      <td>2</td>\n",
              "      <td>16</td>\n",
              "      <td>65</td>\n",
              "      <td>143</td>\n",
              "      <td>19</td>\n",
              "      <td>1</td>\n",
              "      <td>Alabama</td>\n",
              "      <td>1007</td>\n",
              "      <td>0500000US01007</td>\n",
              "      <td>1007</td>\n",
              "      <td>Bibb County, Alabama</td>\n",
              "      <td>0.4518</td>\n",
              "      <td>0.0565</td>\n",
              "    </tr>\n",
              "    <tr>\n",
              "      <th>4</th>\n",
              "      <td>9999</td>\n",
              "      <td>1</td>\n",
              "      <td>4</td>\n",
              "      <td>5</td>\n",
              "      <td>1</td>\n",
              "      <td>9</td>\n",
              "      <td>58037</td>\n",
              "      <td>58037</td>\n",
              "      <td>6</td>\n",
              "      <td>6</td>\n",
              "      <td>98.4949</td>\n",
              "      <td>125</td>\n",
              "      <td>1270</td>\n",
              "      <td>0</td>\n",
              "      <td>15</td>\n",
              "      <td>4</td>\n",
              "      <td>106</td>\n",
              "      <td>374</td>\n",
              "      <td>772</td>\n",
              "      <td>124</td>\n",
              "      <td>7</td>\n",
              "      <td>Alabama</td>\n",
              "      <td>1009</td>\n",
              "      <td>0500000US01009</td>\n",
              "      <td>1009</td>\n",
              "      <td>Blount County, Alabama</td>\n",
              "      <td>0.4302</td>\n",
              "      <td>0.0175</td>\n",
              "    </tr>\n",
              "  </tbody>\n",
              "</table>\n",
              "</div>"
            ],
            "text/plain": [
              "   STUDYNO  EDITION  ...  Estimate; Gini Index  Margin of Error; Gini Index\n",
              "0     9999        1  ...                0.4501                       0.0391\n",
              "1     9999        1  ...                0.4618                       0.0100\n",
              "2     9999        1  ...                0.4622                       0.0148\n",
              "3     9999        1  ...                0.4518                       0.0565\n",
              "4     9999        1  ...                0.4302                       0.0175\n",
              "\n",
              "[5 rows x 28 columns]"
            ]
          },
          "metadata": {
            "tags": []
          },
          "execution_count": 13
        }
      ]
    },
    {
      "cell_type": "markdown",
      "metadata": {
        "id": "QT7YRletabCC",
        "colab_type": "text"
      },
      "source": [
        "###Further Wrangling"
      ]
    },
    {
      "cell_type": "code",
      "metadata": {
        "id": "ypQEM3xZaddZ",
        "colab_type": "code",
        "colab": {}
      },
      "source": [
        "#Engineer feature that controls for variation in population size\n",
        "arrest_by_ineq['arrests_per_person'] = arrest_by_ineq['PROPERTY']/ arrest_by_ineq['CPOPARST']#Changes GRNDTOT to PROPERTY for different dataset"
      ],
      "execution_count": 0,
      "outputs": []
    },
    {
      "cell_type": "code",
      "metadata": {
        "id": "cJ5HVdLIhuKG",
        "colab_type": "code",
        "colab": {}
      },
      "source": [
        "#TODO: Control all arrest type for population size"
      ],
      "execution_count": 0,
      "outputs": []
    },
    {
      "cell_type": "code",
      "metadata": {
        "id": "L9Co9d0geJZx",
        "colab_type": "code",
        "colab": {
          "base_uri": "https://localhost:8080/",
          "height": 34
        },
        "outputId": "47730908-fa4a-4fb3-c506-f1d874e29475"
      },
      "source": [
        "arrest_by_ineq.shape"
      ],
      "execution_count": 15,
      "outputs": [
        {
          "output_type": "execute_result",
          "data": {
            "text/plain": [
              "(3134, 29)"
            ]
          },
          "metadata": {
            "tags": []
          },
          "execution_count": 15
        }
      ]
    },
    {
      "cell_type": "code",
      "metadata": {
        "id": "_eMk85mehbOa",
        "colab_type": "code",
        "colab": {}
      },
      "source": [
        "#Drop NaNs\n",
        "#Stretch: Impute\n",
        "arrest_by_ineq = arrest_by_ineq.dropna()"
      ],
      "execution_count": 0,
      "outputs": []
    },
    {
      "cell_type": "code",
      "metadata": {
        "id": "UHvBKoE5hjLk",
        "colab_type": "code",
        "colab": {
          "base_uri": "https://localhost:8080/",
          "height": 34
        },
        "outputId": "5ff7d63c-553d-49c2-c001-fc3fda41acb8"
      },
      "source": [
        "arrest_by_ineq.shape"
      ],
      "execution_count": 17,
      "outputs": [
        {
          "output_type": "execute_result",
          "data": {
            "text/plain": [
              "(3129, 29)"
            ]
          },
          "metadata": {
            "tags": []
          },
          "execution_count": 17
        }
      ]
    },
    {
      "cell_type": "code",
      "metadata": {
        "id": "STiRRdm6q35D",
        "colab_type": "code",
        "colab": {}
      },
      "source": [
        "arrest_by_ineq.head()"
      ],
      "execution_count": 0,
      "outputs": []
    },
    {
      "cell_type": "code",
      "metadata": {
        "id": "eJe5Au3dh-Hu",
        "colab_type": "code",
        "colab": {}
      },
      "source": [
        "#Had to drop 5 counties/observations"
      ],
      "execution_count": 0,
      "outputs": []
    },
    {
      "cell_type": "code",
      "metadata": {
        "id": "xlC8c9XEbBTp",
        "colab_type": "code",
        "colab": {
          "base_uri": "https://localhost:8080/",
          "height": 34
        },
        "outputId": "c5e5928a-148a-441b-bb95-d99bca5848e9"
      },
      "source": [
        "arrest_by_ineq['Estimate; Gini Index'].corr(arrest_by_ineq['arrests_per_person'])"
      ],
      "execution_count": 18,
      "outputs": [
        {
          "output_type": "execute_result",
          "data": {
            "text/plain": [
              "0.2422302027349367"
            ]
          },
          "metadata": {
            "tags": []
          },
          "execution_count": 18
        }
      ]
    },
    {
      "cell_type": "markdown",
      "metadata": {
        "id": "laLBXLsXtGa7",
        "colab_type": "text"
      },
      "source": [
        "##Predict adult_arrests on gini coefficient (Baseline)"
      ]
    },
    {
      "cell_type": "code",
      "metadata": {
        "id": "b71PircelKxT",
        "colab_type": "code",
        "colab": {}
      },
      "source": [
        "X = arrest_by_ineq['Estimate; Gini Index'].values.reshape(-1, 1)\n",
        "y = arrest_by_ineq['arrests_per_person'].values.reshape(-1, 1)"
      ],
      "execution_count": 0,
      "outputs": []
    },
    {
      "cell_type": "code",
      "metadata": {
        "id": "ZWrSFFr4l3Bt",
        "colab_type": "code",
        "colab": {}
      },
      "source": [
        "linear_regressor = LinearRegression()  # create object for the class\n",
        "linear_regressor.fit(X, y)  # perform linear regression\n",
        "y_pred = linear_regressor.predict(X)  # make predictions"
      ],
      "execution_count": 0,
      "outputs": []
    },
    {
      "cell_type": "code",
      "metadata": {
        "id": "e0DGM5hQnW2q",
        "colab_type": "code",
        "colab": {
          "base_uri": "https://localhost:8080/",
          "height": 34
        },
        "outputId": "55659485-6069-4b9e-d779-e21d2f25dfbf"
      },
      "source": [
        "mean_squared_error(y, y_pred)"
      ],
      "execution_count": 22,
      "outputs": [
        {
          "output_type": "execute_result",
          "data": {
            "text/plain": [
              "0.0001351165884940218"
            ]
          },
          "metadata": {
            "tags": []
          },
          "execution_count": 22
        }
      ]
    },
    {
      "cell_type": "code",
      "metadata": {
        "id": "aYNDwIHTmP_i",
        "colab_type": "code",
        "colab": {
          "base_uri": "https://localhost:8080/",
          "height": 269
        },
        "outputId": "22762122-21fa-4227-e4ab-f379180105c2"
      },
      "source": [
        "%matplotlib inline\n",
        "plt.scatter(X, y)\n",
        "plt.plot(X, y_pred, color='red')\n",
        "plt.show()"
      ],
      "execution_count": 23,
      "outputs": [
        {
          "output_type": "display_data",
          "data": {
            "image/png": "[encoded data removed]",
            "text/plain": [
              "<Figure size 432x288 with 1 Axes>"
            ]
          },
          "metadata": {
            "tags": []
          }
        }
      ]
    },
    {
      "cell_type": "code",
      "metadata": {
        "id": "x8TJqR60oJA-",
        "colab_type": "code",
        "colab": {}
      },
      "source": [
        "sns.scatterplot(x=X, y=y,alpha=0.2)"
      ],
      "execution_count": 0,
      "outputs": []
    },
    {
      "cell_type": "markdown",
      "metadata": {
        "id": "TdBl0-UWvs4_",
        "colab_type": "text"
      },
      "source": [
        "#Predict future gini values (optional)"
      ]
    },
    {
      "cell_type": "markdown",
      "metadata": {
        "id": "RDR6zXBzv8Sg",
        "colab_type": "text"
      },
      "source": [
        "#Apply UBI transform to Gini values"
      ]
    },
    {
      "cell_type": "markdown",
      "metadata": {
        "id": "6rNfTnrEwCkw",
        "colab_type": "text"
      },
      "source": [
        "#Predict adult_arrests rate without UBI"
      ]
    },
    {
      "cell_type": "markdown",
      "metadata": {
        "id": "FWdelRjKwXOQ",
        "colab_type": "text"
      },
      "source": [
        "#Predict adult_arrests rate with UBI"
      ]
    },
    {
      "cell_type": "markdown",
      "metadata": {
        "id": "TKktfEnFVqqK",
        "colab_type": "text"
      },
      "source": [
        "#Additional Questions:  \n"
      ]
    },
    {
      "cell_type": "markdown",
      "metadata": {
        "id": "QiH_uzsRwZrd",
        "colab_type": "text"
      },
      "source": [
        "##Correlation between income metric and trend in adult_arrests rate?  \n",
        "positive feedback loop?"
      ]
    },
    {
      "cell_type": "markdown",
      "metadata": {
        "id": "2DsWWDd0VxGA",
        "colab_type": "text"
      },
      "source": [
        "##Mean/Median income predictive of type of crime?"
      ]
    },
    {
      "cell_type": "markdown",
      "metadata": {
        "id": "9dNNolD2Qnbv",
        "colab_type": "text"
      },
      "source": [
        "#TODO \n",
        "11/16/19:  \n",
        "Merge relevant adult_arrests data.  \n",
        "Collapse by county.  \n"
      ]
    }
  ]
}