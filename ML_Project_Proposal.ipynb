{
  "nbformat": 4,
  "nbformat_minor": 0,
  "metadata": {
    "colab": {
      "name": "ML Project Proposal",
      "provenance": [],
      "collapsed_sections": [],
      "include_colab_link": true
    },
    "kernelspec": {
      "name": "python3",
      "display_name": "Python 3"
    }
  },
  "cells": [
    {
      "cell_type": "markdown",
      "metadata": {
        "id": "view-in-github",
        "colab_type": "text"
      },
      "source": [
        "<a href=\"https://colab.research.google.com/github/AdrianduPlessis/UBI_Effects/blob/master/ML_Project_Proposal.ipynb\" target=\"_parent\"><img src=\"https://colab.research.google.com/assets/colab-badge.svg\" alt=\"Open In Colab\"/></a>"
      ]
    },
    {
      "cell_type": "markdown",
      "metadata": {
        "id": "-OOhWspmNpzF",
        "colab_type": "text"
      },
      "source": [
        "#Hidden Effects of a UBI"
      ]
    },
    {
      "cell_type": "markdown",
      "metadata": {
        "id": "3DQtYb76FU7y",
        "colab_type": "text"
      },
      "source": [
        "Universal Basic Income (UBI) is not a new idea, I myself was introduced to the idea when Elon Musk first mentioned it in an interview back in 2017. Recently one of the democratic candidates, Andrew Yang, has been moving the idea closer to reality than it has ever been (on a massive scale, at least). With more attention than ever on UBI, some interesting opinions are being aired as to the possible social implications this massive economic disruption might have.  \n",
        "\n",
        "Thinking through these issues myself, a lucky synapse fired reminding me of the Gini Index. The Gini Index is essentially a metric representing the inequality of income distribution within a certain geography. A UBI would obviously have the effect of lowering the Gini Index, most drastically on the bottom end. \n",
        " \n",
        "'Alright, so what?' I can hear you thinking. So this: The only reason I remember anything at all from the obscure YouTube video that introduced me to the Gini Index is because of the powerful correlation that exists between the Gini Index and adult_arrests rates. Anywhere on the spectrum... if you take two of the weathiest neighborhoods California, for example, and calculate the Gini Index for just those two neighborhoods, the neighborhood with the higher Gini Coefficient will (with some confidence) have the higher adult_arrests rate.  \n",
        "\n",
        "'Neato, but so what?' Well, let me put it to you that using per county Gini Index, Income, and adult_arrests Rate data-- a decent ML model should be able to predict the reduction in adult_arrests rates of a given UBI ammount.  \n",
        "\n",
        "**What's more:** that predicted reduction in adult_arrests-rate could be translated into reduced cost of incarseration (including burden of legal fees) to the government, information that would be very useful to a hopeful candidate trying to explain the value of the idea that their political campaign is based on."
      ]
    },
    {
      "cell_type": "markdown",
      "metadata": {
        "id": "n696ppW6uJgw",
        "colab_type": "text"
      },
      "source": [
        "#Hyp: income inequality -> adult_arrests\n"
      ]
    },
    {
      "cell_type": "markdown",
      "metadata": {
        "id": "zZ3j5JGNu874",
        "colab_type": "text"
      },
      "source": [
        "Hypothesis A: There exists a (statistically significant) correlation between Gini Coefficient (Income Inequality) and adult_arrestsrates within a specific county/state."
      ]
    },
    {
      "cell_type": "markdown",
      "metadata": {
        "id": "uwkfn0HCu-gv",
        "colab_type": "text"
      },
      "source": [
        "Determine p-values for individual counties' gini-to-adult_arrests over time.  \n",
        "Determine p-values for counties' gini-to-adult_arrests for a given year."
      ]
    },
    {
      "cell_type": "markdown",
      "metadata": {
        "id": "kV7WswiuxDQS",
        "colab_type": "text"
      },
      "source": [
        "##Tools of the trade"
      ]
    },
    {
      "cell_type": "code",
      "metadata": {
        "id": "TkmjJg2gcC0i",
        "colab_type": "code",
        "outputId": "05affe43-7577-4ba3-9f5a-22d3253502c1",
        "colab": {
          "base_uri": "https://localhost:8080/",
          "height": 269
        }
      },
      "source": [
        "!pip install eli5"
      ],
      "execution_count": 1,
      "outputs": [
        {
          "output_type": "stream",
          "text": [
            "Collecting eli5\n",
            "\u001b[?25l  Downloading https://files.pythonhosted.org/packages/97/2f/c85c7d8f8548e460829971785347e14e45fa5c6617da374711dec8cb38cc/eli5-0.10.1-py2.py3-none-any.whl (105kB)\n",
            "\r\u001b[K     |███                             | 10kB 17.5MB/s eta 0:00:01\r\u001b[K     |██████▏                         | 20kB 2.2MB/s eta 0:00:01\r\u001b[K     |█████████▎                      | 30kB 3.2MB/s eta 0:00:01\r\u001b[K     |████████████▍                   | 40kB 2.1MB/s eta 0:00:01\r\u001b[K     |███████████████▌                | 51kB 2.6MB/s eta 0:00:01\r\u001b[K     |██████████████████▋             | 61kB 3.1MB/s eta 0:00:01\r\u001b[K     |█████████████████████▊          | 71kB 3.6MB/s eta 0:00:01\r\u001b[K     |████████████████████████▊       | 81kB 4.1MB/s eta 0:00:01\r\u001b[K     |███████████████████████████▉    | 92kB 4.6MB/s eta 0:00:01\r\u001b[K     |███████████████████████████████ | 102kB 3.5MB/s eta 0:00:01\r\u001b[K     |████████████████████████████████| 112kB 3.5MB/s \n",
            "\u001b[?25hRequirement already satisfied: scikit-learn>=0.18 in /usr/local/lib/python3.6/dist-packages (from eli5) (0.21.3)\n",
            "Requirement already satisfied: attrs>16.0.0 in /usr/local/lib/python3.6/dist-packages (from eli5) (19.3.0)\n",
            "Requirement already satisfied: six in /usr/local/lib/python3.6/dist-packages (from eli5) (1.12.0)\n",
            "Requirement already satisfied: numpy>=1.9.0 in /usr/local/lib/python3.6/dist-packages (from eli5) (1.16.5)\n",
            "Requirement already satisfied: tabulate>=0.7.7 in /usr/local/lib/python3.6/dist-packages (from eli5) (0.8.5)\n",
            "Requirement already satisfied: jinja2 in /usr/local/lib/python3.6/dist-packages (from eli5) (2.10.3)\n",
            "Requirement already satisfied: scipy in /usr/local/lib/python3.6/dist-packages (from eli5) (1.3.1)\n",
            "Requirement already satisfied: graphviz in /usr/local/lib/python3.6/dist-packages (from eli5) (0.10.1)\n",
            "Requirement already satisfied: joblib>=0.11 in /usr/local/lib/python3.6/dist-packages (from scikit-learn>=0.18->eli5) (0.14.0)\n",
            "Requirement already satisfied: MarkupSafe>=0.23 in /usr/local/lib/python3.6/dist-packages (from jinja2->eli5) (1.1.1)\n",
            "Installing collected packages: eli5\n",
            "Successfully installed eli5-0.10.1\n"
          ],
          "name": "stdout"
        }
      ]
    },
    {
      "cell_type": "code",
      "metadata": {
        "id": "hlGegSOmxbDE",
        "colab_type": "code",
        "colab": {
          "base_uri": "https://localhost:8080/",
          "height": 34
        },
        "outputId": "0175058b-0260-4001-a547-9b0b243f618a"
      },
      "source": [
        "import numpy as np\n",
        "import pandas as pd\n",
        "import pandas_profiling\n",
        "import matplotlib.pyplot as plt\n",
        "from sklearn.model_selection import train_test_split\n",
        "from sklearn.ensemble import RandomForestRegressor\n",
        "from sklearn.model_selection import cross_val_score\n",
        "#Imports for baseline\n",
        "import seaborn as sns\n",
        "from sklearn.linear_model import LinearRegression\n",
        "from sklearn.metrics import mean_squared_error\n",
        "from sklearn.metrics import mean_absolute_error\n",
        "import eli5\n",
        "from eli5.sklearn import PermutationImportance"
      ],
      "execution_count": 2,
      "outputs": [
        {
          "output_type": "stream",
          "text": [
            "Using TensorFlow backend.\n"
          ],
          "name": "stderr"
        }
      ]
    },
    {
      "cell_type": "markdown",
      "metadata": {
        "id": "_u8aUzgRw2ik",
        "colab_type": "text"
      },
      "source": [
        "##Import Datasets"
      ]
    },
    {
      "cell_type": "code",
      "metadata": {
        "id": "uP1N46t63J4K",
        "colab_type": "code",
        "colab": {}
      },
      "source": [
        "gini_5yr_est_2017 = pd.read_csv('https://raw.githubusercontent.com/AdrianduPlessis/UBI_Effects/master/data/gini_est_5yr_17.csv', skiprows=1)"
      ],
      "execution_count": 0,
      "outputs": []
    },
    {
      "cell_type": "code",
      "metadata": {
        "id": "xcPNKt-zyYaR",
        "colab_type": "code",
        "colab": {}
      },
      "source": [
        "adult_arrests = pd.read_csv('https://raw.githubusercontent.com/AdrianduPlessis/UBI_Effects/master/data/ICPSR_36399/DS0004/36399-0004-Data.tsv', sep='\\t')"
      ],
      "execution_count": 0,
      "outputs": []
    },
    {
      "cell_type": "code",
      "metadata": {
        "id": "1Jg1rc832NJV",
        "colab_type": "code",
        "colab": {}
      },
      "source": [
        "FIPS = pd.read_csv('https://raw.githubusercontent.com/AdrianduPlessis/UBI_Effects/master/data/all-geocodes-v2016.xlsx%20-%20Sheet1.csv', skiprows=4)\n"
      ],
      "execution_count": 0,
      "outputs": []
    },
    {
      "cell_type": "markdown",
      "metadata": {
        "id": "HlVIrNJpTdK-",
        "colab_type": "text"
      },
      "source": [
        "###Data Wrangling"
      ]
    },
    {
      "cell_type": "code",
      "metadata": {
        "id": "5Do6FKOfqlRG",
        "colab_type": "code",
        "colab": {}
      },
      "source": [
        "def change_id_to_fips(id):\n",
        "  fips = int(id[-5:])\n",
        "  return fips"
      ],
      "execution_count": 0,
      "outputs": []
    },
    {
      "cell_type": "code",
      "metadata": {
        "id": "NkA0Q4xmrF3A",
        "colab_type": "code",
        "colab": {}
      },
      "source": [
        "gini_5yr_est_2017['Id'].apply(change_id_to_fips);"
      ],
      "execution_count": 0,
      "outputs": []
    },
    {
      "cell_type": "code",
      "metadata": {
        "id": "Y52bRymujpbG",
        "colab_type": "code",
        "colab": {}
      },
      "source": [
        "#Create dictionary to lookup State based on state FIPS\n",
        "State_FIPS = FIPS[FIPS['County Code (FIPS)']==0]\n",
        "State_FIPS = State_FIPS[State_FIPS['Summary Level']==40]\n",
        "\n",
        "lookup_state_FIPS = dict(zip(State_FIPS['State Code (FIPS)'], State_FIPS['Area Name (including legal/statistical area description)']))"
      ],
      "execution_count": 0,
      "outputs": []
    },
    {
      "cell_type": "code",
      "metadata": {
        "id": "DnfF8kGSSU_E",
        "colab_type": "code",
        "colab": {}
      },
      "source": [
        "adult_arrests['state'] = adult_arrests['FIPS_ST'].map(lookup_state_FIPS)"
      ],
      "execution_count": 0,
      "outputs": []
    },
    {
      "cell_type": "code",
      "metadata": {
        "id": "xUh-3rMwm_dI",
        "colab_type": "code",
        "colab": {}
      },
      "source": [
        "def combine_cty_st_fips(cty, st):\n",
        "  full_fips = st*1000 + cty\n",
        "  return full_fips"
      ],
      "execution_count": 0,
      "outputs": []
    },
    {
      "cell_type": "code",
      "metadata": {
        "id": "XMkRR7qjoQ3q",
        "colab_type": "code",
        "colab": {}
      },
      "source": [
        "FIPS['FIPS'] = combine_cty_st_fips(FIPS['County Code (FIPS)'], FIPS['State Code (FIPS)'])\n",
        "adult_arrests['FIPS'] = combine_cty_st_fips(adult_arrests['FIPS_CTY'], adult_arrests['FIPS_ST'])"
      ],
      "execution_count": 0,
      "outputs": []
    },
    {
      "cell_type": "markdown",
      "metadata": {
        "id": "RXODiASZw6B8",
        "colab_type": "text"
      },
      "source": [
        "##Merge Datasets"
      ]
    },
    {
      "cell_type": "code",
      "metadata": {
        "id": "5X3nz45tsqHP",
        "colab_type": "code",
        "colab": {}
      },
      "source": [
        "#Note: missing gini data for 35 counties (based on shapes of dfs being merged)\n",
        "arrest_by_ineq = adult_arrests.merge(gini_5yr_est_2017, left_on='FIPS', right_on='Id2')"
      ],
      "execution_count": 0,
      "outputs": []
    },
    {
      "cell_type": "code",
      "metadata": {
        "id": "m7LS6phmuAcr",
        "colab_type": "code",
        "outputId": "d6451136-7c78-4316-ca5a-4848d7c9d433",
        "colab": {
          "base_uri": "https://localhost:8080/",
          "height": 450
        }
      },
      "source": [
        "arrest_by_ineq.head()"
      ],
      "execution_count": 13,
      "outputs": [
        {
          "output_type": "execute_result",
          "data": {
            "text/html": [
              "<div>\n",
              "<style scoped>\n",
              "    .dataframe tbody tr th:only-of-type {\n",
              "        vertical-align: middle;\n",
              "    }\n",
              "\n",
              "    .dataframe tbody tr th {\n",
              "        vertical-align: top;\n",
              "    }\n",
              "\n",
              "    .dataframe thead th {\n",
              "        text-align: right;\n",
              "    }\n",
              "</style>\n",
              "<table border=\"1\" class=\"dataframe\">\n",
              "  <thead>\n",
              "    <tr style=\"text-align: right;\">\n",
              "      <th></th>\n",
              "      <th>STUDYNO</th>\n",
              "      <th>EDITION</th>\n",
              "      <th>PART</th>\n",
              "      <th>IDNO</th>\n",
              "      <th>FIPS_ST</th>\n",
              "      <th>FIPS_CTY</th>\n",
              "      <th>CPOPARST</th>\n",
              "      <th>CPOPCRIM</th>\n",
              "      <th>AG_ARRST</th>\n",
              "      <th>AG_OFF</th>\n",
              "      <th>COVIND</th>\n",
              "      <th>VIOL</th>\n",
              "      <th>PROPERTY</th>\n",
              "      <th>MURDER</th>\n",
              "      <th>RAPE</th>\n",
              "      <th>ROBBERY</th>\n",
              "      <th>AGASSLT</th>\n",
              "      <th>BURGLRY</th>\n",
              "      <th>LARCENY</th>\n",
              "      <th>MVTHEFT</th>\n",
              "      <th>ARSON</th>\n",
              "      <th>state</th>\n",
              "      <th>FIPS</th>\n",
              "      <th>Id</th>\n",
              "      <th>Id2</th>\n",
              "      <th>Geography</th>\n",
              "      <th>Estimate; Gini Index</th>\n",
              "      <th>Margin of Error; Gini Index</th>\n",
              "    </tr>\n",
              "  </thead>\n",
              "  <tbody>\n",
              "    <tr>\n",
              "      <th>0</th>\n",
              "      <td>9999</td>\n",
              "      <td>1</td>\n",
              "      <td>4</td>\n",
              "      <td>1</td>\n",
              "      <td>1</td>\n",
              "      <td>1</td>\n",
              "      <td>57217</td>\n",
              "      <td>54579</td>\n",
              "      <td>3</td>\n",
              "      <td>3</td>\n",
              "      <td>100.0000</td>\n",
              "      <td>144</td>\n",
              "      <td>1625</td>\n",
              "      <td>2</td>\n",
              "      <td>18</td>\n",
              "      <td>37</td>\n",
              "      <td>87</td>\n",
              "      <td>386</td>\n",
              "      <td>1110</td>\n",
              "      <td>129</td>\n",
              "      <td>14</td>\n",
              "      <td>Alabama</td>\n",
              "      <td>1001</td>\n",
              "      <td>0500000US01001</td>\n",
              "      <td>1001</td>\n",
              "      <td>Autauga County, Alabama</td>\n",
              "      <td>0.4501</td>\n",
              "      <td>0.0391</td>\n",
              "    </tr>\n",
              "    <tr>\n",
              "      <th>1</th>\n",
              "      <td>9999</td>\n",
              "      <td>1</td>\n",
              "      <td>4</td>\n",
              "      <td>2</td>\n",
              "      <td>1</td>\n",
              "      <td>3</td>\n",
              "      <td>198843</td>\n",
              "      <td>193083</td>\n",
              "      <td>14</td>\n",
              "      <td>13</td>\n",
              "      <td>96.0428</td>\n",
              "      <td>373</td>\n",
              "      <td>4060</td>\n",
              "      <td>4</td>\n",
              "      <td>33</td>\n",
              "      <td>62</td>\n",
              "      <td>274</td>\n",
              "      <td>770</td>\n",
              "      <td>3167</td>\n",
              "      <td>123</td>\n",
              "      <td>18</td>\n",
              "      <td>Alabama</td>\n",
              "      <td>1003</td>\n",
              "      <td>0500000US01003</td>\n",
              "      <td>1003</td>\n",
              "      <td>Baldwin County, Alabama</td>\n",
              "      <td>0.4618</td>\n",
              "      <td>0.0100</td>\n",
              "    </tr>\n",
              "    <tr>\n",
              "      <th>2</th>\n",
              "      <td>9999</td>\n",
              "      <td>1</td>\n",
              "      <td>4</td>\n",
              "      <td>3</td>\n",
              "      <td>1</td>\n",
              "      <td>5</td>\n",
              "      <td>27026</td>\n",
              "      <td>25154</td>\n",
              "      <td>5</td>\n",
              "      <td>4</td>\n",
              "      <td>96.0536</td>\n",
              "      <td>97</td>\n",
              "      <td>660</td>\n",
              "      <td>3</td>\n",
              "      <td>10</td>\n",
              "      <td>14</td>\n",
              "      <td>70</td>\n",
              "      <td>171</td>\n",
              "      <td>454</td>\n",
              "      <td>36</td>\n",
              "      <td>1</td>\n",
              "      <td>Alabama</td>\n",
              "      <td>1005</td>\n",
              "      <td>0500000US01005</td>\n",
              "      <td>1005</td>\n",
              "      <td>Barbour County, Alabama</td>\n",
              "      <td>0.4622</td>\n",
              "      <td>0.0148</td>\n",
              "    </tr>\n",
              "    <tr>\n",
              "      <th>3</th>\n",
              "      <td>9999</td>\n",
              "      <td>1</td>\n",
              "      <td>4</td>\n",
              "      <td>4</td>\n",
              "      <td>1</td>\n",
              "      <td>7</td>\n",
              "      <td>22491</td>\n",
              "      <td>21175</td>\n",
              "      <td>4</td>\n",
              "      <td>5</td>\n",
              "      <td>98.9359</td>\n",
              "      <td>23</td>\n",
              "      <td>227</td>\n",
              "      <td>2</td>\n",
              "      <td>3</td>\n",
              "      <td>2</td>\n",
              "      <td>16</td>\n",
              "      <td>65</td>\n",
              "      <td>143</td>\n",
              "      <td>19</td>\n",
              "      <td>1</td>\n",
              "      <td>Alabama</td>\n",
              "      <td>1007</td>\n",
              "      <td>0500000US01007</td>\n",
              "      <td>1007</td>\n",
              "      <td>Bibb County, Alabama</td>\n",
              "      <td>0.4518</td>\n",
              "      <td>0.0565</td>\n",
              "    </tr>\n",
              "    <tr>\n",
              "      <th>4</th>\n",
              "      <td>9999</td>\n",
              "      <td>1</td>\n",
              "      <td>4</td>\n",
              "      <td>5</td>\n",
              "      <td>1</td>\n",
              "      <td>9</td>\n",
              "      <td>58037</td>\n",
              "      <td>58037</td>\n",
              "      <td>6</td>\n",
              "      <td>6</td>\n",
              "      <td>98.4949</td>\n",
              "      <td>125</td>\n",
              "      <td>1270</td>\n",
              "      <td>0</td>\n",
              "      <td>15</td>\n",
              "      <td>4</td>\n",
              "      <td>106</td>\n",
              "      <td>374</td>\n",
              "      <td>772</td>\n",
              "      <td>124</td>\n",
              "      <td>7</td>\n",
              "      <td>Alabama</td>\n",
              "      <td>1009</td>\n",
              "      <td>0500000US01009</td>\n",
              "      <td>1009</td>\n",
              "      <td>Blount County, Alabama</td>\n",
              "      <td>0.4302</td>\n",
              "      <td>0.0175</td>\n",
              "    </tr>\n",
              "  </tbody>\n",
              "</table>\n",
              "</div>"
            ],
            "text/plain": [
              "   STUDYNO  EDITION  ...  Estimate; Gini Index  Margin of Error; Gini Index\n",
              "0     9999        1  ...                0.4501                       0.0391\n",
              "1     9999        1  ...                0.4618                       0.0100\n",
              "2     9999        1  ...                0.4622                       0.0148\n",
              "3     9999        1  ...                0.4518                       0.0565\n",
              "4     9999        1  ...                0.4302                       0.0175\n",
              "\n",
              "[5 rows x 28 columns]"
            ]
          },
          "metadata": {
            "tags": []
          },
          "execution_count": 13
        }
      ]
    },
    {
      "cell_type": "markdown",
      "metadata": {
        "id": "QT7YRletabCC",
        "colab_type": "text"
      },
      "source": [
        "###Further Wrangling"
      ]
    },
    {
      "cell_type": "code",
      "metadata": {
        "id": "KOPfkVBJcHV8",
        "colab_type": "code",
        "colab": {}
      },
      "source": [
        "#Engineer feature that controls for variation in population size\n",
        "def control_for_population(df, feature, population):\n",
        "  df[feature] = df[feature]/df[population]\n",
        "  return df"
      ],
      "execution_count": 0,
      "outputs": []
    },
    {
      "cell_type": "code",
      "metadata": {
        "id": "p5N_Xj26diNe",
        "colab_type": "code",
        "colab": {}
      },
      "source": [
        "crime_types = ['VIOL', 'PROPERTY', 'MURDER', 'RAPE', \n",
        "               'ROBBERY', 'AGASSLT', 'BURGLRY', 'LARCENY', \n",
        "               'MVTHEFT','ARSON']\n",
        "\n",
        "population = arrest_by_ineq['CPOPARST']\n",
        "\n",
        "for crime in crime_types:\n",
        "  arrest_by_ineq[crime] = arrest_by_ineq[crime]/population"
      ],
      "execution_count": 0,
      "outputs": []
    },
    {
      "cell_type": "code",
      "metadata": {
        "id": "cJ5HVdLIhuKG",
        "colab_type": "code",
        "outputId": "a0ded159-a81e-46b8-896d-3d13570f49a3",
        "colab": {
          "base_uri": "https://localhost:8080/",
          "height": 450
        }
      },
      "source": [
        "arrest_by_ineq.head()"
      ],
      "execution_count": 16,
      "outputs": [
        {
          "output_type": "execute_result",
          "data": {
            "text/html": [
              "<div>\n",
              "<style scoped>\n",
              "    .dataframe tbody tr th:only-of-type {\n",
              "        vertical-align: middle;\n",
              "    }\n",
              "\n",
              "    .dataframe tbody tr th {\n",
              "        vertical-align: top;\n",
              "    }\n",
              "\n",
              "    .dataframe thead th {\n",
              "        text-align: right;\n",
              "    }\n",
              "</style>\n",
              "<table border=\"1\" class=\"dataframe\">\n",
              "  <thead>\n",
              "    <tr style=\"text-align: right;\">\n",
              "      <th></th>\n",
              "      <th>STUDYNO</th>\n",
              "      <th>EDITION</th>\n",
              "      <th>PART</th>\n",
              "      <th>IDNO</th>\n",
              "      <th>FIPS_ST</th>\n",
              "      <th>FIPS_CTY</th>\n",
              "      <th>CPOPARST</th>\n",
              "      <th>CPOPCRIM</th>\n",
              "      <th>AG_ARRST</th>\n",
              "      <th>AG_OFF</th>\n",
              "      <th>COVIND</th>\n",
              "      <th>VIOL</th>\n",
              "      <th>PROPERTY</th>\n",
              "      <th>MURDER</th>\n",
              "      <th>RAPE</th>\n",
              "      <th>ROBBERY</th>\n",
              "      <th>AGASSLT</th>\n",
              "      <th>BURGLRY</th>\n",
              "      <th>LARCENY</th>\n",
              "      <th>MVTHEFT</th>\n",
              "      <th>ARSON</th>\n",
              "      <th>state</th>\n",
              "      <th>FIPS</th>\n",
              "      <th>Id</th>\n",
              "      <th>Id2</th>\n",
              "      <th>Geography</th>\n",
              "      <th>Estimate; Gini Index</th>\n",
              "      <th>Margin of Error; Gini Index</th>\n",
              "    </tr>\n",
              "  </thead>\n",
              "  <tbody>\n",
              "    <tr>\n",
              "      <th>0</th>\n",
              "      <td>9999</td>\n",
              "      <td>1</td>\n",
              "      <td>4</td>\n",
              "      <td>1</td>\n",
              "      <td>1</td>\n",
              "      <td>1</td>\n",
              "      <td>57217</td>\n",
              "      <td>54579</td>\n",
              "      <td>3</td>\n",
              "      <td>3</td>\n",
              "      <td>100.0000</td>\n",
              "      <td>0.002517</td>\n",
              "      <td>0.028401</td>\n",
              "      <td>0.000035</td>\n",
              "      <td>0.000315</td>\n",
              "      <td>0.000647</td>\n",
              "      <td>0.001521</td>\n",
              "      <td>0.006746</td>\n",
              "      <td>0.019400</td>\n",
              "      <td>0.002255</td>\n",
              "      <td>0.000245</td>\n",
              "      <td>Alabama</td>\n",
              "      <td>1001</td>\n",
              "      <td>0500000US01001</td>\n",
              "      <td>1001</td>\n",
              "      <td>Autauga County, Alabama</td>\n",
              "      <td>0.4501</td>\n",
              "      <td>0.0391</td>\n",
              "    </tr>\n",
              "    <tr>\n",
              "      <th>1</th>\n",
              "      <td>9999</td>\n",
              "      <td>1</td>\n",
              "      <td>4</td>\n",
              "      <td>2</td>\n",
              "      <td>1</td>\n",
              "      <td>3</td>\n",
              "      <td>198843</td>\n",
              "      <td>193083</td>\n",
              "      <td>14</td>\n",
              "      <td>13</td>\n",
              "      <td>96.0428</td>\n",
              "      <td>0.001876</td>\n",
              "      <td>0.020418</td>\n",
              "      <td>0.000020</td>\n",
              "      <td>0.000166</td>\n",
              "      <td>0.000312</td>\n",
              "      <td>0.001378</td>\n",
              "      <td>0.003872</td>\n",
              "      <td>0.015927</td>\n",
              "      <td>0.000619</td>\n",
              "      <td>0.000091</td>\n",
              "      <td>Alabama</td>\n",
              "      <td>1003</td>\n",
              "      <td>0500000US01003</td>\n",
              "      <td>1003</td>\n",
              "      <td>Baldwin County, Alabama</td>\n",
              "      <td>0.4618</td>\n",
              "      <td>0.0100</td>\n",
              "    </tr>\n",
              "    <tr>\n",
              "      <th>2</th>\n",
              "      <td>9999</td>\n",
              "      <td>1</td>\n",
              "      <td>4</td>\n",
              "      <td>3</td>\n",
              "      <td>1</td>\n",
              "      <td>5</td>\n",
              "      <td>27026</td>\n",
              "      <td>25154</td>\n",
              "      <td>5</td>\n",
              "      <td>4</td>\n",
              "      <td>96.0536</td>\n",
              "      <td>0.003589</td>\n",
              "      <td>0.024421</td>\n",
              "      <td>0.000111</td>\n",
              "      <td>0.000370</td>\n",
              "      <td>0.000518</td>\n",
              "      <td>0.002590</td>\n",
              "      <td>0.006327</td>\n",
              "      <td>0.016799</td>\n",
              "      <td>0.001332</td>\n",
              "      <td>0.000037</td>\n",
              "      <td>Alabama</td>\n",
              "      <td>1005</td>\n",
              "      <td>0500000US01005</td>\n",
              "      <td>1005</td>\n",
              "      <td>Barbour County, Alabama</td>\n",
              "      <td>0.4622</td>\n",
              "      <td>0.0148</td>\n",
              "    </tr>\n",
              "    <tr>\n",
              "      <th>3</th>\n",
              "      <td>9999</td>\n",
              "      <td>1</td>\n",
              "      <td>4</td>\n",
              "      <td>4</td>\n",
              "      <td>1</td>\n",
              "      <td>7</td>\n",
              "      <td>22491</td>\n",
              "      <td>21175</td>\n",
              "      <td>4</td>\n",
              "      <td>5</td>\n",
              "      <td>98.9359</td>\n",
              "      <td>0.001023</td>\n",
              "      <td>0.010093</td>\n",
              "      <td>0.000089</td>\n",
              "      <td>0.000133</td>\n",
              "      <td>0.000089</td>\n",
              "      <td>0.000711</td>\n",
              "      <td>0.002890</td>\n",
              "      <td>0.006358</td>\n",
              "      <td>0.000845</td>\n",
              "      <td>0.000044</td>\n",
              "      <td>Alabama</td>\n",
              "      <td>1007</td>\n",
              "      <td>0500000US01007</td>\n",
              "      <td>1007</td>\n",
              "      <td>Bibb County, Alabama</td>\n",
              "      <td>0.4518</td>\n",
              "      <td>0.0565</td>\n",
              "    </tr>\n",
              "    <tr>\n",
              "      <th>4</th>\n",
              "      <td>9999</td>\n",
              "      <td>1</td>\n",
              "      <td>4</td>\n",
              "      <td>5</td>\n",
              "      <td>1</td>\n",
              "      <td>9</td>\n",
              "      <td>58037</td>\n",
              "      <td>58037</td>\n",
              "      <td>6</td>\n",
              "      <td>6</td>\n",
              "      <td>98.4949</td>\n",
              "      <td>0.002154</td>\n",
              "      <td>0.021883</td>\n",
              "      <td>0.000000</td>\n",
              "      <td>0.000258</td>\n",
              "      <td>0.000069</td>\n",
              "      <td>0.001826</td>\n",
              "      <td>0.006444</td>\n",
              "      <td>0.013302</td>\n",
              "      <td>0.002137</td>\n",
              "      <td>0.000121</td>\n",
              "      <td>Alabama</td>\n",
              "      <td>1009</td>\n",
              "      <td>0500000US01009</td>\n",
              "      <td>1009</td>\n",
              "      <td>Blount County, Alabama</td>\n",
              "      <td>0.4302</td>\n",
              "      <td>0.0175</td>\n",
              "    </tr>\n",
              "  </tbody>\n",
              "</table>\n",
              "</div>"
            ],
            "text/plain": [
              "   STUDYNO  EDITION  ...  Estimate; Gini Index  Margin of Error; Gini Index\n",
              "0     9999        1  ...                0.4501                       0.0391\n",
              "1     9999        1  ...                0.4618                       0.0100\n",
              "2     9999        1  ...                0.4622                       0.0148\n",
              "3     9999        1  ...                0.4518                       0.0565\n",
              "4     9999        1  ...                0.4302                       0.0175\n",
              "\n",
              "[5 rows x 28 columns]"
            ]
          },
          "metadata": {
            "tags": []
          },
          "execution_count": 16
        }
      ]
    },
    {
      "cell_type": "code",
      "metadata": {
        "id": "L9Co9d0geJZx",
        "colab_type": "code",
        "outputId": "2f29d498-590b-420a-80f8-e099ed72484d",
        "colab": {
          "base_uri": "https://localhost:8080/",
          "height": 34
        }
      },
      "source": [
        "arrest_by_ineq.shape"
      ],
      "execution_count": 17,
      "outputs": [
        {
          "output_type": "execute_result",
          "data": {
            "text/plain": [
              "(3134, 28)"
            ]
          },
          "metadata": {
            "tags": []
          },
          "execution_count": 17
        }
      ]
    },
    {
      "cell_type": "code",
      "metadata": {
        "id": "_eMk85mehbOa",
        "colab_type": "code",
        "colab": {}
      },
      "source": [
        "#Drop NaNs\n",
        "#Stretch: Impute\n",
        "arrest_by_ineq = arrest_by_ineq.dropna()"
      ],
      "execution_count": 0,
      "outputs": []
    },
    {
      "cell_type": "code",
      "metadata": {
        "id": "UHvBKoE5hjLk",
        "colab_type": "code",
        "outputId": "7c2061c1-9847-41e6-e8df-83841af49d48",
        "colab": {
          "base_uri": "https://localhost:8080/",
          "height": 34
        }
      },
      "source": [
        "arrest_by_ineq.shape"
      ],
      "execution_count": 19,
      "outputs": [
        {
          "output_type": "execute_result",
          "data": {
            "text/plain": [
              "(3129, 28)"
            ]
          },
          "metadata": {
            "tags": []
          },
          "execution_count": 19
        }
      ]
    },
    {
      "cell_type": "code",
      "metadata": {
        "id": "STiRRdm6q35D",
        "colab_type": "code",
        "outputId": "265276c4-8d2e-4f50-d454-de5406cad852",
        "colab": {
          "base_uri": "https://localhost:8080/",
          "height": 450
        }
      },
      "source": [
        "arrest_by_ineq.head()"
      ],
      "execution_count": 20,
      "outputs": [
        {
          "output_type": "execute_result",
          "data": {
            "text/html": [
              "<div>\n",
              "<style scoped>\n",
              "    .dataframe tbody tr th:only-of-type {\n",
              "        vertical-align: middle;\n",
              "    }\n",
              "\n",
              "    .dataframe tbody tr th {\n",
              "        vertical-align: top;\n",
              "    }\n",
              "\n",
              "    .dataframe thead th {\n",
              "        text-align: right;\n",
              "    }\n",
              "</style>\n",
              "<table border=\"1\" class=\"dataframe\">\n",
              "  <thead>\n",
              "    <tr style=\"text-align: right;\">\n",
              "      <th></th>\n",
              "      <th>STUDYNO</th>\n",
              "      <th>EDITION</th>\n",
              "      <th>PART</th>\n",
              "      <th>IDNO</th>\n",
              "      <th>FIPS_ST</th>\n",
              "      <th>FIPS_CTY</th>\n",
              "      <th>CPOPARST</th>\n",
              "      <th>CPOPCRIM</th>\n",
              "      <th>AG_ARRST</th>\n",
              "      <th>AG_OFF</th>\n",
              "      <th>COVIND</th>\n",
              "      <th>VIOL</th>\n",
              "      <th>PROPERTY</th>\n",
              "      <th>MURDER</th>\n",
              "      <th>RAPE</th>\n",
              "      <th>ROBBERY</th>\n",
              "      <th>AGASSLT</th>\n",
              "      <th>BURGLRY</th>\n",
              "      <th>LARCENY</th>\n",
              "      <th>MVTHEFT</th>\n",
              "      <th>ARSON</th>\n",
              "      <th>state</th>\n",
              "      <th>FIPS</th>\n",
              "      <th>Id</th>\n",
              "      <th>Id2</th>\n",
              "      <th>Geography</th>\n",
              "      <th>Estimate; Gini Index</th>\n",
              "      <th>Margin of Error; Gini Index</th>\n",
              "    </tr>\n",
              "  </thead>\n",
              "  <tbody>\n",
              "    <tr>\n",
              "      <th>0</th>\n",
              "      <td>9999</td>\n",
              "      <td>1</td>\n",
              "      <td>4</td>\n",
              "      <td>1</td>\n",
              "      <td>1</td>\n",
              "      <td>1</td>\n",
              "      <td>57217</td>\n",
              "      <td>54579</td>\n",
              "      <td>3</td>\n",
              "      <td>3</td>\n",
              "      <td>100.0000</td>\n",
              "      <td>0.002517</td>\n",
              "      <td>0.028401</td>\n",
              "      <td>0.000035</td>\n",
              "      <td>0.000315</td>\n",
              "      <td>0.000647</td>\n",
              "      <td>0.001521</td>\n",
              "      <td>0.006746</td>\n",
              "      <td>0.019400</td>\n",
              "      <td>0.002255</td>\n",
              "      <td>0.000245</td>\n",
              "      <td>Alabama</td>\n",
              "      <td>1001</td>\n",
              "      <td>0500000US01001</td>\n",
              "      <td>1001</td>\n",
              "      <td>Autauga County, Alabama</td>\n",
              "      <td>0.4501</td>\n",
              "      <td>0.0391</td>\n",
              "    </tr>\n",
              "    <tr>\n",
              "      <th>1</th>\n",
              "      <td>9999</td>\n",
              "      <td>1</td>\n",
              "      <td>4</td>\n",
              "      <td>2</td>\n",
              "      <td>1</td>\n",
              "      <td>3</td>\n",
              "      <td>198843</td>\n",
              "      <td>193083</td>\n",
              "      <td>14</td>\n",
              "      <td>13</td>\n",
              "      <td>96.0428</td>\n",
              "      <td>0.001876</td>\n",
              "      <td>0.020418</td>\n",
              "      <td>0.000020</td>\n",
              "      <td>0.000166</td>\n",
              "      <td>0.000312</td>\n",
              "      <td>0.001378</td>\n",
              "      <td>0.003872</td>\n",
              "      <td>0.015927</td>\n",
              "      <td>0.000619</td>\n",
              "      <td>0.000091</td>\n",
              "      <td>Alabama</td>\n",
              "      <td>1003</td>\n",
              "      <td>0500000US01003</td>\n",
              "      <td>1003</td>\n",
              "      <td>Baldwin County, Alabama</td>\n",
              "      <td>0.4618</td>\n",
              "      <td>0.0100</td>\n",
              "    </tr>\n",
              "    <tr>\n",
              "      <th>2</th>\n",
              "      <td>9999</td>\n",
              "      <td>1</td>\n",
              "      <td>4</td>\n",
              "      <td>3</td>\n",
              "      <td>1</td>\n",
              "      <td>5</td>\n",
              "      <td>27026</td>\n",
              "      <td>25154</td>\n",
              "      <td>5</td>\n",
              "      <td>4</td>\n",
              "      <td>96.0536</td>\n",
              "      <td>0.003589</td>\n",
              "      <td>0.024421</td>\n",
              "      <td>0.000111</td>\n",
              "      <td>0.000370</td>\n",
              "      <td>0.000518</td>\n",
              "      <td>0.002590</td>\n",
              "      <td>0.006327</td>\n",
              "      <td>0.016799</td>\n",
              "      <td>0.001332</td>\n",
              "      <td>0.000037</td>\n",
              "      <td>Alabama</td>\n",
              "      <td>1005</td>\n",
              "      <td>0500000US01005</td>\n",
              "      <td>1005</td>\n",
              "      <td>Barbour County, Alabama</td>\n",
              "      <td>0.4622</td>\n",
              "      <td>0.0148</td>\n",
              "    </tr>\n",
              "    <tr>\n",
              "      <th>3</th>\n",
              "      <td>9999</td>\n",
              "      <td>1</td>\n",
              "      <td>4</td>\n",
              "      <td>4</td>\n",
              "      <td>1</td>\n",
              "      <td>7</td>\n",
              "      <td>22491</td>\n",
              "      <td>21175</td>\n",
              "      <td>4</td>\n",
              "      <td>5</td>\n",
              "      <td>98.9359</td>\n",
              "      <td>0.001023</td>\n",
              "      <td>0.010093</td>\n",
              "      <td>0.000089</td>\n",
              "      <td>0.000133</td>\n",
              "      <td>0.000089</td>\n",
              "      <td>0.000711</td>\n",
              "      <td>0.002890</td>\n",
              "      <td>0.006358</td>\n",
              "      <td>0.000845</td>\n",
              "      <td>0.000044</td>\n",
              "      <td>Alabama</td>\n",
              "      <td>1007</td>\n",
              "      <td>0500000US01007</td>\n",
              "      <td>1007</td>\n",
              "      <td>Bibb County, Alabama</td>\n",
              "      <td>0.4518</td>\n",
              "      <td>0.0565</td>\n",
              "    </tr>\n",
              "    <tr>\n",
              "      <th>4</th>\n",
              "      <td>9999</td>\n",
              "      <td>1</td>\n",
              "      <td>4</td>\n",
              "      <td>5</td>\n",
              "      <td>1</td>\n",
              "      <td>9</td>\n",
              "      <td>58037</td>\n",
              "      <td>58037</td>\n",
              "      <td>6</td>\n",
              "      <td>6</td>\n",
              "      <td>98.4949</td>\n",
              "      <td>0.002154</td>\n",
              "      <td>0.021883</td>\n",
              "      <td>0.000000</td>\n",
              "      <td>0.000258</td>\n",
              "      <td>0.000069</td>\n",
              "      <td>0.001826</td>\n",
              "      <td>0.006444</td>\n",
              "      <td>0.013302</td>\n",
              "      <td>0.002137</td>\n",
              "      <td>0.000121</td>\n",
              "      <td>Alabama</td>\n",
              "      <td>1009</td>\n",
              "      <td>0500000US01009</td>\n",
              "      <td>1009</td>\n",
              "      <td>Blount County, Alabama</td>\n",
              "      <td>0.4302</td>\n",
              "      <td>0.0175</td>\n",
              "    </tr>\n",
              "  </tbody>\n",
              "</table>\n",
              "</div>"
            ],
            "text/plain": [
              "   STUDYNO  EDITION  ...  Estimate; Gini Index  Margin of Error; Gini Index\n",
              "0     9999        1  ...                0.4501                       0.0391\n",
              "1     9999        1  ...                0.4618                       0.0100\n",
              "2     9999        1  ...                0.4622                       0.0148\n",
              "3     9999        1  ...                0.4518                       0.0565\n",
              "4     9999        1  ...                0.4302                       0.0175\n",
              "\n",
              "[5 rows x 28 columns]"
            ]
          },
          "metadata": {
            "tags": []
          },
          "execution_count": 20
        }
      ]
    },
    {
      "cell_type": "code",
      "metadata": {
        "id": "eJe5Au3dh-Hu",
        "colab_type": "code",
        "colab": {
          "base_uri": "https://localhost:8080/",
          "height": 338
        },
        "outputId": "ea688201-6a4e-4ea5-eea2-f3bfe32717d3"
      },
      "source": [
        "arrest_by_ineq.describe()"
      ],
      "execution_count": 30,
      "outputs": [
        {
          "output_type": "execute_result",
          "data": {
            "text/html": [
              "<div>\n",
              "<style scoped>\n",
              "    .dataframe tbody tr th:only-of-type {\n",
              "        vertical-align: middle;\n",
              "    }\n",
              "\n",
              "    .dataframe tbody tr th {\n",
              "        vertical-align: top;\n",
              "    }\n",
              "\n",
              "    .dataframe thead th {\n",
              "        text-align: right;\n",
              "    }\n",
              "</style>\n",
              "<table border=\"1\" class=\"dataframe\">\n",
              "  <thead>\n",
              "    <tr style=\"text-align: right;\">\n",
              "      <th></th>\n",
              "      <th>STUDYNO</th>\n",
              "      <th>EDITION</th>\n",
              "      <th>PART</th>\n",
              "      <th>IDNO</th>\n",
              "      <th>FIPS_ST</th>\n",
              "      <th>FIPS_CTY</th>\n",
              "      <th>CPOPARST</th>\n",
              "      <th>CPOPCRIM</th>\n",
              "      <th>AG_ARRST</th>\n",
              "      <th>AG_OFF</th>\n",
              "      <th>COVIND</th>\n",
              "      <th>VIOL</th>\n",
              "      <th>PROPERTY</th>\n",
              "      <th>MURDER</th>\n",
              "      <th>RAPE</th>\n",
              "      <th>ROBBERY</th>\n",
              "      <th>AGASSLT</th>\n",
              "      <th>BURGLRY</th>\n",
              "      <th>LARCENY</th>\n",
              "      <th>MVTHEFT</th>\n",
              "      <th>ARSON</th>\n",
              "      <th>FIPS</th>\n",
              "      <th>Id2</th>\n",
              "      <th>Estimate; Gini Index</th>\n",
              "      <th>Margin of Error; Gini Index</th>\n",
              "    </tr>\n",
              "  </thead>\n",
              "  <tbody>\n",
              "    <tr>\n",
              "      <th>count</th>\n",
              "      <td>3129.0</td>\n",
              "      <td>3129.0</td>\n",
              "      <td>3129.0</td>\n",
              "      <td>3129.000000</td>\n",
              "      <td>3129.000000</td>\n",
              "      <td>3129.000000</td>\n",
              "      <td>3.129000e+03</td>\n",
              "      <td>3.129000e+03</td>\n",
              "      <td>3129.000000</td>\n",
              "      <td>3129.000000</td>\n",
              "      <td>3129.000000</td>\n",
              "      <td>3129.000000</td>\n",
              "      <td>3129.000000</td>\n",
              "      <td>3129.000000</td>\n",
              "      <td>3129.000000</td>\n",
              "      <td>3129.000000</td>\n",
              "      <td>3129.000000</td>\n",
              "      <td>3129.000000</td>\n",
              "      <td>3129.000000</td>\n",
              "      <td>3129.000000</td>\n",
              "      <td>3129.000000</td>\n",
              "      <td>3129.000000</td>\n",
              "      <td>3129.000000</td>\n",
              "      <td>3129.000000</td>\n",
              "      <td>3129.000000</td>\n",
              "    </tr>\n",
              "    <tr>\n",
              "      <th>mean</th>\n",
              "      <td>9999.0</td>\n",
              "      <td>1.0</td>\n",
              "      <td>4.0</td>\n",
              "      <td>1592.680729</td>\n",
              "      <td>30.379354</td>\n",
              "      <td>103.264302</td>\n",
              "      <td>1.016439e+05</td>\n",
              "      <td>9.961473e+04</td>\n",
              "      <td>6.300735</td>\n",
              "      <td>5.421860</td>\n",
              "      <td>97.989253</td>\n",
              "      <td>0.002311</td>\n",
              "      <td>0.018135</td>\n",
              "      <td>0.000029</td>\n",
              "      <td>0.000298</td>\n",
              "      <td>0.000300</td>\n",
              "      <td>0.001683</td>\n",
              "      <td>0.004408</td>\n",
              "      <td>0.012677</td>\n",
              "      <td>0.001048</td>\n",
              "      <td>0.000112</td>\n",
              "      <td>30482.618728</td>\n",
              "      <td>30482.618728</td>\n",
              "      <td>0.444994</td>\n",
              "      <td>0.024402</td>\n",
              "    </tr>\n",
              "    <tr>\n",
              "      <th>std</th>\n",
              "      <td>0.0</td>\n",
              "      <td>0.0</td>\n",
              "      <td>0.0</td>\n",
              "      <td>914.351762</td>\n",
              "      <td>15.077408</td>\n",
              "      <td>107.681876</td>\n",
              "      <td>3.271891e+05</td>\n",
              "      <td>3.259656e+05</td>\n",
              "      <td>8.282921</td>\n",
              "      <td>7.565468</td>\n",
              "      <td>8.687894</td>\n",
              "      <td>0.002016</td>\n",
              "      <td>0.011983</td>\n",
              "      <td>0.000058</td>\n",
              "      <td>0.000308</td>\n",
              "      <td>0.000497</td>\n",
              "      <td>0.001565</td>\n",
              "      <td>0.003240</td>\n",
              "      <td>0.008766</td>\n",
              "      <td>0.001057</td>\n",
              "      <td>0.000166</td>\n",
              "      <td>15096.340523</td>\n",
              "      <td>15096.340523</td>\n",
              "      <td>0.035458</td>\n",
              "      <td>0.015315</td>\n",
              "    </tr>\n",
              "    <tr>\n",
              "      <th>min</th>\n",
              "      <td>9999.0</td>\n",
              "      <td>1.0</td>\n",
              "      <td>4.0</td>\n",
              "      <td>1.000000</td>\n",
              "      <td>1.000000</td>\n",
              "      <td>1.000000</td>\n",
              "      <td>1.000000e+02</td>\n",
              "      <td>0.000000e+00</td>\n",
              "      <td>1.000000</td>\n",
              "      <td>1.000000</td>\n",
              "      <td>0.000000</td>\n",
              "      <td>0.000000</td>\n",
              "      <td>0.000000</td>\n",
              "      <td>0.000000</td>\n",
              "      <td>0.000000</td>\n",
              "      <td>0.000000</td>\n",
              "      <td>0.000000</td>\n",
              "      <td>0.000000</td>\n",
              "      <td>0.000000</td>\n",
              "      <td>0.000000</td>\n",
              "      <td>0.000000</td>\n",
              "      <td>1001.000000</td>\n",
              "      <td>1001.000000</td>\n",
              "      <td>0.339000</td>\n",
              "      <td>0.001500</td>\n",
              "    </tr>\n",
              "    <tr>\n",
              "      <th>25%</th>\n",
              "      <td>9999.0</td>\n",
              "      <td>1.0</td>\n",
              "      <td>4.0</td>\n",
              "      <td>802.000000</td>\n",
              "      <td>19.000000</td>\n",
              "      <td>35.000000</td>\n",
              "      <td>1.115600e+04</td>\n",
              "      <td>9.940000e+03</td>\n",
              "      <td>2.000000</td>\n",
              "      <td>2.000000</td>\n",
              "      <td>100.000000</td>\n",
              "      <td>0.000993</td>\n",
              "      <td>0.009841</td>\n",
              "      <td>0.000000</td>\n",
              "      <td>0.000097</td>\n",
              "      <td>0.000000</td>\n",
              "      <td>0.000627</td>\n",
              "      <td>0.002223</td>\n",
              "      <td>0.006524</td>\n",
              "      <td>0.000401</td>\n",
              "      <td>0.000000</td>\n",
              "      <td>19011.000000</td>\n",
              "      <td>19011.000000</td>\n",
              "      <td>0.421300</td>\n",
              "      <td>0.014000</td>\n",
              "    </tr>\n",
              "    <tr>\n",
              "      <th>50%</th>\n",
              "      <td>9999.0</td>\n",
              "      <td>1.0</td>\n",
              "      <td>4.0</td>\n",
              "      <td>1591.000000</td>\n",
              "      <td>29.000000</td>\n",
              "      <td>79.000000</td>\n",
              "      <td>2.584200e+04</td>\n",
              "      <td>2.439400e+04</td>\n",
              "      <td>4.000000</td>\n",
              "      <td>3.000000</td>\n",
              "      <td>100.000000</td>\n",
              "      <td>0.001831</td>\n",
              "      <td>0.016433</td>\n",
              "      <td>0.000000</td>\n",
              "      <td>0.000240</td>\n",
              "      <td>0.000131</td>\n",
              "      <td>0.001265</td>\n",
              "      <td>0.003795</td>\n",
              "      <td>0.011532</td>\n",
              "      <td>0.000786</td>\n",
              "      <td>0.000074</td>\n",
              "      <td>29186.000000</td>\n",
              "      <td>29186.000000</td>\n",
              "      <td>0.442400</td>\n",
              "      <td>0.021400</td>\n",
              "    </tr>\n",
              "    <tr>\n",
              "      <th>75%</th>\n",
              "      <td>9999.0</td>\n",
              "      <td>1.0</td>\n",
              "      <td>4.0</td>\n",
              "      <td>2385.000000</td>\n",
              "      <td>45.000000</td>\n",
              "      <td>133.000000</td>\n",
              "      <td>6.665300e+04</td>\n",
              "      <td>6.561600e+04</td>\n",
              "      <td>7.000000</td>\n",
              "      <td>6.000000</td>\n",
              "      <td>100.000000</td>\n",
              "      <td>0.003123</td>\n",
              "      <td>0.024375</td>\n",
              "      <td>0.000039</td>\n",
              "      <td>0.000424</td>\n",
              "      <td>0.000366</td>\n",
              "      <td>0.002324</td>\n",
              "      <td>0.006020</td>\n",
              "      <td>0.017274</td>\n",
              "      <td>0.001339</td>\n",
              "      <td>0.000154</td>\n",
              "      <td>45085.000000</td>\n",
              "      <td>45085.000000</td>\n",
              "      <td>0.466500</td>\n",
              "      <td>0.030800</td>\n",
              "    </tr>\n",
              "    <tr>\n",
              "      <th>max</th>\n",
              "      <td>9999.0</td>\n",
              "      <td>1.0</td>\n",
              "      <td>4.0</td>\n",
              "      <td>3176.000000</td>\n",
              "      <td>56.000000</td>\n",
              "      <td>840.000000</td>\n",
              "      <td>1.012150e+07</td>\n",
              "      <td>1.012150e+07</td>\n",
              "      <td>152.000000</td>\n",
              "      <td>138.000000</td>\n",
              "      <td>100.000000</td>\n",
              "      <td>0.024124</td>\n",
              "      <td>0.139900</td>\n",
              "      <td>0.001445</td>\n",
              "      <td>0.005473</td>\n",
              "      <td>0.005952</td>\n",
              "      <td>0.019474</td>\n",
              "      <td>0.037390</td>\n",
              "      <td>0.100627</td>\n",
              "      <td>0.011123</td>\n",
              "      <td>0.003448</td>\n",
              "      <td>56045.000000</td>\n",
              "      <td>56045.000000</td>\n",
              "      <td>0.597600</td>\n",
              "      <td>0.145300</td>\n",
              "    </tr>\n",
              "  </tbody>\n",
              "</table>\n",
              "</div>"
            ],
            "text/plain": [
              "       STUDYNO  EDITION  ...  Estimate; Gini Index  Margin of Error; Gini Index\n",
              "count   3129.0   3129.0  ...           3129.000000                  3129.000000\n",
              "mean    9999.0      1.0  ...              0.444994                     0.024402\n",
              "std        0.0      0.0  ...              0.035458                     0.015315\n",
              "min     9999.0      1.0  ...              0.339000                     0.001500\n",
              "25%     9999.0      1.0  ...              0.421300                     0.014000\n",
              "50%     9999.0      1.0  ...              0.442400                     0.021400\n",
              "75%     9999.0      1.0  ...              0.466500                     0.030800\n",
              "max     9999.0      1.0  ...              0.597600                     0.145300\n",
              "\n",
              "[8 rows x 25 columns]"
            ]
          },
          "metadata": {
            "tags": []
          },
          "execution_count": 30
        }
      ]
    },
    {
      "cell_type": "code",
      "metadata": {
        "id": "nWAhpo3rfvRQ",
        "colab_type": "code",
        "outputId": "03c84f17-809b-4881-d353-a4bedfc20e7a",
        "colab": {
          "base_uri": "https://localhost:8080/",
          "height": 454
        }
      },
      "source": [
        "corr = arrest_by_ineq.corr()\n",
        "corr.sort_values('Estimate; Gini Index')['Estimate; Gini Index']"
      ],
      "execution_count": 22,
      "outputs": [
        {
          "output_type": "execute_result",
          "data": {
            "text/plain": [
              "FIPS_ST                       -0.055760\n",
              "Id2                           -0.055288\n",
              "FIPS                          -0.055288\n",
              "IDNO                          -0.053920\n",
              "RAPE                           0.004323\n",
              "COVIND                         0.004652\n",
              "FIPS_CTY                       0.056378\n",
              "AG_OFF                         0.103482\n",
              "ARSON                          0.105689\n",
              "AG_ARRST                       0.131614\n",
              "CPOPCRIM                       0.145555\n",
              "CPOPARST                       0.147333\n",
              "MURDER                         0.178801\n",
              "MVTHEFT                        0.179110\n",
              "LARCENY                        0.211482\n",
              "AGASSLT                        0.224959\n",
              "Margin of Error; Gini Index    0.232536\n",
              "PROPERTY                       0.242230\n",
              "VIOL                           0.258775\n",
              "BURGLRY                        0.265313\n",
              "ROBBERY                        0.317500\n",
              "Estimate; Gini Index           1.000000\n",
              "STUDYNO                             NaN\n",
              "EDITION                             NaN\n",
              "PART                                NaN\n",
              "Name: Estimate; Gini Index, dtype: float64"
            ]
          },
          "metadata": {
            "tags": []
          },
          "execution_count": 22
        }
      ]
    },
    {
      "cell_type": "code",
      "metadata": {
        "id": "xlC8c9XEbBTp",
        "colab_type": "code",
        "colab": {}
      },
      "source": [
        "#y_ineq['Estimate; Gini Index'].corr(arrest_by_ineq['arrests_per_person'])"
      ],
      "execution_count": 0,
      "outputs": []
    },
    {
      "cell_type": "markdown",
      "metadata": {
        "id": "laLBXLsXtGa7",
        "colab_type": "text"
      },
      "source": [
        "##Predict adult_arrests on gini coefficient (Baseline)"
      ]
    },
    {
      "cell_type": "code",
      "metadata": {
        "id": "b71PircelKxT",
        "colab_type": "code",
        "colab": {}
      },
      "source": [
        "#X = arrest_by_ineq['Estimate; Gini Index'].values.reshape(-1, 1)\n",
        "#y = arrest_by_ineq['arrests_per_person'].values.reshape(-1, 1)"
      ],
      "execution_count": 0,
      "outputs": []
    },
    {
      "cell_type": "code",
      "metadata": {
        "id": "YpOhVb7v4sF3",
        "colab_type": "code",
        "outputId": "36fd45db-a291-4028-f901-b6d3ea19a725",
        "colab": {
          "base_uri": "https://localhost:8080/",
          "height": 229
        }
      },
      "source": [
        "#mean baseline\n",
        "y_baseline = [y_train.mean()] * len(y_train)\n",
        "baseline_mae = mean_absolute_error(y_baseline, y_train)\n",
        "baseline_r2e = mean_squared_error(y_baseline, y_train)\n",
        "print(\"Baseline: \\n\",\n",
        "      \"MAE: \", baseline_mae, '\\n',\n",
        "      \"r^2 error: \", baseline_r2e, '\\n')"
      ],
      "execution_count": 25,
      "outputs": [
        {
          "output_type": "error",
          "ename": "NameError",
          "evalue": "ignored",
          "traceback": [
            "\u001b[0;31m---------------------------------------------------------------------------\u001b[0m",
            "\u001b[0;31mNameError\u001b[0m                                 Traceback (most recent call last)",
            "\u001b[0;32m<ipython-input-25-3e2db58102b0>\u001b[0m in \u001b[0;36m<module>\u001b[0;34m()\u001b[0m\n\u001b[0;32m----> 1\u001b[0;31m \u001b[0my_baseline\u001b[0m \u001b[0;34m=\u001b[0m \u001b[0;34m[\u001b[0m\u001b[0my_train\u001b[0m\u001b[0;34m.\u001b[0m\u001b[0mmean\u001b[0m\u001b[0;34m(\u001b[0m\u001b[0;34m)\u001b[0m\u001b[0;34m]\u001b[0m \u001b[0;34m*\u001b[0m \u001b[0mlen\u001b[0m\u001b[0;34m(\u001b[0m\u001b[0my_train\u001b[0m\u001b[0;34m)\u001b[0m\u001b[0;34m\u001b[0m\u001b[0;34m\u001b[0m\u001b[0m\n\u001b[0m\u001b[1;32m      2\u001b[0m \u001b[0mbaseline_mae\u001b[0m \u001b[0;34m=\u001b[0m \u001b[0mmean_absolute_error\u001b[0m\u001b[0;34m(\u001b[0m\u001b[0my_baseline\u001b[0m\u001b[0;34m,\u001b[0m \u001b[0my_train\u001b[0m\u001b[0;34m)\u001b[0m\u001b[0;34m\u001b[0m\u001b[0;34m\u001b[0m\u001b[0m\n\u001b[1;32m      3\u001b[0m \u001b[0mbaseline_r2e\u001b[0m \u001b[0;34m=\u001b[0m \u001b[0mmean_squared_error\u001b[0m\u001b[0;34m(\u001b[0m\u001b[0my_baseline\u001b[0m\u001b[0;34m,\u001b[0m \u001b[0my_train\u001b[0m\u001b[0;34m)\u001b[0m\u001b[0;34m\u001b[0m\u001b[0;34m\u001b[0m\u001b[0m\n\u001b[1;32m      4\u001b[0m print(\"Baseline: \\n\",\n\u001b[1;32m      5\u001b[0m       \u001b[0;34m\"MAE: \"\u001b[0m\u001b[0;34m,\u001b[0m \u001b[0mbaseline_mae\u001b[0m\u001b[0;34m,\u001b[0m \u001b[0;34m'\\n'\u001b[0m\u001b[0;34m,\u001b[0m\u001b[0;34m\u001b[0m\u001b[0;34m\u001b[0m\u001b[0m\n",
            "\u001b[0;31mNameError\u001b[0m: name 'y_train' is not defined"
          ]
        }
      ]
    },
    {
      "cell_type": "code",
      "metadata": {
        "id": "ZWrSFFr4l3Bt",
        "colab_type": "code",
        "colab": {}
      },
      "source": [
        "'''linear_regressor = LinearRegression()  # create object for the class\n",
        "linear_regressor.fit(X, y)  # perform linear regression\n",
        "y_pred = linear_regressor.predict(X)  # make predictions'''"
      ],
      "execution_count": 0,
      "outputs": []
    },
    {
      "cell_type": "code",
      "metadata": {
        "id": "e0DGM5hQnW2q",
        "colab_type": "code",
        "colab": {}
      },
      "source": [
        "#mean_squared_error(y, y_pred)"
      ],
      "execution_count": 0,
      "outputs": []
    },
    {
      "cell_type": "code",
      "metadata": {
        "id": "aYNDwIHTmP_i",
        "colab_type": "code",
        "colab": {}
      },
      "source": [
        "'''%matplotlib inline\n",
        "plt.scatter(X, y)\n",
        "plt.plot(X, y_pred, color='red')\n",
        "plt.show()'''"
      ],
      "execution_count": 0,
      "outputs": []
    },
    {
      "cell_type": "markdown",
      "metadata": {
        "id": "5aHoEdrxpeK1",
        "colab_type": "text"
      },
      "source": [
        "#Predict Gini on Reported crime types  "
      ]
    },
    {
      "cell_type": "code",
      "metadata": {
        "id": "6bmFy_FRppos",
        "colab_type": "code",
        "colab": {}
      },
      "source": [
        "reported_crimes = ['VIOL', 'PROPERTY', 'MURDER', 'RAPE', \n",
        "               'ROBBERY', 'AGASSLT', 'BURGLRY', 'LARCENY', \n",
        "               'MVTHEFT','ARSON']\n",
        "\n",
        "y = arrest_by_ineq['Estimate; Gini Index']\n",
        "X = arrest_by_ineq[reported_crimes]"
      ],
      "execution_count": 0,
      "outputs": []
    },
    {
      "cell_type": "code",
      "metadata": {
        "id": "VHLpdKuFrtwW",
        "colab_type": "code",
        "colab": {}
      },
      "source": [
        "#Train/Test Split\n",
        "X_train, X_test, y_train, y_test = train_test_split(\n",
        "...     X, y, test_size=0.3, random_state=42)"
      ],
      "execution_count": 0,
      "outputs": []
    },
    {
      "cell_type": "code",
      "metadata": {
        "id": "EJYdZR1mr9wJ",
        "colab_type": "code",
        "colab": {}
      },
      "source": [
        "model = RandomForestRegressor(criterion='mae', n_estimators=100)\n",
        "model.fit(X_train, y_train)\n",
        "y_pred = model.predict(X_train)"
      ],
      "execution_count": 0,
      "outputs": []
    },
    {
      "cell_type": "code",
      "metadata": {
        "id": "fysuSDcss78u",
        "colab_type": "code",
        "colab": {}
      },
      "source": [
        "mean_absolute_error(y_train, y_pred)"
      ],
      "execution_count": 0,
      "outputs": []
    },
    {
      "cell_type": "code",
      "metadata": {
        "id": "dsz8mO7Hc4_0",
        "colab_type": "code",
        "colab": {}
      },
      "source": [
        "y_train.describe()"
      ],
      "execution_count": 0,
      "outputs": []
    },
    {
      "cell_type": "code",
      "metadata": {
        "id": "3WX80Z4v6BYi",
        "colab_type": "code",
        "colab": {}
      },
      "source": [
        "mean_squared_error(y_train, y_pred)"
      ],
      "execution_count": 0,
      "outputs": []
    },
    {
      "cell_type": "markdown",
      "metadata": {
        "id": "WA8_GLYZtW-X",
        "colab_type": "text"
      },
      "source": [
        "##CV Scores"
      ]
    },
    {
      "cell_type": "code",
      "metadata": {
        "id": "8D-kx-axtZOh",
        "colab_type": "code",
        "colab": {}
      },
      "source": [
        "scores = cross_val_score(model, X_train, y_train, cv=5)\n",
        "#np.mean(scores)\n",
        "scores"
      ],
      "execution_count": 0,
      "outputs": []
    },
    {
      "cell_type": "code",
      "metadata": {
        "id": "Jof02oZoRmbV",
        "colab_type": "code",
        "colab": {}
      },
      "source": [
        "mean_absolute_error(model.predict(X_test), y_test)"
      ],
      "execution_count": 0,
      "outputs": []
    },
    {
      "cell_type": "markdown",
      "metadata": {
        "id": "uaJz23rBqVte",
        "colab_type": "text"
      },
      "source": [
        "##Train, optomize, validate model"
      ]
    },
    {
      "cell_type": "markdown",
      "metadata": {
        "id": "l_HSPs2BqdJ2",
        "colab_type": "text"
      },
      "source": [
        "##Interpret feature importances"
      ]
    },
    {
      "cell_type": "code",
      "metadata": {
        "id": "5-MI1QG5cSta",
        "colab_type": "code",
        "colab": {}
      },
      "source": [
        "X_train.head()"
      ],
      "execution_count": 0,
      "outputs": []
    },
    {
      "cell_type": "code",
      "metadata": {
        "id": "ZEmLyT_ybdm1",
        "colab_type": "code",
        "colab": {}
      },
      "source": [
        "permuter = PermutationImportance(\n",
        "    model,\n",
        "    n_iter=2,\n",
        "    random_state=42\n",
        ")\n",
        "\n",
        "permuter.fit(X_train, y_train)\n",
        "feature_names = X_train.columns.tolist()\n",
        "\n",
        "eli5.show_weights(\n",
        "    permuter,\n",
        "    top=None,\n",
        "    feature_names = feature_names\n",
        ")"
      ],
      "execution_count": 0,
      "outputs": []
    },
    {
      "cell_type": "markdown",
      "metadata": {
        "id": "GrQ7y3A_dxpw",
        "colab_type": "text"
      },
      "source": [
        "#Predict and graph particular crime rate against gini, to show elbow"
      ]
    },
    {
      "cell_type": "markdown",
      "metadata": {
        "id": "Z3rFmBFWgLGq",
        "colab_type": "text"
      },
      "source": [
        ""
      ]
    },
    {
      "cell_type": "markdown",
      "metadata": {
        "id": "TKktfEnFVqqK",
        "colab_type": "text"
      },
      "source": [
        "#Additional Questions:  \n"
      ]
    },
    {
      "cell_type": "markdown",
      "metadata": {
        "id": "QiH_uzsRwZrd",
        "colab_type": "text"
      },
      "source": [
        "##Correlation between income metric and trend in adult_arrests rate?  \n",
        "positive feedback loop?"
      ]
    },
    {
      "cell_type": "markdown",
      "metadata": {
        "id": "2DsWWDd0VxGA",
        "colab_type": "text"
      },
      "source": [
        "##Mean/Median income predictive of type of crime?"
      ]
    },
    {
      "cell_type": "markdown",
      "metadata": {
        "id": "9dNNolD2Qnbv",
        "colab_type": "text"
      },
      "source": [
        "#TODO \n",
        "11/16/19:  \n",
        "Merge relevant adult_arrests data.  \n",
        "Collapse by county.  \n"
      ]
    }
  ]
}